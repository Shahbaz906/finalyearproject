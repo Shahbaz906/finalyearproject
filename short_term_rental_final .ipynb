{
 "cells": [
  {
   "cell_type": "code",
   "execution_count": null,
   "id": "3289c00a",
   "metadata": {},
   "outputs": [],
   "source": [
    "#pip install numpy\n",
    "#pip install seaborn\n",
    "#pip install panda\n",
    "#pip install matplotlib\n",
    "#pip install scikit-learn\n",
    "#pip install plotly\n",
    "#pip install print_function"
   ]
  },
  {
   "cell_type": "code",
   "execution_count": 61,
   "id": "303dd1b3",
   "metadata": {},
   "outputs": [],
   "source": [
    "# Importing the libraries\n",
    "import numpy as np\n",
    "import seaborn as sns\n",
    "import pandas as pd\n",
    "import matplotlib as mpl\n",
    "import matplotlib.pyplot as plt\n",
    "import plotly.graph_objects as go\n",
    "from sklearn.decomposition import PCA\n",
    "from sklearn.decomposition import PCA\n",
    "from sklearn.preprocessing import StandardScaler\n",
    "from sklearn.linear_model import LinearRegression, Lasso, Ridge, ElasticNet\n",
    "from sklearn.metrics import mean_squared_error\n",
    "from sklearn.preprocessing import PolynomialFeatures, MinMaxScaler, LabelEncoder\n",
    "from sklearn.metrics import r2_score\n",
    "from sklearn.model_selection import train_test_split\n",
    "from sklearn.feature_selection import RFE\n",
    "from sklearn.ensemble import ExtraTreesRegressor\n",
    "\n",
    "#adds compatibility with new versions of Python\n",
    "from __future__  import print_function \n",
    "%matplotlib inline \n",
    "\n",
    "#it needs to have two underscore for 'future', if not it thorws an error: \n",
    "#ModuleNotFoundError: No module named '_future_'\n",
    "\n",
    "import warnings\n",
    "warnings.filterwarnings(\"ignore\") #This command ignores the warning \n"
   ]
  },
  {
   "cell_type": "markdown",
   "id": "de81139b",
   "metadata": {},
   "source": [
    "Intro"
   ]
  },
  {
   "cell_type": "markdown",
   "id": "6a612ad0",
   "metadata": {},
   "source": [
    "- EDA to be done using and merging the first 5 datasets, needs to be cleaned, wrangled and adjusted accordingly. \n",
    "- Some of the datasets are for trends and whether or not features influence reviews that influence occupancy that generates higher ROI. \n",
    "- The dataset for ML is the last one, it is a sample data of Dublin, we want to identify the occupancy rate in the future. "
   ]
  },
  {
   "cell_type": "markdown",
   "id": "0a278aae",
   "metadata": {},
   "source": [
    "Data Analysis and Cleaning "
   ]
  },
  {
   "cell_type": "markdown",
   "id": "34c41434",
   "metadata": {},
   "source": [
    "- Dataset 1: Listing"
   ]
  },
  {
   "cell_type": "code",
   "execution_count": null,
   "id": "e8c9c6fc",
   "metadata": {},
   "outputs": [],
   "source": [
    "#Importing the dataset #1\n",
    "#The dataset chosen for this project is listings for Airbnb \n",
    "listing = pd.read_csv('listings.csv')"
   ]
  },
  {
   "cell_type": "code",
   "execution_count": 40,
   "id": "9b0931ac",
   "metadata": {},
   "outputs": [
    {
     "data": {
      "text/html": [
       "<div>\n",
       "<style scoped>\n",
       "    .dataframe tbody tr th:only-of-type {\n",
       "        vertical-align: middle;\n",
       "    }\n",
       "\n",
       "    .dataframe tbody tr th {\n",
       "        vertical-align: top;\n",
       "    }\n",
       "\n",
       "    .dataframe thead th {\n",
       "        text-align: right;\n",
       "    }\n",
       "</style>\n",
       "<table border=\"1\" class=\"dataframe\">\n",
       "  <thead>\n",
       "    <tr style=\"text-align: right;\">\n",
       "      <th></th>\n",
       "      <th>name</th>\n",
       "      <th>host_id</th>\n",
       "      <th>neighbourhood_group</th>\n",
       "      <th>neighbourhood</th>\n",
       "      <th>latitude</th>\n",
       "      <th>longitude</th>\n",
       "      <th>room_type</th>\n",
       "      <th>price</th>\n",
       "      <th>minimum_nights</th>\n",
       "      <th>number_of_reviews</th>\n",
       "      <th>reviews_per_month</th>\n",
       "      <th>calculated_host_listings_count</th>\n",
       "      <th>availability_365</th>\n",
       "      <th>number_of_reviews_ltm</th>\n",
       "      <th>license</th>\n",
       "    </tr>\n",
       "  </thead>\n",
       "  <tbody>\n",
       "    <tr>\n",
       "      <th>0</th>\n",
       "      <td>cosy comfortable Irish cottage twin</td>\n",
       "      <td>193005</td>\n",
       "      <td>NaN</td>\n",
       "      <td>Dn Laoghaire-Rathdown</td>\n",
       "      <td>53.29178</td>\n",
       "      <td>-6.25792</td>\n",
       "      <td>Private room</td>\n",
       "      <td>65</td>\n",
       "      <td>3</td>\n",
       "      <td>227</td>\n",
       "      <td>1.74</td>\n",
       "      <td>3</td>\n",
       "      <td>233</td>\n",
       "      <td>0</td>\n",
       "      <td>NaN</td>\n",
       "    </tr>\n",
       "    <tr>\n",
       "      <th>1</th>\n",
       "      <td>Habitación en Dublín Double room</td>\n",
       "      <td>466111</td>\n",
       "      <td>NaN</td>\n",
       "      <td>South Dublin</td>\n",
       "      <td>53.29885</td>\n",
       "      <td>-6.31850</td>\n",
       "      <td>Private room</td>\n",
       "      <td>30</td>\n",
       "      <td>1</td>\n",
       "      <td>1</td>\n",
       "      <td>0.03</td>\n",
       "      <td>1</td>\n",
       "      <td>99</td>\n",
       "      <td>0</td>\n",
       "      <td>NaN</td>\n",
       "    </tr>\n",
       "    <tr>\n",
       "      <th>2</th>\n",
       "      <td>Cosy Comfortable Irish Cottage  1 Double Bed</td>\n",
       "      <td>193005</td>\n",
       "      <td>NaN</td>\n",
       "      <td>Dn Laoghaire-Rathdown</td>\n",
       "      <td>53.29209</td>\n",
       "      <td>-6.25624</td>\n",
       "      <td>Private room</td>\n",
       "      <td>61</td>\n",
       "      <td>3</td>\n",
       "      <td>182</td>\n",
       "      <td>1.42</td>\n",
       "      <td>3</td>\n",
       "      <td>323</td>\n",
       "      <td>0</td>\n",
       "      <td>NaN</td>\n",
       "    </tr>\n",
       "    <tr>\n",
       "      <th>3</th>\n",
       "      <td>Friendly Single Room</td>\n",
       "      <td>766611</td>\n",
       "      <td>NaN</td>\n",
       "      <td>Dublin City</td>\n",
       "      <td>53.39027</td>\n",
       "      <td>-6.23547</td>\n",
       "      <td>Private room</td>\n",
       "      <td>40</td>\n",
       "      <td>2</td>\n",
       "      <td>316</td>\n",
       "      <td>2.67</td>\n",
       "      <td>3</td>\n",
       "      <td>324</td>\n",
       "      <td>5</td>\n",
       "      <td>NaN</td>\n",
       "    </tr>\n",
       "    <tr>\n",
       "      <th>4</th>\n",
       "      <td>5.5 miles south of Dublin City :^)</td>\n",
       "      <td>777681</td>\n",
       "      <td>NaN</td>\n",
       "      <td>Dn Laoghaire-Rathdown</td>\n",
       "      <td>53.28326</td>\n",
       "      <td>-6.19188</td>\n",
       "      <td>Private room</td>\n",
       "      <td>65</td>\n",
       "      <td>1</td>\n",
       "      <td>288</td>\n",
       "      <td>3.62</td>\n",
       "      <td>2</td>\n",
       "      <td>114</td>\n",
       "      <td>4</td>\n",
       "      <td>NaN</td>\n",
       "    </tr>\n",
       "  </tbody>\n",
       "</table>\n",
       "</div>"
      ],
      "text/plain": [
       "                                           name  host_id  neighbourhood_group  \\\n",
       "0           cosy comfortable Irish cottage twin   193005                  NaN   \n",
       "1              Habitación en Dublín Double room   466111                  NaN   \n",
       "2  Cosy Comfortable Irish Cottage  1 Double Bed   193005                  NaN   \n",
       "3                          Friendly Single Room   766611                  NaN   \n",
       "4            5.5 miles south of Dublin City :^)   777681                  NaN   \n",
       "\n",
       "           neighbourhood  latitude  longitude     room_type  price  \\\n",
       "0  Dn Laoghaire-Rathdown  53.29178   -6.25792  Private room     65   \n",
       "1           South Dublin  53.29885   -6.31850  Private room     30   \n",
       "2  Dn Laoghaire-Rathdown  53.29209   -6.25624  Private room     61   \n",
       "3            Dublin City  53.39027   -6.23547  Private room     40   \n",
       "4  Dn Laoghaire-Rathdown  53.28326   -6.19188  Private room     65   \n",
       "\n",
       "   minimum_nights  number_of_reviews  reviews_per_month  \\\n",
       "0               3                227               1.74   \n",
       "1               1                  1               0.03   \n",
       "2               3                182               1.42   \n",
       "3               2                316               2.67   \n",
       "4               1                288               3.62   \n",
       "\n",
       "   calculated_host_listings_count  availability_365  number_of_reviews_ltm  \\\n",
       "0                               3               233                      0   \n",
       "1                               1                99                      0   \n",
       "2                               3               323                      0   \n",
       "3                               3               324                      5   \n",
       "4                               2               114                      4   \n",
       "\n",
       "   license  \n",
       "0      NaN  \n",
       "1      NaN  \n",
       "2      NaN  \n",
       "3      NaN  \n",
       "4      NaN  "
      ]
     },
     "execution_count": 40,
     "metadata": {},
     "output_type": "execute_result"
    }
   ],
   "source": [
    "#View dataset head and tail\n",
    "listing.head()"
   ]
  },
  {
   "cell_type": "code",
   "execution_count": null,
   "id": "5d7cbec9",
   "metadata": {},
   "outputs": [],
   "source": [
    "listing.tail()"
   ]
  },
  {
   "cell_type": "code",
   "execution_count": 45,
   "id": "3a55ab3b",
   "metadata": {},
   "outputs": [
    {
     "data": {
      "text/plain": [
       "(6977, 15)"
      ]
     },
     "execution_count": 45,
     "metadata": {},
     "output_type": "execute_result"
    }
   ],
   "source": [
    "listing.shape"
   ]
  },
  {
   "cell_type": "code",
   "execution_count": 55,
   "id": "a236b013",
   "metadata": {},
   "outputs": [
    {
     "name": "stdout",
     "output_type": "stream",
     "text": [
      "<class 'pandas.core.frame.DataFrame'>\n",
      "Int64Index: 6977 entries, 0 to 6976\n",
      "Data columns (total 15 columns):\n",
      " #   Column                          Non-Null Count  Dtype  \n",
      "---  ------                          --------------  -----  \n",
      " 0   description                     6977 non-null   object \n",
      " 1   host_id                         6977 non-null   int64  \n",
      " 2   neighbourhood_group             0 non-null      float64\n",
      " 3   neighbourhood                   6977 non-null   object \n",
      " 4   latitude                        6977 non-null   float64\n",
      " 5   longitude                       6977 non-null   float64\n",
      " 6   room_type                       6977 non-null   object \n",
      " 7   price                           6977 non-null   int64  \n",
      " 8   minimum_nights                  6977 non-null   int64  \n",
      " 9   number_of_reviews               6977 non-null   int64  \n",
      " 10  reviews_per_month               6977 non-null   float64\n",
      " 11  calculated_host_listings_count  6977 non-null   int64  \n",
      " 12  availability_365                6977 non-null   int64  \n",
      " 13  number_of_reviews_ltm           6977 non-null   int64  \n",
      " 14  license                         6977 non-null   float64\n",
      "dtypes: float64(5), int64(7), object(3)\n",
      "memory usage: 872.1+ KB\n"
     ]
    }
   ],
   "source": [
    "listing.info()"
   ]
  },
  {
   "cell_type": "code",
   "execution_count": null,
   "id": "c85a5b0b",
   "metadata": {},
   "outputs": [],
   "source": [
    "#Print quick summary of the dataset statistics\n",
    "listing.describe()"
   ]
  },
  {
   "cell_type": "code",
   "execution_count": 51,
   "id": "a25eea51",
   "metadata": {},
   "outputs": [
    {
     "data": {
      "text/plain": [
       "description                          0\n",
       "host_id                              0\n",
       "neighbourhood_group               6977\n",
       "neighbourhood                        0\n",
       "latitude                             0\n",
       "longitude                            0\n",
       "room_type                            0\n",
       "price                                0\n",
       "minimum_nights                       0\n",
       "number_of_reviews                    0\n",
       "reviews_per_month                    0\n",
       "calculated_host_listings_count       0\n",
       "availability_365                     0\n",
       "number_of_reviews_ltm                0\n",
       "license                              0\n",
       "dtype: int64"
      ]
     },
     "execution_count": 51,
     "metadata": {},
     "output_type": "execute_result"
    }
   ],
   "source": [
    "#Check for null values\n",
    "listing.isnull().sum()"
   ]
  },
  {
   "cell_type": "code",
   "execution_count": 72,
   "id": "9371fb4f",
   "metadata": {},
   "outputs": [
    {
     "data": {
      "text/html": [
       "<div>\n",
       "<style scoped>\n",
       "    .dataframe tbody tr th:only-of-type {\n",
       "        vertical-align: middle;\n",
       "    }\n",
       "\n",
       "    .dataframe tbody tr th {\n",
       "        vertical-align: top;\n",
       "    }\n",
       "\n",
       "    .dataframe thead th {\n",
       "        text-align: right;\n",
       "    }\n",
       "</style>\n",
       "<table border=\"1\" class=\"dataframe\">\n",
       "  <thead>\n",
       "    <tr style=\"text-align: right;\">\n",
       "      <th></th>\n",
       "      <th>description</th>\n",
       "      <th>host_id</th>\n",
       "      <th>neighbourhood_group</th>\n",
       "      <th>neighbourhood</th>\n",
       "      <th>latitude</th>\n",
       "      <th>longitude</th>\n",
       "      <th>room_type</th>\n",
       "      <th>price</th>\n",
       "      <th>minimum_nights</th>\n",
       "      <th>number_of_reviews</th>\n",
       "      <th>reviews_per_month</th>\n",
       "      <th>calculated_host_listings_count</th>\n",
       "      <th>availability_365</th>\n",
       "      <th>number_of_reviews_ltm</th>\n",
       "      <th>license</th>\n",
       "    </tr>\n",
       "  </thead>\n",
       "  <tbody>\n",
       "    <tr>\n",
       "      <th>0</th>\n",
       "      <td>cosy comfortable Irish cottage twin</td>\n",
       "      <td>193005</td>\n",
       "      <td>NaN</td>\n",
       "      <td>Dn Laoghaire-Rathdown</td>\n",
       "      <td>53.29178</td>\n",
       "      <td>-6.25792</td>\n",
       "      <td>Private room</td>\n",
       "      <td>65</td>\n",
       "      <td>3</td>\n",
       "      <td>227</td>\n",
       "      <td>1.74</td>\n",
       "      <td>3</td>\n",
       "      <td>233</td>\n",
       "      <td>0</td>\n",
       "      <td>0.0</td>\n",
       "    </tr>\n",
       "    <tr>\n",
       "      <th>1</th>\n",
       "      <td>Habitación en Dublín Double room</td>\n",
       "      <td>466111</td>\n",
       "      <td>NaN</td>\n",
       "      <td>South Dublin</td>\n",
       "      <td>53.29885</td>\n",
       "      <td>-6.31850</td>\n",
       "      <td>Private room</td>\n",
       "      <td>30</td>\n",
       "      <td>1</td>\n",
       "      <td>1</td>\n",
       "      <td>0.03</td>\n",
       "      <td>1</td>\n",
       "      <td>99</td>\n",
       "      <td>0</td>\n",
       "      <td>0.0</td>\n",
       "    </tr>\n",
       "    <tr>\n",
       "      <th>2</th>\n",
       "      <td>Cosy Comfortable Irish Cottage  1 Double Bed</td>\n",
       "      <td>193005</td>\n",
       "      <td>NaN</td>\n",
       "      <td>Dn Laoghaire-Rathdown</td>\n",
       "      <td>53.29209</td>\n",
       "      <td>-6.25624</td>\n",
       "      <td>Private room</td>\n",
       "      <td>61</td>\n",
       "      <td>3</td>\n",
       "      <td>182</td>\n",
       "      <td>1.42</td>\n",
       "      <td>3</td>\n",
       "      <td>323</td>\n",
       "      <td>0</td>\n",
       "      <td>0.0</td>\n",
       "    </tr>\n",
       "    <tr>\n",
       "      <th>3</th>\n",
       "      <td>Friendly Single Room</td>\n",
       "      <td>766611</td>\n",
       "      <td>NaN</td>\n",
       "      <td>Dublin City</td>\n",
       "      <td>53.39027</td>\n",
       "      <td>-6.23547</td>\n",
       "      <td>Private room</td>\n",
       "      <td>40</td>\n",
       "      <td>2</td>\n",
       "      <td>316</td>\n",
       "      <td>2.67</td>\n",
       "      <td>3</td>\n",
       "      <td>324</td>\n",
       "      <td>5</td>\n",
       "      <td>0.0</td>\n",
       "    </tr>\n",
       "    <tr>\n",
       "      <th>4</th>\n",
       "      <td>5.5 miles south of Dublin City :^)</td>\n",
       "      <td>777681</td>\n",
       "      <td>NaN</td>\n",
       "      <td>Dn Laoghaire-Rathdown</td>\n",
       "      <td>53.28326</td>\n",
       "      <td>-6.19188</td>\n",
       "      <td>Private room</td>\n",
       "      <td>65</td>\n",
       "      <td>1</td>\n",
       "      <td>288</td>\n",
       "      <td>3.62</td>\n",
       "      <td>2</td>\n",
       "      <td>114</td>\n",
       "      <td>4</td>\n",
       "      <td>0.0</td>\n",
       "    </tr>\n",
       "  </tbody>\n",
       "</table>\n",
       "</div>"
      ],
      "text/plain": [
       "                                    description  host_id  neighbourhood_group  \\\n",
       "0           cosy comfortable Irish cottage twin   193005                  NaN   \n",
       "1              Habitación en Dublín Double room   466111                  NaN   \n",
       "2  Cosy Comfortable Irish Cottage  1 Double Bed   193005                  NaN   \n",
       "3                          Friendly Single Room   766611                  NaN   \n",
       "4            5.5 miles south of Dublin City :^)   777681                  NaN   \n",
       "\n",
       "           neighbourhood  latitude  longitude     room_type  price  \\\n",
       "0  Dn Laoghaire-Rathdown  53.29178   -6.25792  Private room     65   \n",
       "1           South Dublin  53.29885   -6.31850  Private room     30   \n",
       "2  Dn Laoghaire-Rathdown  53.29209   -6.25624  Private room     61   \n",
       "3            Dublin City  53.39027   -6.23547  Private room     40   \n",
       "4  Dn Laoghaire-Rathdown  53.28326   -6.19188  Private room     65   \n",
       "\n",
       "   minimum_nights  number_of_reviews  reviews_per_month  \\\n",
       "0               3                227               1.74   \n",
       "1               1                  1               0.03   \n",
       "2               3                182               1.42   \n",
       "3               2                316               2.67   \n",
       "4               1                288               3.62   \n",
       "\n",
       "   calculated_host_listings_count  availability_365  number_of_reviews_ltm  \\\n",
       "0                               3               233                      0   \n",
       "1                               1                99                      0   \n",
       "2                               3               323                      0   \n",
       "3                               3               324                      5   \n",
       "4                               2               114                      4   \n",
       "\n",
       "   license  \n",
       "0      0.0  \n",
       "1      0.0  \n",
       "2      0.0  \n",
       "3      0.0  \n",
       "4      0.0  "
      ]
     },
     "execution_count": 72,
     "metadata": {},
     "output_type": "execute_result"
    }
   ],
   "source": [
    "#Replacing all NaN values with 0\n",
    "listing.fillna({'license':0}, inplace=True)\n",
    "listing.fillna({'description':0}, inplace=True)\n",
    "listing.fillna({'reviews_per_month':0}, inplace=True)\n",
    "listing.head()"
   ]
  },
  {
   "cell_type": "code",
   "execution_count": null,
   "id": "078f3803",
   "metadata": {},
   "outputs": [],
   "source": [
    "# Drop the data that are not of interest and/or causing privacy issues\n",
    "listing.drop(['id','name','host_name','last_review'], axis=1, inplace=True)\n",
    "# Visualize the first 5 rows\n",
    "listing.head()"
   ]
  },
  {
   "cell_type": "code",
   "execution_count": null,
   "id": "8ddb3751",
   "metadata": {},
   "outputs": [],
   "source": [
    "# Set up color blind friendly color palette\n",
    "# The palette with grey:\n",
    "cbPalette = [\"#999999\", \"#E69F00\", \"#56B4E9\", \"#009E73\", \"#F0E442\", \"#0072B2\", \"#D55E00\", \"#CC79A7\"]\n",
    "# The palette with black:\n",
    "cbbPalette = [\"#000000\", \"#E69F00\", \"#56B4E9\", \"#009E73\", \"#F0E442\", \"#0072B2\", \"#D55E00\", \"#CC79A7\"]\n",
    "\n",
    "# sns.palplot(sns.color_palette(cbPalette))\n",
    "# sns.palplot(sns.color_palette(cbbPalette))\n",
    "\n",
    "sns.set_palette(cbPalette)\n",
    "#sns.set_palette(cbbPalette)"
   ]
  },
  {
   "cell_type": "code",
   "execution_count": null,
   "id": "c324e794",
   "metadata": {},
   "outputs": [],
   "source": [
    "title = 'Properties per Neighbourhood'\n",
    "sns.countplot(listing['neighbourhood'])\n",
    "plt.title(title)\n",
    "plt.ioff()"
   ]
  },
  {
   "cell_type": "code",
   "execution_count": null,
   "id": "a7ac045c",
   "metadata": {},
   "outputs": [],
   "source": [
    "title = 'Properties per Room Type'\n",
    "sns.countplot(listing['room_type'])\n",
    "plt.title(title)\n",
    "plt.ioff()"
   ]
  },
  {
   "cell_type": "code",
   "execution_count": null,
   "id": "cfd9f393",
   "metadata": {},
   "outputs": [],
   "source": [
    "plt.figure(figsize=(20,10))\n",
    "title = 'Correlation matrix of numerical variables'\n",
    "sns.heatmap(listing.corr(), square=True, cmap='RdYlGn')\n",
    "plt.title(title)\n",
    "plt.ioff()"
   ]
  },
  {
   "cell_type": "code",
   "execution_count": null,
   "id": "9ceb5244",
   "metadata": {},
   "outputs": [],
   "source": [
    "title = 'Neighbourhood Group Location'\n",
    "plt.figure(figsize=(10,6))\n",
    "sns.scatterplot(listing.longitude,listing.latitude,hue=listing.neighbourhood_group).set_title(title)\n",
    "plt.ioff()\n",
    "\n",
    "title = 'Room type location per Neighbourhood Group'\n",
    "plt.figure(figsize=(10,6))\n",
    "sns.scatterplot(listing.longitude,listing.latitude,hue=listing.room_type).set_title(title)\n",
    "plt.ioff()"
   ]
  },
  {
   "cell_type": "code",
   "execution_count": null,
   "id": "944e35d6",
   "metadata": {},
   "outputs": [],
   "source": [
    "#Find correlations between data\n",
    "corr = listings.corr()"
   ]
  },
  {
   "cell_type": "code",
   "execution_count": null,
   "id": "9dbce7b9",
   "metadata": {},
   "outputs": [],
   "source": [
    "corr.style.background_gradient(cmap = 'coolwarm')"
   ]
  },
  {
   "cell_type": "markdown",
   "id": "8016d718",
   "metadata": {},
   "source": [
    "- Dataset 2: Review"
   ]
  },
  {
   "cell_type": "code",
   "execution_count": null,
   "id": "537122ac",
   "metadata": {},
   "outputs": [],
   "source": [
    "#Importing the dataset #2\n",
    "#The dataset chosen for this project is reviews for Airbnb \n",
    "review = pd.read_csv('reviews.csv')"
   ]
  },
  {
   "cell_type": "code",
   "execution_count": null,
   "id": "dc181041",
   "metadata": {},
   "outputs": [],
   "source": [
    "#View dataset head and tail\n",
    "review.head()"
   ]
  },
  {
   "cell_type": "code",
   "execution_count": null,
   "id": "27fd8bd6",
   "metadata": {},
   "outputs": [],
   "source": [
    "review.tail()"
   ]
  },
  {
   "cell_type": "code",
   "execution_count": null,
   "id": "f0d392da",
   "metadata": {},
   "outputs": [],
   "source": [
    "review.shape"
   ]
  },
  {
   "cell_type": "code",
   "execution_count": null,
   "id": "d583a3dc",
   "metadata": {},
   "outputs": [],
   "source": [
    "review.info()"
   ]
  },
  {
   "cell_type": "code",
   "execution_count": null,
   "id": "dadda3bf",
   "metadata": {},
   "outputs": [],
   "source": [
    "#Print quick summary of the dataset statistics\n",
    "review.describe()"
   ]
  },
  {
   "cell_type": "code",
   "execution_count": null,
   "id": "8a4db12c",
   "metadata": {},
   "outputs": [],
   "source": [
    "#Check for null values\n",
    "review.isnull().sum()"
   ]
  },
  {
   "cell_type": "code",
   "execution_count": null,
   "id": "0e718398",
   "metadata": {},
   "outputs": [],
   "source": [
    "#Replacing all NaN values with 0\n",
    "review.fillna({'comments':0}, inplace=True)"
   ]
  },
  {
   "cell_type": "code",
   "execution_count": null,
   "id": "92066e98",
   "metadata": {},
   "outputs": [],
   "source": [
    "#Check for null values\n",
    "review.isnull().sum()"
   ]
  },
  {
   "cell_type": "code",
   "execution_count": null,
   "id": "a9921fb7",
   "metadata": {},
   "outputs": [],
   "source": [
    "#Examine the dataset\n",
    "#(review[['Star Rating', 'o']]\n",
    "# .describe())"
   ]
  },
  {
   "cell_type": "code",
   "execution_count": null,
   "id": "1137de61",
   "metadata": {},
   "outputs": [],
   "source": [
    "review['date'].value_counts()"
   ]
  },
  {
   "cell_type": "code",
   "execution_count": null,
   "id": "724fd0af",
   "metadata": {},
   "outputs": [],
   "source": [
    "review.groupby('listing_id')['date'].value_counts()"
   ]
  },
  {
   "cell_type": "code",
   "execution_count": null,
   "id": "414519eb",
   "metadata": {},
   "outputs": [],
   "source": []
  },
  {
   "cell_type": "code",
   "execution_count": null,
   "id": "2d75d3b9",
   "metadata": {},
   "outputs": [],
   "source": []
  },
  {
   "cell_type": "markdown",
   "id": "bf4f374c",
   "metadata": {},
   "source": [
    "- Dataset 3: Calendar"
   ]
  },
  {
   "cell_type": "code",
   "execution_count": null,
   "id": "7f9d0da7",
   "metadata": {},
   "outputs": [],
   "source": [
    "#Importing the dataset # 3\n",
    "#The dataset chosen for this project is calendar for Airbnb\n",
    "calendar = pd.read_csv('calendar.csv')"
   ]
  },
  {
   "cell_type": "code",
   "execution_count": null,
   "id": "2ce01982",
   "metadata": {},
   "outputs": [],
   "source": [
    "# Muhammad to add his code here"
   ]
  },
  {
   "cell_type": "markdown",
   "id": "a762c6a8",
   "metadata": {},
   "source": [
    "- Dataset 4: airbnb-listing"
   ]
  },
  {
   "cell_type": "code",
   "execution_count": null,
   "id": "e755b249",
   "metadata": {},
   "outputs": [],
   "source": [
    "#Importing the dataset # 4\n",
    "#The dataset chosen for this project is the Dublin listings from OpenData \n",
    "airbnb_listing = pd.read_csv('airbnb-listings.csv', sep=\";\")\n",
    "\n",
    "#Muhammad to add his code here"
   ]
  },
  {
   "cell_type": "markdown",
   "id": "644f2daa",
   "metadata": {},
   "source": [
    "- Dataset 5: airbnb-opendata"
   ]
  },
  {
   "cell_type": "code",
   "execution_count": 70,
   "id": "128698bc",
   "metadata": {},
   "outputs": [],
   "source": [
    "#Importing the dataset # 5\n",
    "#The dataset chosen for this project is Dublin listings from OpenData \n",
    "airbnb_listing1 = pd.read_csv('airbnb-opendata.csv', sep=\";\")\n",
    "\n",
    "#Muhammad to add his code here"
   ]
  },
  {
   "cell_type": "markdown",
   "id": "36af9a47",
   "metadata": {},
   "source": [
    "- Dataset 6: Rate"
   ]
  },
  {
   "cell_type": "code",
   "execution_count": 71,
   "id": "c64cc585",
   "metadata": {},
   "outputs": [],
   "source": [
    "#Importing the dataset # 6\n",
    "#The dataset chosen for this project is Dublin rate from Airbtics \n",
    "rate = pd.read_csv('rate.csv')\n",
    "\n",
    "#This dataset is a sample, however it contains a lot of information that can be used for this project."
   ]
  },
  {
   "cell_type": "code",
   "execution_count": null,
   "id": "6c0a1403",
   "metadata": {},
   "outputs": [],
   "source": [
    "rate.head()"
   ]
  },
  {
   "cell_type": "code",
   "execution_count": null,
   "id": "f7c416ff",
   "metadata": {},
   "outputs": [],
   "source": [
    "rate.tail()"
   ]
  },
  {
   "cell_type": "code",
   "execution_count": 30,
   "id": "b93486e7",
   "metadata": {},
   "outputs": [],
   "source": [
    "#Based on the information on the dataset itself, the following column names were added. \n",
    "rate.columns = [\n",
    "    \"Listing URL\", \"Property Type\", \"Latitude\", \"Longitude\", \"Star Rating\", \"Number of Active Days\",\n",
    "    \"Bedrooms\", \"Has pool\", \"Cleaning Fee\", \"Extra Guest Fee\", \"Daily Rate (2020-11)\", \"Daily Rate (2020-12)\",\n",
    "    \"Daily Rate (2021-01)\", \"Daily Rate (2021-02)\", \"Daily Rate (2021-03)\", \"Daily Rate (2021-04)\",\n",
    "    \"Daily Rate (2021-05)\", \"Daily Rate (2021-06)\", \"Daily Rate (2021-07)\", \"Daily Rate (2021-08)\", \"Daily Rate (2021-09)\",\n",
    "    \"Daily Rate (2021-10)\", \"Occupancy Rate (2020-11)\", \"Occupancy Rate (2020-12)\", \"Occupancy Rate (2021-01)\",\n",
    "    \"Occupancy Rate (2021-02)\", \"Occupancy Rate (2021-03)\", \"Occupancy Rate (2021-04)\", \"Occupancy Rate (2021-05)\",\n",
    "    \"Occupancy Rate (2021-06)\", \"Occupancy Rate (2021-07)\", \"Occupancy Rate (2021-08)\", \"Occupancy Rate (2021-09)\",\n",
    "    \"Occupancy Rate (2021-10)\", \"Revenue (2020-11)\", \"Revenue (2020-12)\", \"Revenue (2021-01)\", \"Revenue (2021-02)\",\n",
    "    \"Revenue (2021-03)\", \"Revenue (2021-04)\", \"Revenue (2021-05)\", \"Revenue (2021-06)\", \"Revenue (2021-07)\",\n",
    "    \"Revenue (2021-08)\", \"Revenue (2021-09)\", \"Revenue (2021-10)\",\n",
    "]"
   ]
  },
  {
   "cell_type": "code",
   "execution_count": 31,
   "id": "ca0a23f4",
   "metadata": {},
   "outputs": [],
   "source": [
    "#Drop the two first rows.\n",
    "rate.drop(index=rate.index[0:2], \n",
    "        axis=0, \n",
    "        inplace=True)"
   ]
  },
  {
   "cell_type": "code",
   "execution_count": 35,
   "id": "76ffd2a1",
   "metadata": {
    "scrolled": true
   },
   "outputs": [
    {
     "data": {
      "text/html": [
       "<div>\n",
       "<style scoped>\n",
       "    .dataframe tbody tr th:only-of-type {\n",
       "        vertical-align: middle;\n",
       "    }\n",
       "\n",
       "    .dataframe tbody tr th {\n",
       "        vertical-align: top;\n",
       "    }\n",
       "\n",
       "    .dataframe thead th {\n",
       "        text-align: right;\n",
       "    }\n",
       "</style>\n",
       "<table border=\"1\" class=\"dataframe\">\n",
       "  <thead>\n",
       "    <tr style=\"text-align: right;\">\n",
       "      <th></th>\n",
       "      <th>Star Rating</th>\n",
       "      <th>Number of Active Days</th>\n",
       "      <th>Daily Rate (2020-12)</th>\n",
       "      <th>Occupancy Rate (2020-12)</th>\n",
       "      <th>Revenue (2020-12)</th>\n",
       "    </tr>\n",
       "  </thead>\n",
       "  <tbody>\n",
       "    <tr>\n",
       "      <th>count</th>\n",
       "      <td>3026</td>\n",
       "      <td>3026</td>\n",
       "      <td>3026</td>\n",
       "      <td>3026</td>\n",
       "      <td>3026</td>\n",
       "    </tr>\n",
       "    <tr>\n",
       "      <th>unique</th>\n",
       "      <td>26</td>\n",
       "      <td>13</td>\n",
       "      <td>512</td>\n",
       "      <td>102</td>\n",
       "      <td>1468</td>\n",
       "    </tr>\n",
       "    <tr>\n",
       "      <th>top</th>\n",
       "      <td>5</td>\n",
       "      <td>365</td>\n",
       "      <td>-1</td>\n",
       "      <td>-1</td>\n",
       "      <td>-1</td>\n",
       "    </tr>\n",
       "    <tr>\n",
       "      <th>freq</th>\n",
       "      <td>853</td>\n",
       "      <td>2126</td>\n",
       "      <td>371</td>\n",
       "      <td>600</td>\n",
       "      <td>603</td>\n",
       "    </tr>\n",
       "  </tbody>\n",
       "</table>\n",
       "</div>"
      ],
      "text/plain": [
       "       Star Rating Number of Active Days Daily Rate (2020-12)  \\\n",
       "count         3026                  3026                 3026   \n",
       "unique          26                    13                  512   \n",
       "top              5                   365                   -1   \n",
       "freq           853                  2126                  371   \n",
       "\n",
       "       Occupancy Rate (2020-12) Revenue (2020-12)  \n",
       "count                      3026              3026  \n",
       "unique                      102              1468  \n",
       "top                          -1                -1  \n",
       "freq                        600               603  "
      ]
     },
     "execution_count": 35,
     "metadata": {},
     "output_type": "execute_result"
    }
   ],
   "source": [
    "#Examine the dataset\n",
    "(rate[['Star Rating', 'Number of Active Days', 'Daily Rate (2020-12)', 'Occupancy Rate (2020-12)',\n",
    "       'Revenue (2020-12)']]\n",
    " .describe())"
   ]
  },
  {
   "cell_type": "code",
   "execution_count": null,
   "id": "e6bd03bf",
   "metadata": {},
   "outputs": [],
   "source": [
    "rate.info()"
   ]
  },
  {
   "cell_type": "code",
   "execution_count": null,
   "id": "8588dda1",
   "metadata": {},
   "outputs": [],
   "source": [
    "#View number of null values\n",
    "rate.isnull().sum()"
   ]
  },
  {
   "cell_type": "code",
   "execution_count": null,
   "id": "76afc48b",
   "metadata": {},
   "outputs": [],
   "source": [
    "#Replace all NaN values with 0\n",
    "rate.fillna({'Cleaning Fee':0}, inplace=True)\n",
    "rate.fillna({'Extra Guest Fee':0}, inplace=True)"
   ]
  },
  {
   "cell_type": "code",
   "execution_count": null,
   "id": "20c28085",
   "metadata": {},
   "outputs": [],
   "source": [
    "#Check null values again\n",
    "rate.isnull().sum()"
   ]
  },
  {
   "cell_type": "code",
   "execution_count": null,
   "id": "7e2f8d54",
   "metadata": {},
   "outputs": [],
   "source": [
    "sns.displot(rate, x=\"\")\n",
    "#rate this by a predominant variable"
   ]
  },
  {
   "cell_type": "code",
   "execution_count": null,
   "id": "d6026f76",
   "metadata": {},
   "outputs": [],
   "source": [
    "#Find correlations between data\n",
    "corr = rate.corr()"
   ]
  },
  {
   "cell_type": "code",
   "execution_count": null,
   "id": "6e1bc9f4",
   "metadata": {},
   "outputs": [],
   "source": [
    "corr.style.background_gradient(cmap = 'coolwarm')"
   ]
  },
  {
   "cell_type": "code",
   "execution_count": null,
   "id": "327a12f4",
   "metadata": {},
   "outputs": [],
   "source": [
    "#Correlations - example \n",
    "\n",
    "rate.corr() # Whole correlation matrix\n",
    "rate.corr()['revenue_mean'] # Check correlations with outcome only\n",
    "sns.heatmap(rate.corr(), cmap=\"seismic\", annot=True, vmin=-1, vmax=1);"
   ]
  },
  {
   "cell_type": "code",
   "execution_count": null,
   "id": "8d1f99d4",
   "metadata": {},
   "outputs": [],
   "source": [
    "#Correlations - example \n",
    "\n",
    "rate.corr() # Whole correlation matrix\n",
    "rate.corr()['daily_rate_mean'] # Check correlations with outcome only\n",
    "sns.heatmap(rate.corr(), cmap=\"seismic\", annot=True, vmin=-1, vmax=1);"
   ]
  },
  {
   "cell_type": "code",
   "execution_count": null,
   "id": "9d7f1595",
   "metadata": {},
   "outputs": [],
   "source": [
    "#Correlations - example \n",
    "\n",
    "rate.corr() # Whole correlation matrix\n",
    "rate.corr()['occupancy_mean'] # Check correlations with outcome only\n",
    "sns.heatmap(rate.corr(), cmap=\"seismic\", annot=True, vmin=-1, vmax=1);"
   ]
  },
  {
   "cell_type": "markdown",
   "id": "15c57b98",
   "metadata": {},
   "source": [
    "Data Preparation"
   ]
  },
  {
   "cell_type": "code",
   "execution_count": null,
   "id": "2d5a3a7b",
   "metadata": {},
   "outputs": [],
   "source": [
    "# Import packages\n",
    "import pandas as pd\n",
    "import patsy\n",
    "import statsmodels.api as sm\n",
    "import statsmodels.formula.api as smf\n",
    "import statsmodels.api as sm\n",
    "from statsmodels.stats.outliers_influence import variance_inflation_factor\n",
    "from sklearn.preprocessing import StandardScaler, PolynomialFeatures\n",
    "from sklearn.model_selection import train_test_split\n",
    "from sklearn.linear_model import lars_path\n",
    "from sklearn.linear_model import LinearRegression, Lasso, LassoCV\n",
    "from sklearn.metrics import r2_score\n",
    "import scipy.stats as stats\n",
    "# Visualization\n",
    "import seaborn as sns\n",
    "import matplotlib.pyplot as plt\n",
    "%matplotlib inline"
   ]
  },
  {
   "cell_type": "markdown",
   "id": "9778974e",
   "metadata": {},
   "source": [
    "- Listing Dataset"
   ]
  },
  {
   "cell_type": "code",
   "execution_count": 64,
   "id": "373f982f",
   "metadata": {},
   "outputs": [
    {
     "data": {
      "text/html": [
       "<div>\n",
       "<style scoped>\n",
       "    .dataframe tbody tr th:only-of-type {\n",
       "        vertical-align: middle;\n",
       "    }\n",
       "\n",
       "    .dataframe tbody tr th {\n",
       "        vertical-align: top;\n",
       "    }\n",
       "\n",
       "    .dataframe thead th {\n",
       "        text-align: right;\n",
       "    }\n",
       "</style>\n",
       "<table border=\"1\" class=\"dataframe\">\n",
       "  <thead>\n",
       "    <tr style=\"text-align: right;\">\n",
       "      <th></th>\n",
       "      <th>price</th>\n",
       "      <th>minimum_nights</th>\n",
       "      <th>number_of_reviews</th>\n",
       "      <th>reviews_per_month</th>\n",
       "      <th>calculated_host_listings_count</th>\n",
       "      <th>availability_365</th>\n",
       "    </tr>\n",
       "  </thead>\n",
       "  <tbody>\n",
       "    <tr>\n",
       "      <th>count</th>\n",
       "      <td>6.977000e+03</td>\n",
       "      <td>6977.000000</td>\n",
       "      <td>6977.000000</td>\n",
       "      <td>6977.000000</td>\n",
       "      <td>6977.000000</td>\n",
       "      <td>6977.000000</td>\n",
       "    </tr>\n",
       "    <tr>\n",
       "      <th>mean</th>\n",
       "      <td>3.019986e+02</td>\n",
       "      <td>8.927189</td>\n",
       "      <td>30.272753</td>\n",
       "      <td>0.762961</td>\n",
       "      <td>7.251971</td>\n",
       "      <td>65.408772</td>\n",
       "    </tr>\n",
       "    <tr>\n",
       "      <th>std</th>\n",
       "      <td>1.405164e+04</td>\n",
       "      <td>42.118071</td>\n",
       "      <td>59.819724</td>\n",
       "      <td>1.883356</td>\n",
       "      <td>25.062374</td>\n",
       "      <td>114.209065</td>\n",
       "    </tr>\n",
       "    <tr>\n",
       "      <th>min</th>\n",
       "      <td>9.000000e+00</td>\n",
       "      <td>1.000000</td>\n",
       "      <td>0.000000</td>\n",
       "      <td>0.000000</td>\n",
       "      <td>1.000000</td>\n",
       "      <td>0.000000</td>\n",
       "    </tr>\n",
       "    <tr>\n",
       "      <th>25%</th>\n",
       "      <td>5.500000e+01</td>\n",
       "      <td>1.000000</td>\n",
       "      <td>1.000000</td>\n",
       "      <td>0.020000</td>\n",
       "      <td>1.000000</td>\n",
       "      <td>0.000000</td>\n",
       "    </tr>\n",
       "    <tr>\n",
       "      <th>50%</th>\n",
       "      <td>8.500000e+01</td>\n",
       "      <td>2.000000</td>\n",
       "      <td>6.000000</td>\n",
       "      <td>0.210000</td>\n",
       "      <td>1.000000</td>\n",
       "      <td>0.000000</td>\n",
       "    </tr>\n",
       "    <tr>\n",
       "      <th>75%</th>\n",
       "      <td>1.480000e+02</td>\n",
       "      <td>4.000000</td>\n",
       "      <td>29.000000</td>\n",
       "      <td>0.900000</td>\n",
       "      <td>3.000000</td>\n",
       "      <td>78.000000</td>\n",
       "    </tr>\n",
       "    <tr>\n",
       "      <th>max</th>\n",
       "      <td>1.173721e+06</td>\n",
       "      <td>1125.000000</td>\n",
       "      <td>648.000000</td>\n",
       "      <td>81.060000</td>\n",
       "      <td>162.000000</td>\n",
       "      <td>365.000000</td>\n",
       "    </tr>\n",
       "  </tbody>\n",
       "</table>\n",
       "</div>"
      ],
      "text/plain": [
       "              price  minimum_nights  number_of_reviews  reviews_per_month  \\\n",
       "count  6.977000e+03     6977.000000        6977.000000        6977.000000   \n",
       "mean   3.019986e+02        8.927189          30.272753           0.762961   \n",
       "std    1.405164e+04       42.118071          59.819724           1.883356   \n",
       "min    9.000000e+00        1.000000           0.000000           0.000000   \n",
       "25%    5.500000e+01        1.000000           1.000000           0.020000   \n",
       "50%    8.500000e+01        2.000000           6.000000           0.210000   \n",
       "75%    1.480000e+02        4.000000          29.000000           0.900000   \n",
       "max    1.173721e+06     1125.000000         648.000000          81.060000   \n",
       "\n",
       "       calculated_host_listings_count  availability_365  \n",
       "count                     6977.000000       6977.000000  \n",
       "mean                         7.251971         65.408772  \n",
       "std                         25.062374        114.209065  \n",
       "min                          1.000000          0.000000  \n",
       "25%                          1.000000          0.000000  \n",
       "50%                          1.000000          0.000000  \n",
       "75%                          3.000000         78.000000  \n",
       "max                        162.000000        365.000000  "
      ]
     },
     "execution_count": 64,
     "metadata": {},
     "output_type": "execute_result"
    }
   ],
   "source": [
    "(listing[['price', 'minimum_nights', 'number_of_reviews', 'reviews_per_month',\n",
    "       'calculated_host_listings_count', 'availability_365']]\n",
    " .describe())"
   ]
  },
  {
   "cell_type": "code",
   "execution_count": 65,
   "id": "d85dfb9f",
   "metadata": {},
   "outputs": [],
   "source": [
    "listing = listing.loc[listing['price'] > 0]"
   ]
  },
  {
   "cell_type": "code",
   "execution_count": 66,
   "id": "7492adbd",
   "metadata": {},
   "outputs": [
    {
     "data": {
      "text/html": [
       "<div>\n",
       "<style scoped>\n",
       "    .dataframe tbody tr th:only-of-type {\n",
       "        vertical-align: middle;\n",
       "    }\n",
       "\n",
       "    .dataframe tbody tr th {\n",
       "        vertical-align: top;\n",
       "    }\n",
       "\n",
       "    .dataframe thead th {\n",
       "        text-align: right;\n",
       "    }\n",
       "</style>\n",
       "<table border=\"1\" class=\"dataframe\">\n",
       "  <thead>\n",
       "    <tr style=\"text-align: right;\">\n",
       "      <th></th>\n",
       "      <th>host_id</th>\n",
       "      <th>neighbourhood_group</th>\n",
       "      <th>latitude</th>\n",
       "      <th>longitude</th>\n",
       "      <th>price</th>\n",
       "      <th>minimum_nights</th>\n",
       "      <th>number_of_reviews</th>\n",
       "      <th>reviews_per_month</th>\n",
       "      <th>calculated_host_listings_count</th>\n",
       "      <th>availability_365</th>\n",
       "      <th>number_of_reviews_ltm</th>\n",
       "      <th>license</th>\n",
       "    </tr>\n",
       "  </thead>\n",
       "  <tbody>\n",
       "    <tr>\n",
       "      <th>count</th>\n",
       "      <td>6.977000e+03</td>\n",
       "      <td>0.0</td>\n",
       "      <td>6977.000000</td>\n",
       "      <td>6977.000000</td>\n",
       "      <td>6.977000e+03</td>\n",
       "      <td>6977.000000</td>\n",
       "      <td>6977.000000</td>\n",
       "      <td>6977.000000</td>\n",
       "      <td>6977.000000</td>\n",
       "      <td>6977.000000</td>\n",
       "      <td>6977.000000</td>\n",
       "      <td>6977.0</td>\n",
       "    </tr>\n",
       "    <tr>\n",
       "      <th>mean</th>\n",
       "      <td>1.023079e+08</td>\n",
       "      <td>NaN</td>\n",
       "      <td>53.345333</td>\n",
       "      <td>-6.255625</td>\n",
       "      <td>3.019986e+02</td>\n",
       "      <td>8.927189</td>\n",
       "      <td>30.272753</td>\n",
       "      <td>0.762961</td>\n",
       "      <td>7.251971</td>\n",
       "      <td>65.408772</td>\n",
       "      <td>2.958005</td>\n",
       "      <td>0.0</td>\n",
       "    </tr>\n",
       "    <tr>\n",
       "      <th>std</th>\n",
       "      <td>1.005189e+08</td>\n",
       "      <td>NaN</td>\n",
       "      <td>0.044036</td>\n",
       "      <td>0.057919</td>\n",
       "      <td>1.405164e+04</td>\n",
       "      <td>42.118071</td>\n",
       "      <td>59.819724</td>\n",
       "      <td>1.883356</td>\n",
       "      <td>25.062374</td>\n",
       "      <td>114.209065</td>\n",
       "      <td>11.218871</td>\n",
       "      <td>0.0</td>\n",
       "    </tr>\n",
       "    <tr>\n",
       "      <th>min</th>\n",
       "      <td>4.398400e+04</td>\n",
       "      <td>NaN</td>\n",
       "      <td>53.205780</td>\n",
       "      <td>-6.488790</td>\n",
       "      <td>9.000000e+00</td>\n",
       "      <td>1.000000</td>\n",
       "      <td>0.000000</td>\n",
       "      <td>0.000000</td>\n",
       "      <td>1.000000</td>\n",
       "      <td>0.000000</td>\n",
       "      <td>0.000000</td>\n",
       "      <td>0.0</td>\n",
       "    </tr>\n",
       "    <tr>\n",
       "      <th>25%</th>\n",
       "      <td>2.441876e+07</td>\n",
       "      <td>NaN</td>\n",
       "      <td>53.330220</td>\n",
       "      <td>-6.278780</td>\n",
       "      <td>5.500000e+01</td>\n",
       "      <td>1.000000</td>\n",
       "      <td>1.000000</td>\n",
       "      <td>0.020000</td>\n",
       "      <td>1.000000</td>\n",
       "      <td>0.000000</td>\n",
       "      <td>0.000000</td>\n",
       "      <td>0.0</td>\n",
       "    </tr>\n",
       "    <tr>\n",
       "      <th>50%</th>\n",
       "      <td>6.504127e+07</td>\n",
       "      <td>NaN</td>\n",
       "      <td>53.343990</td>\n",
       "      <td>-6.260634</td>\n",
       "      <td>8.500000e+01</td>\n",
       "      <td>2.000000</td>\n",
       "      <td>6.000000</td>\n",
       "      <td>0.210000</td>\n",
       "      <td>1.000000</td>\n",
       "      <td>0.000000</td>\n",
       "      <td>0.000000</td>\n",
       "      <td>0.0</td>\n",
       "    </tr>\n",
       "    <tr>\n",
       "      <th>75%</th>\n",
       "      <td>1.534091e+08</td>\n",
       "      <td>NaN</td>\n",
       "      <td>53.356460</td>\n",
       "      <td>-6.235200</td>\n",
       "      <td>1.480000e+02</td>\n",
       "      <td>4.000000</td>\n",
       "      <td>29.000000</td>\n",
       "      <td>0.900000</td>\n",
       "      <td>3.000000</td>\n",
       "      <td>78.000000</td>\n",
       "      <td>1.000000</td>\n",
       "      <td>0.0</td>\n",
       "    </tr>\n",
       "    <tr>\n",
       "      <th>max</th>\n",
       "      <td>4.349262e+08</td>\n",
       "      <td>NaN</td>\n",
       "      <td>53.623490</td>\n",
       "      <td>-6.052910</td>\n",
       "      <td>1.173721e+06</td>\n",
       "      <td>1125.000000</td>\n",
       "      <td>648.000000</td>\n",
       "      <td>81.060000</td>\n",
       "      <td>162.000000</td>\n",
       "      <td>365.000000</td>\n",
       "      <td>366.000000</td>\n",
       "      <td>0.0</td>\n",
       "    </tr>\n",
       "  </tbody>\n",
       "</table>\n",
       "</div>"
      ],
      "text/plain": [
       "            host_id  neighbourhood_group     latitude    longitude  \\\n",
       "count  6.977000e+03                  0.0  6977.000000  6977.000000   \n",
       "mean   1.023079e+08                  NaN    53.345333    -6.255625   \n",
       "std    1.005189e+08                  NaN     0.044036     0.057919   \n",
       "min    4.398400e+04                  NaN    53.205780    -6.488790   \n",
       "25%    2.441876e+07                  NaN    53.330220    -6.278780   \n",
       "50%    6.504127e+07                  NaN    53.343990    -6.260634   \n",
       "75%    1.534091e+08                  NaN    53.356460    -6.235200   \n",
       "max    4.349262e+08                  NaN    53.623490    -6.052910   \n",
       "\n",
       "              price  minimum_nights  number_of_reviews  reviews_per_month  \\\n",
       "count  6.977000e+03     6977.000000        6977.000000        6977.000000   \n",
       "mean   3.019986e+02        8.927189          30.272753           0.762961   \n",
       "std    1.405164e+04       42.118071          59.819724           1.883356   \n",
       "min    9.000000e+00        1.000000           0.000000           0.000000   \n",
       "25%    5.500000e+01        1.000000           1.000000           0.020000   \n",
       "50%    8.500000e+01        2.000000           6.000000           0.210000   \n",
       "75%    1.480000e+02        4.000000          29.000000           0.900000   \n",
       "max    1.173721e+06     1125.000000         648.000000          81.060000   \n",
       "\n",
       "       calculated_host_listings_count  availability_365  \\\n",
       "count                     6977.000000       6977.000000   \n",
       "mean                         7.251971         65.408772   \n",
       "std                         25.062374        114.209065   \n",
       "min                          1.000000          0.000000   \n",
       "25%                          1.000000          0.000000   \n",
       "50%                          1.000000          0.000000   \n",
       "75%                          3.000000         78.000000   \n",
       "max                        162.000000        365.000000   \n",
       "\n",
       "       number_of_reviews_ltm  license  \n",
       "count            6977.000000   6977.0  \n",
       "mean                2.958005      0.0  \n",
       "std                11.218871      0.0  \n",
       "min                 0.000000      0.0  \n",
       "25%                 0.000000      0.0  \n",
       "50%                 0.000000      0.0  \n",
       "75%                 1.000000      0.0  \n",
       "max               366.000000      0.0  "
      ]
     },
     "execution_count": 66,
     "metadata": {},
     "output_type": "execute_result"
    }
   ],
   "source": [
    "listing.describe()"
   ]
  },
  {
   "cell_type": "code",
   "execution_count": null,
   "id": "381f1296",
   "metadata": {},
   "outputs": [],
   "source": [
    "# Recode data as categorical\n",
    "# https://datascience.stackexchange.com/questions/29093/continuous-variable-to-categorical-by-quartiles\n",
    "listing_encoded = listing.copy()\n",
    "listing_encoded['minimum_nights'] = pd.qcut(listing['minimum_nights'], q=2, labels=[\"minimum_nights_low\", \"minimum_nights_high\"])\n",
    "listing_encoded['number_of_reviews'] = pd.qcut(listing['number_of_reviews'], q=3, labels=[\"number_of_reviews_low\", \"minimum_nights_medium\", \"number_of_reviews_high\"])\n",
    "listing_encoded['reviews_per_month'] = pd.qcut(listing['reviews_per_month'], q=2, labels=[\"reviews_per_month_low\", \"reviews_per_month_high\"])\n",
    "listing_encoded['calculated_host_listings_count'] = pd.cut(listing['calculated_host_listings_count'], \n",
    "                                                bins=[0, 2, 327],\n",
    "                                                labels=[\"calculated_host_listings_count_low\", \"calculated_host_listings_count_high\"])\n",
    "\n",
    "#NEEDS TO BE FIXED\n",
    "#listing_encoded['availability_365'] = pd.qcut(listing['availability_365'], q=2, labels=[\"availability_low\", \"availability_high\"])\n"
   ]
  },
  {
   "cell_type": "code",
   "execution_count": 68,
   "id": "10bbbf56",
   "metadata": {},
   "outputs": [
    {
     "ename": "NameError",
     "evalue": "name 'listing_encoded' is not defined",
     "output_type": "error",
     "traceback": [
      "\u001b[0;31m---------------------------------------------------------------------------\u001b[0m",
      "\u001b[0;31mNameError\u001b[0m                                 Traceback (most recent call last)",
      "\u001b[1;32m/workspace/finalyearproject/short_term_rental_final .ipynb Cell 60'\u001b[0m in \u001b[0;36m<cell line: 1>\u001b[0;34m()\u001b[0m\n\u001b[0;32m----> <a href='vscode-notebook-cell://malouisek-finalyearproje-ard0w304h1p.ws-us34.gitpod.io/workspace/finalyearproject/short_term_rental_final%20.ipynb#ch0000049vscode-remote?line=0'>1</a>\u001b[0m listing_encoded\u001b[39m.\u001b[39misnull()\u001b[39m.\u001b[39msum()\n",
      "\u001b[0;31mNameError\u001b[0m: name 'listing_encoded' is not defined"
     ]
    }
   ],
   "source": [
    "listing_encoded.isnull().sum()"
   ]
  },
  {
   "cell_type": "code",
   "execution_count": null,
   "id": "a7b312bd",
   "metadata": {},
   "outputs": [],
   "source": [
    "sns.set_palette(\"muted\")\n",
    "from pylab import *\n",
    "f, ax = plt.subplots(figsize=(8, 6))\n",
    "\n",
    "subplot(2,3,1)\n",
    "sns.distplot(listing['price'])\n",
    "\n",
    "subplot(2,3,2)\n",
    "sns.distplot(listing['minimum_nights'])\n",
    "\n",
    "subplot(2,3,3)\n",
    "sns.distplot(listing['number_of_reviews'])\n",
    "\n",
    "subplot(2,3,4)\n",
    "sns.distplot(listing['reviews_per_month'])\n",
    "\n",
    "subplot(2,3,5)\n",
    "sns.distplot(listing['calculated_host_listings_count'])\n",
    "\n",
    "subplot(2,3,6)\n",
    "sns.distplot(listing['availability_365'])\n",
    "\n",
    "plt.tight_layout() # avoid overlap of plotsplt.draw()"
   ]
  },
  {
   "cell_type": "code",
   "execution_count": null,
   "id": "1b1895b9",
   "metadata": {},
   "outputs": [],
   "source": [
    "from pylab import *\n",
    "f, ax = plt.subplots(figsize=(8, 6))\n",
    "\n",
    "subplot(2,3,1)\n",
    "sns.boxplot(y = listing['price']) \n",
    "\n",
    "subplot(2,3,2)\n",
    "sns.boxplot(y = listing['minimum_nights'])\n",
    "\n",
    "subplot(2,3,3)\n",
    "sns.boxplot(y = listing['number_of_reviews'])\n",
    "\n",
    "subplot(2,3,4)\n",
    "sns.boxplot(y = listing['reviews_per_month'])\n",
    "\n",
    "subplot(2,3,5)\n",
    "sns.boxplot(y = listing['calculated_host_listings_count'])\n",
    "\n",
    "subplot(2,3,6)\n",
    "sns.boxplot(y = listing['availability_365'])\n",
    "\n",
    "plt.tight_layout() # avoid overlap of plots\n",
    "plt.draw()"
   ]
  },
  {
   "cell_type": "markdown",
   "id": "883c8653",
   "metadata": {},
   "source": [
    "- Rate Dataset"
   ]
  },
  {
   "cell_type": "code",
   "execution_count": null,
   "id": "d3da80f8",
   "metadata": {},
   "outputs": [],
   "source": [
    "sns.distplot(rate['daily_rate_mean'], kde=True,);\n",
    "fig = plt.figure()\n",
    "res = stats.probplot(rate['daily_rate_mean'], plot=plt)\n",
    "print(\"Skewness: %f\" % rate['daily_rate_mean'].skew())\n",
    "print(\"Kurtosis: %f\" % rate['daily_rate_mean'].kurt())\n",
    "\n",
    "#This needs to be reviewed as the dataset looks skewed "
   ]
  },
  {
   "cell_type": "code",
   "execution_count": null,
   "id": "fcc8e141",
   "metadata": {},
   "outputs": [],
   "source": [
    "#Separating the dataset into categorical and numeric\n",
    "\n",
    "categorical_col = ['Listing URL','Property Type', 'Has pool']\n",
    "\n",
    "numeric_col = ['Latitude', \n",
    "               'Longitude', \n",
    "               'Star Rating', \n",
    "               'Number of Active Days', \n",
    "               'Bedrooms', \n",
    "               'Cleaning Fee', \n",
    "               'Extra Guest Fee',            \n",
    "               'Daily Rate (2020-11)',         \n",
    "               'Daily Rate (2020-12)',\n",
    "               'Daily Rate (2021-01)',\n",
    "               'Daily Rate (2021-02)',        \n",
    "               'Daily Rate (2021-03)',       \n",
    "                'Daily Rate (2021-04)',        \n",
    "                'Daily Rate (2021-05)',        \n",
    "                'Daily Rate (2021-06)',        \n",
    "                'Daily Rate (2021-07)',        \n",
    "                'Daily Rate (2021-08)',        \n",
    "                'Daily Rate (2021-09)',        \n",
    "                'Daily Rate (2021-10)',        \n",
    "                'Occupancy Rate (2020-11)',    \n",
    "                'Occupancy Rate (2020-12)',   \n",
    "                'Occupancy Rate (2021-01)',    \n",
    "                'Occupancy Rate (2021-02)',    \n",
    "                'Occupancy Rate (2021-03)',    \n",
    "                'Occupancy Rate (2021-04)',    \n",
    "                'Occupancy Rate (2021-05)',    \n",
    "                'Occupancy Rate (2021-06)',    \n",
    "                'Occupancy Rate (2021-07)',    \n",
    "                'Occupancy Rate (2021-08)',    \n",
    "                'Occupancy Rate (2021-09)',    \n",
    "                'Occupancy Rate (2021-10)',   \n",
    "                'Revenue (2020-11)',           \n",
    "                'Revenue (2020-12)',         \n",
    "                'Revenue (2021-01)',           \n",
    "                'Revenue (2021-02)',           \n",
    "                'Revenue (2021-03)',           \n",
    "                'Revenue (2021-04)',           \n",
    "                'Revenue (2021-05)',           \n",
    "                'Revenue (2021-06)',           \n",
    "                'Revenue (2021-07)',           \n",
    "                'Revenue (2021-08)',           \n",
    "                'Revenue (2021-09)',           \n",
    "                'Revenue (2021-10)',\n",
    "              ]\n",
    "\n",
    "#Change the object type to float64 later on"
   ]
  },
  {
   "cell_type": "code",
   "execution_count": null,
   "id": "8d757cbb",
   "metadata": {},
   "outputs": [],
   "source": [
    "print(numeric_col)"
   ]
  },
  {
   "cell_type": "code",
   "execution_count": null,
   "id": "63de3df0",
   "metadata": {},
   "outputs": [],
   "source": [
    "rate[numeric_col] = rate[numeric_col].apply(pd.to_numeric, errors='coerce')"
   ]
  },
  {
   "cell_type": "code",
   "execution_count": null,
   "id": "decc6f12",
   "metadata": {},
   "outputs": [],
   "source": [
    "rate.info()"
   ]
  },
  {
   "cell_type": "code",
   "execution_count": null,
   "id": "b35b3458",
   "metadata": {},
   "outputs": [],
   "source": [
    "#NOT NEEDED - things I tried.\n",
    "#encoding the dataset so that I can add columns for the rates values. \n",
    "#rate['Cleaning Fee'] = rate['Cleaning Fee'].astype(float)"
   ]
  },
  {
   "cell_type": "code",
   "execution_count": null,
   "id": "0a6caf8f",
   "metadata": {},
   "outputs": [],
   "source": [
    "rate.drop(columns=['Listing URL', 'Property Type', 'Latitude', 'Longitude', 'Has pool'])"
   ]
  },
  {
   "cell_type": "code",
   "execution_count": null,
   "id": "27ef5ad5",
   "metadata": {},
   "outputs": [],
   "source": [
    "#Check mean for all the Revenue columns, Occupancy and Daily Rate\n",
    "\n",
    "rate['daily_rate_mean'] = rate[['Daily Rate (2021-01)','Daily Rate (2021-02)', 'Daily Rate (2021-03)','Daily Rate (2021-04)', 'Daily Rate (2021-05)','Daily Rate (2021-06)', 'Daily Rate (2021-07)','Daily Rate (2021-08)', 'Daily Rate (2021-09)','Daily Rate (2021-10)', 'Daily Rate (2020-11)','Daily Rate (2020-12)']].mean(axis=1)\n",
    "\n",
    "rate['revenue_mean'] = rate[['Revenue (2020-11)','Revenue (2020-12)','Revenue (2021-01)','Revenue (2021-02)','Revenue (2021-03)','Revenue (2021-04)',          'Revenue (2021-05)','Revenue (2021-06)','Revenue (2021-07)','Revenue (2021-08)','Revenue (2021-09)','Revenue (2021-10)']].mean(axis=1)\n",
    "\n",
    "rate['occupancy_mean'] = rate[['Occupancy Rate (2020-11)','Occupancy Rate (2020-12)','Occupancy Rate (2021-01)','Occupancy Rate (2021-02)','Occupancy Rate (2021-03)','Occupancy Rate (2021-04)','Occupancy Rate (2021-05)','Occupancy Rate (2021-06)','Occupancy Rate (2021-07)','Occupancy Rate (2021-08)','Occupancy Rate (2021-09)','Occupancy Rate (2021-10)']].mean(axis=1)\n"
   ]
  },
  {
   "cell_type": "code",
   "execution_count": null,
   "id": "a773496f",
   "metadata": {},
   "outputs": [],
   "source": [
    "rate = rate.drop(['Daily Rate (2021-01)','Daily Rate (2021-02)', 'Daily Rate (2021-03)','Daily Rate (2021-04)', 'Daily Rate (2021-05)','Daily Rate (2021-06)', 'Daily Rate (2021-07)','Daily Rate (2021-08)', 'Daily Rate (2021-09)','Daily Rate (2021-10)', 'Daily Rate (2020-11)','Daily Rate (2020-12)','Revenue (2020-11)','Revenue (2020-12)','Revenue (2021-01)','Revenue (2021-02)','Revenue (2021-03)','Revenue (2021-04)','Revenue (2021-05)','Revenue (2021-06)','Revenue (2021-07)','Revenue (2021-08)','Revenue (2021-09)','Revenue (2021-10)','Occupancy Rate (2020-11)','Occupancy Rate (2020-12)','Occupancy Rate (2021-01)','Occupancy Rate (2021-02)','Occupancy Rate (2021-03)','Occupancy Rate (2021-04)','Occupancy Rate (2021-05)','Occupancy Rate (2021-06)','Occupancy Rate (2021-07)','Occupancy Rate (2021-08)','Occupancy Rate (2021-09)','Occupancy Rate (2021-10)'], axis=1)"
   ]
  },
  {
   "cell_type": "code",
   "execution_count": null,
   "id": "eec37025",
   "metadata": {},
   "outputs": [],
   "source": [
    "#del rate['Daily Rate (2021-01)','Daily Rate (2021-02)', 'Daily Rate (2021-03)','Daily Rate (2021-04)', 'Daily Rate (2021-05)','Daily Rate (2021-06)', 'Daily Rate (2021-07)','Daily Rate (2021-08)', 'Daily Rate (2021-09)','Daily Rate (2021-10)', 'Daily Rate (2020-11)','Daily Rate (2020-12)','Revenue (2020-11)','Revenue (2020-12)','Revenue (2021-01)','Revenue (2021-02)','Revenue (2021-03)','Revenue (2021-04)',          'Revenue (2021-05)','Revenue (2021-06)','Revenue (2021-07)','Revenue (2021-08)','Revenue (2021-09)','Revenue (2021-10)','Occupancy Rate (2020-11)','Occupancy Rate (2020-12)','Occupancy Rate (2021-01)','Occupancy Rate (2021-02)','Occupancy Rate (2021-03)','Occupancy Rate (2021-04)','Occupancy Rate (2021-05)','Occupancy Rate (2021-06)','Occupancy Rate (2021-07)','Occupancy Rate (2021-08)','Occupancy Rate (2021-09)','Occupancy Rate (2021-10)']"
   ]
  },
  {
   "cell_type": "code",
   "execution_count": null,
   "id": "a1f7159f",
   "metadata": {},
   "outputs": [],
   "source": [
    "rate.head()"
   ]
  },
  {
   "cell_type": "code",
   "execution_count": null,
   "id": "d67c8943",
   "metadata": {},
   "outputs": [],
   "source": [
    "rate.info()"
   ]
  },
  {
   "cell_type": "markdown",
   "id": "8ade72df",
   "metadata": {},
   "source": [
    "- Reviews Dataset"
   ]
  },
  {
   "cell_type": "code",
   "execution_count": null,
   "id": "93bf00ea",
   "metadata": {},
   "outputs": [],
   "source": []
  },
  {
   "cell_type": "code",
   "execution_count": null,
   "id": "8514ffae",
   "metadata": {},
   "outputs": [],
   "source": []
  },
  {
   "cell_type": "markdown",
   "id": "7a0d3d7b",
   "metadata": {},
   "source": [
    "- Calendar Dataset"
   ]
  },
  {
   "cell_type": "markdown",
   "id": "93875f40",
   "metadata": {},
   "source": [
    "- Airbnb-listings Dataset"
   ]
  },
  {
   "cell_type": "markdown",
   "id": "e79697af",
   "metadata": {},
   "source": [
    "- Airbnb-opendata Dataset"
   ]
  },
  {
   "cell_type": "markdown",
   "id": "d00d4c7a",
   "metadata": {},
   "source": [
    "Predictions"
   ]
  },
  {
   "cell_type": "code",
   "execution_count": null,
   "id": "0fdf73be",
   "metadata": {},
   "outputs": [],
   "source": [
    "# Load the Dataset  \n",
    "#data.drop(['latitude', 'name',], axis=1, inplace=True)\n",
    "listing.drop(['name'], axis=1, inplace=True)\n",
    "listing_copy = listing.copy()"
   ]
  },
  {
   "cell_type": "code",
   "execution_count": null,
   "id": "aedbec35",
   "metadata": {},
   "outputs": [],
   "source": [
    "# log10 transform\n",
    "# https://stackoverflow.com/questions/30794525/adding-one-to-all-the-values-in-a-dataframe\n",
    "# data_copy = data.copy()\n",
    "listing.minimum_nights += 0.000000001\n",
    "listing['minimum_nights'] = np.log10(listing['minimum_nights'])\n",
    "listing.number_of_reviews += 0.000000001\n",
    "listing['number_of_reviews'] = np.log10(listing['number_of_reviews'])\n",
    "listing.reviews_per_month += 0.000000001\n",
    "listing['reviews_per_month'] = np.log10(listing['reviews_per_month'])\n",
    "listing.calculated_host_listings_count += 0.000000001\n",
    "listing['calculated_host_listings_count'] = np.log10(listing['calculated_host_listings_count'])\n",
    "listing.availability_365 += 0.000000001\n",
    "listing['availability_365'] = np.log10(listing['availability_365'])"
   ]
  },
  {
   "cell_type": "code",
   "execution_count": null,
   "id": "083308df",
   "metadata": {},
   "outputs": [],
   "source": [
    "# Encoding categorical data\n",
    "listing = pd.get_dummies(listing, columns=['room_type'], drop_first=True)\n",
    "listing = pd.get_dummies(listing, columns=['neighbourhood'], drop_first=True)\n",
    "listing = pd.get_dummies(listing, columns=['neighbourhood_group'], drop_first=True)"
   ]
  },
  {
   "cell_type": "code",
   "execution_count": null,
   "id": "ae65c505",
   "metadata": {},
   "outputs": [],
   "source": [
    "# Filter the dataset for prices between 50 and $175\n",
    "listing_filtered_low = listing.loc[(listing['price'] < 175)]"
   ]
  },
  {
   "cell_type": "code",
   "execution_count": null,
   "id": "d5909d62",
   "metadata": {},
   "outputs": [],
   "source": [
    "# Filter the dataset for prices superior to $175\n",
    "listing_filtered_high = listing.loc[(listing['price'] > 175)]"
   ]
  },
  {
   "cell_type": "code",
   "execution_count": null,
   "id": "9f868741",
   "metadata": {},
   "outputs": [],
   "source": [
    "# Split the dataset\n",
    "X = listing_filtered_low.drop('price', axis=1).values\n",
    "y = listing_filtered_low['price'].values\n",
    "y = np.log10(y)"
   ]
  },
  {
   "cell_type": "code",
   "execution_count": null,
   "id": "a58e2b3c",
   "metadata": {},
   "outputs": [],
   "source": [
    "# Splitting the dataset into the Training set and Test set\n",
    "from sklearn.model_selection import train_test_split\n",
    "X_train, X_test, y_train, y_test = train_test_split(X, y, test_size = 0.3, random_state = 0)\n",
    "\n",
    "# Fitting Multiple Linear Regression to the Training set\n",
    "from sklearn.linear_model import LinearRegression\n",
    "lr = LinearRegression()\n",
    "lr.fit(X_train, y_train)\n",
    "\n",
    "# Predicting the Test set results\n",
    "y_pred = lr.predict(X_test)"
   ]
  },
  {
   "cell_type": "code",
   "execution_count": null,
   "id": "b125470e",
   "metadata": {},
   "outputs": [],
   "source": [
    "# Compare predicted and actual values\n",
    "df= pd.DataFrame({'Actual': np.round(10 ** y_test, 0), \n",
    "                   'Predicted': np.round(10 ** y_pred, 0)})\n",
    "df.head(10)"
   ]
  },
  {
   "cell_type": "code",
   "execution_count": null,
   "id": "10d421f0",
   "metadata": {},
   "outputs": [],
   "source": [
    "from sklearn.metrics import mean_squared_error\n",
    "from sklearn import metrics\n",
    "from sklearn.metrics import r2_score\n",
    "\n",
    "print('Price mean:', np.round(np.mean(y), 2))  \n",
    "print('Price std:', np.round(np.std(y), 2))\n",
    "print('RMSE:', np.round(np.sqrt(metrics.mean_squared_error(y_test, lr.predict(X_test))), 2))\n",
    "print('R2 score train:', np.round(r2_score(y_train, lr.predict(X_train), multioutput='variance_weighted'), 2))\n",
    "print('R2 score test:', np.round(r2_score(y_test, lr.predict(X_test), multioutput='variance_weighted'), 2))"
   ]
  },
  {
   "cell_type": "code",
   "execution_count": null,
   "id": "4813e3a0",
   "metadata": {},
   "outputs": [],
   "source": [
    "X = listing_filtered_high.drop('price', axis=1).values\n",
    "y = listing_filtered_high['price'].values\n",
    "y = np.log10(y)"
   ]
  },
  {
   "cell_type": "code",
   "execution_count": null,
   "id": "513e33da",
   "metadata": {},
   "outputs": [],
   "source": [
    "# Splitting the dataset into the Training set and Test set\n",
    "from sklearn.model_selection import train_test_split\n",
    "X_train, X_test, y_train, y_test = train_test_split(X, y, test_size = 0.3, random_state = 0)\n",
    "\n",
    "#trying to get rid of the error when not using this line\n",
    "#ValueError: Input contains NaN, infinity or a value too large for dtype('float64').\n",
    "\n",
    "#X_test.fillna(X_test.mean())\n",
    "\n",
    "# Fitting Multiple Linear Regression to the Training set\n",
    "from sklearn.linear_model import LinearRegression\n",
    "lr = LinearRegression()\n",
    "lr.fit(X_train, y_train)\n",
    "\n",
    "# Predicting the Test set results\n",
    "y_pred = lr.predict(X_test)\n",
    "\n"
   ]
  },
  {
   "cell_type": "code",
   "execution_count": null,
   "id": "98122268",
   "metadata": {},
   "outputs": [],
   "source": [
    "df = pd.DataFrame({'Actual': np.round(10 ** y_test, 0), \n",
    "                   'Predicted': np.round(10 ** y_pred, 0)})\n",
    "df.head(10)"
   ]
  },
  {
   "cell_type": "code",
   "execution_count": null,
   "id": "74d6997e",
   "metadata": {},
   "outputs": [],
   "source": [
    "from sklearn.metrics import mean_squared_error\n",
    "from sklearn import metrics\n",
    "from sklearn.metrics import r2_score\n",
    "\n",
    "print('Price mean:', np.round(np.mean(y), 2))  \n",
    "print('Price std:', np.round(np.std(y), 2))\n",
    "print('RMSE:', np.round(np.sqrt(metrics.mean_squared_error(y_test, lr.predict(X_test))), 2))\n",
    "print('R2 score train:', np.round(r2_score(y_train, lr.predict(X_train), multioutput='variance_weighted'), 2))\n",
    "print('R2 score test:', np.round(r2_score(y_test, lr.predict(X_test), multioutput='variance_weighted'), 2))"
   ]
  },
  {
   "cell_type": "code",
   "execution_count": null,
   "id": "8a77b30f",
   "metadata": {},
   "outputs": [],
   "source": [
    "#Random Forest Regression"
   ]
  },
  {
   "cell_type": "code",
   "execution_count": null,
   "id": "780fbd14",
   "metadata": {},
   "outputs": [],
   "source": []
  },
  {
   "cell_type": "code",
   "execution_count": null,
   "id": "81a90141",
   "metadata": {},
   "outputs": [],
   "source": []
  },
  {
   "cell_type": "code",
   "execution_count": null,
   "id": "4e3068bd",
   "metadata": {},
   "outputs": [],
   "source": [
    "#https://jakevdp.github.io/PythonDataScienceHandbook/03.07-merge-and-join.html\n",
    "#http://insideairbnb.com/ireland/\n",
    "#https://public.opendatasoft.com/explore/dataset/airbnb-listings/export/?disjunctive.host_verifications&disjunctive.amenities&disjunctive.features&q=ireland\n",
    "#https://app.airbtics.com/airbnb-data/ireland/0/dublin\n",
    "#https://pandas.pydata.org/docs/reference/api/pandas.DataFrame.iloc.html\n",
    "#https://www.codegrepper.com/code-examples/python/convert+object+to+float64+pandas\n",
    "#"
   ]
  },
  {
   "cell_type": "code",
   "execution_count": null,
   "id": "9b35fdf7",
   "metadata": {},
   "outputs": [],
   "source": []
  }
 ],
 "metadata": {
  "kernelspec": {
   "display_name": "Python 3 (ipykernel)",
   "language": "python",
   "name": "python3"
  },
  "language_info": {
   "codemirror_mode": {
    "name": "ipython",
    "version": 3
   },
   "file_extension": ".py",
   "mimetype": "text/x-python",
   "name": "python",
   "nbconvert_exporter": "python",
   "pygments_lexer": "ipython3",
   "version": "3.8.12"
  }
 },
 "nbformat": 4,
 "nbformat_minor": 5
}
