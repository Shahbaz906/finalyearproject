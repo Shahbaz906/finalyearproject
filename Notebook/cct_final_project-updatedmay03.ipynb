{
 "cells": [
  {
   "cell_type": "markdown",
   "id": "e3c459f2",
   "metadata": {},
   "source": [
    "**CCT - Final Project**"
   ]
  },
  {
   "cell_type": "code",
   "execution_count": null,
   "id": "303dd1b3",
   "metadata": {},
   "outputs": [],
   "source": [
    "# Importing the libraries\n",
    "import numpy as np\n",
    "import seaborn as sns\n",
    "import pandas as pd\n",
    "import matplotlib as mpl\n",
    "import matplotlib.pyplot as plt\n",
    "import plotly.graph_objects as go\n",
    "from sklearn.decomposition import PCA\n",
    "from sklearn.decomposition import PCA\n",
    "from sklearn.preprocessing import StandardScaler\n",
    "from sklearn.linear_model import LinearRegression, Lasso, Ridge, ElasticNet\n",
    "from sklearn.metrics import mean_squared_error\n",
    "from sklearn.preprocessing import PolynomialFeatures, MinMaxScaler, LabelEncoder\n",
    "from sklearn.metrics import r2_score\n",
    "import matplotlib.pyplot as plt \n",
    "from sklearn.model_selection import train_test_split\n",
    "from sklearn.feature_selection import RFE\n",
    "from sklearn.ensemble import ExtraTreesRegressor\n",
    "from __future__  import print_function #adds compatibility with new versions of Python\n",
    "%matplotlib inline \n",
    "#it needs to have two underscore for 'future', if not it thorws an error: \n",
    "#ModuleNotFoundError: No module named '_future_'\n",
    "\n",
    "import warnings\n",
    "warnings.filterwarnings(\"ignore\") #This command ignores the warning \n",
    "\n",
    "#other llbraries and dependencies were added along the notebook. "
   ]
  },
  {
   "cell_type": "code",
   "execution_count": null,
   "id": "8450dd8f",
   "metadata": {},
   "outputs": [],
   "source": [
    "#Dependecies used in this notebook.\n",
    "#To install, please remove the hashtag.\n",
    "\n",
    "#pip install panda\n",
    "#pip install seaborn\n",
    "#pip install plotly\n",
    "#pip install matplotlib\n",
    "#pip install scikit-learn\n",
    "#pip install spacy\n",
    "#pip install wordcloud\n",
    "#pip install stopwords\n",
    "#pip install tensorflow\n",
    "#pip install googletrans==4.0.0rc1"
   ]
  },
  {
   "cell_type": "markdown",
   "id": "e8b4b144",
   "metadata": {},
   "source": [
    "Index of Datasets:\n",
    "<p> 1) Listings </p>\n",
    "<p> 2) Review </p>\n",
    "<p> 3) Calendar </p>\n",
    "<p> 4) Airbnb_listing </p>\n",
    "<p> 5) Airbnb_listing1 </p>\n",
    "<p> 6) Rate </p>\n",
    "\n",
    "<p>Some of the datasets are for trends and whether or not features influence reviews that influence occupancy that generates higher ROI. \n",
    "The datasets for ML Listing ad Rate, they are sample data of Dublin to help identify the price and occupancy rate in the future.</p>"
   ]
  },
  {
   "cell_type": "code",
   "execution_count": null,
   "id": "25fad949",
   "metadata": {},
   "outputs": [],
   "source": [
    "#Importing the dataset #1\n",
    "\n",
    "#The dataset chosen for this project is listings for Airbnb \n",
    "\n",
    "listing = pd.read_csv('listings.csv')\n"
   ]
  },
  {
   "cell_type": "code",
   "execution_count": null,
   "id": "dcf16a57",
   "metadata": {},
   "outputs": [],
   "source": [
    "#Importing the dataset #2\n",
    "\n",
    "#The dataset chosen for this project is reviews for Airbnb \n",
    "\n",
    "review = pd.read_csv('reviews.csv')\n"
   ]
  },
  {
   "cell_type": "code",
   "execution_count": null,
   "id": "bbad1908",
   "metadata": {},
   "outputs": [],
   "source": [
    "#Importing the dataset # 3\n",
    "\n",
    "#The dataset chosen for this project is calendar for Airbnb\n",
    "\n",
    "calendar = pd.read_csv('calendar.csv')\n"
   ]
  },
  {
   "cell_type": "code",
   "execution_count": null,
   "id": "6c8d0ddf",
   "metadata": {},
   "outputs": [],
   "source": [
    "#Importing the dataset # 4\n",
    "\n",
    "#The dataset chosen for this project is the Dublin listings from OpenData \n",
    "\n",
    "airbnb_listing_1 = pd.read_csv('airbnb-listings.csv', sep=\";\")\n"
   ]
  },
  {
   "cell_type": "code",
   "execution_count": null,
   "id": "f61231d8",
   "metadata": {},
   "outputs": [],
   "source": [
    "#Importing the dataset # 5\n",
    "\n",
    "#The dataset chosen for this project is Dublin listings from OpenData \n",
    "\n",
    "airbnb_listing_2 = pd.read_csv('airbnb-opendata.csv', sep=\";\")"
   ]
  },
  {
   "cell_type": "code",
   "execution_count": null,
   "id": "ebc5e402",
   "metadata": {},
   "outputs": [],
   "source": [
    "#Importing the dataset # 6\n",
    "\n",
    "#The dataset chosen for this project is Dublin rate from Airbtics \n",
    "rate = pd.read_csv('rate.csv')\n",
    "\n",
    "#this dataset is a sample, however it contains a lot of information. \n",
    "#It needed to be fixed as it didn't have the columns set right.\n"
   ]
  },
  {
   "cell_type": "markdown",
   "id": "0a6e9d48",
   "metadata": {},
   "source": [
    "**Dataset 1: Listings**\n"
   ]
  },
  {
   "cell_type": "markdown",
   "id": "b9f3b5c8",
   "metadata": {},
   "source": [
    "Data Understanding & Cleaning"
   ]
  },
  {
   "cell_type": "code",
   "execution_count": null,
   "id": "8d3df24c",
   "metadata": {},
   "outputs": [],
   "source": [
    "listing.info()"
   ]
  },
  {
   "cell_type": "code",
   "execution_count": null,
   "id": "a28ea2c0",
   "metadata": {},
   "outputs": [],
   "source": [
    "# Drop the data that are not of interest and/or causing privacy issues\n",
    "listing.drop(['id','host_name','last_review'], axis=1, inplace=True)\n",
    "# Visualize the first 5 rows\n",
    "listing.head(100)"
   ]
  },
  {
   "cell_type": "code",
   "execution_count": null,
   "id": "c7323366",
   "metadata": {},
   "outputs": [],
   "source": [
    "listing.isnull().sum()"
   ]
  },
  {
   "cell_type": "code",
   "execution_count": null,
   "id": "f77ba2a5",
   "metadata": {},
   "outputs": [],
   "source": [
    "listing.info()"
   ]
  },
  {
   "cell_type": "code",
   "execution_count": null,
   "id": "a34ca9f5",
   "metadata": {},
   "outputs": [],
   "source": [
    "listing.drop(['neighbourhood_group', 'license'], axis=1, inplace=True)\n",
    "#listing.drop(['neighbourhood_group', 'license', 'name'], axis=1, inplace=True)"
   ]
  },
  {
   "cell_type": "markdown",
   "id": "76db4b9e",
   "metadata": {},
   "source": [
    "**Data Visualisation - EDA Listing**"
   ]
  },
  {
   "cell_type": "code",
   "execution_count": null,
   "id": "b99d8f24",
   "metadata": {},
   "outputs": [],
   "source": [
    "# Visualizing the distribution for every \"feature\"\n",
    "listing.hist(edgecolor=\"black\", linewidth=1.2, figsize=(30, 30));"
   ]
  },
  {
   "cell_type": "code",
   "execution_count": null,
   "id": "4b010a6e",
   "metadata": {},
   "outputs": [],
   "source": [
    "plt.figure(figsize=(30, 30))\n",
    "sns.pairplot(listing, height=5, diag_kind=\"hist\")\n",
    "\n",
    "#latitude and longitude have a normal distribution, most of the hosts are concetrated in specific area.\n",
    "#reviews_per_month has a lot of outliers, because of the missing values could be filled by mean() and mode()\n",
    "#most the hosts have a price under 1000"
   ]
  },
  {
   "cell_type": "code",
   "execution_count": null,
   "id": "81e67a69",
   "metadata": {},
   "outputs": [],
   "source": [
    "# Another way to visualize the data is to use FacetGrid to plot multiple kedplots on one plot\n",
    "\n",
    "fig = sns.FacetGrid(listing, hue=\"neighbourhood\", aspect=4, height=10)\n",
    "fig.map(sns.kdeplot, 'host_id', shade=True)\n",
    "oldest = listing['host_id'].max()\n",
    "fig.set(xlim=(0, oldest))\n",
    "sns.set(font_scale=5)\n",
    "fig.add_legend()"
   ]
  },
  {
   "cell_type": "code",
   "execution_count": null,
   "id": "c0360e39",
   "metadata": {},
   "outputs": [],
   "source": [
    "sns.set(font_scale=1.5)\n",
    "sns.catplot(\"room_type\", data=listing, kind=\"count\", height=8)"
   ]
  },
  {
   "cell_type": "code",
   "execution_count": null,
   "id": "d3052608",
   "metadata": {},
   "outputs": [],
   "source": [
    "# Another way to visualize the data is to use FacetGrid to plot multiple kde plots on one plot\n",
    "\n",
    "fig = sns.FacetGrid(listing, hue=\"room_type\", aspect=4, height=10)\n",
    "fig.map(sns.kdeplot, 'host_id', shade=True)\n",
    "oldest = listing['host_id'].max()\n",
    "fig.set(xlim=(0, oldest))\n",
    "sns.set(font_scale=5)\n",
    "fig.add_legend()"
   ]
  },
  {
   "cell_type": "code",
   "execution_count": null,
   "id": "de626604",
   "metadata": {},
   "outputs": [],
   "source": [
    "sns.set(font_scale=1.5)\n",
    "plt.figure(figsize=(12, 8))\n",
    "listing.host_id.hist(bins=100)"
   ]
  },
  {
   "cell_type": "code",
   "execution_count": null,
   "id": "c3e4f67e",
   "metadata": {},
   "outputs": [],
   "source": [
    "data = listing.neighbourhood.value_counts()[:10]\n",
    "plt.figure(figsize=(10, 6))\n",
    "x = list(data.index)\n",
    "y = list(data.values)\n",
    "x.reverse()\n",
    "y.reverse()\n",
    "\n",
    "plt.title(\"Most Popular Neighbourhood\")\n",
    "\n",
    "plt.barh(x, y)"
   ]
  },
  {
   "cell_type": "code",
   "execution_count": null,
   "id": "0bea4fd7",
   "metadata": {},
   "outputs": [],
   "source": [
    "listing['neighbourhood'].value_counts()\n",
    "\n",
    "#Dublin City has 5334 properties listed out of 6977 in total\n",
    "#Dun Laoghaire has 742\n",
    "#Fingal has 616 and South Dublin represents the lower portion with only 285 properties listed."
   ]
  },
  {
   "cell_type": "code",
   "execution_count": null,
   "id": "9ec7d813",
   "metadata": {},
   "outputs": [],
   "source": [
    "#Check property availability per neighbourhood\n",
    "plt.figure(figsize=(14,6));\n",
    "listing.groupby(['neighbourhood'])['availability_365'].mean().sort_values(ascending=False).plot(kind='bar');\n",
    "plt.title('Availability Percentage by Neighbourhood');\n",
    "plt.ylabel('Availability in 365 days');"
   ]
  },
  {
   "cell_type": "code",
   "execution_count": null,
   "id": "8664bb60",
   "metadata": {},
   "outputs": [],
   "source": [
    "listing['number_of_reviews'].value_counts()\n",
    "\n",
    "#1450 out of 6977 Properties have 0 reviews. \n",
    "#653 properties have at least 1 review.\n",
    "#463 properties have more than 1 review."
   ]
  },
  {
   "cell_type": "code",
   "execution_count": null,
   "id": "5bd57179",
   "metadata": {},
   "outputs": [],
   "source": [
    "plt.figure(figsize=(15, 10))\n",
    "plt.scatter(listing.longitude, listing.latitude, c=listing.availability_365, cmap='summer', edgecolor='black', linewidth=1, alpha=0.75)\n",
    "\n",
    "cbar = plt.colorbar()\n",
    "cbar.set_label('availability_365')\n",
    "\n",
    "\n",
    "plt.figure(figsize=(12, 8))\n",
    "plt.scatter(listing.longitude, listing.latitude, c=listing.price, cmap='summer', edgecolor='black', linewidth=1, alpha=0.75)\n",
    "\n",
    "cbar = plt.colorbar()\n",
    "cbar.set_label('Price $')"
   ]
  },
  {
   "cell_type": "code",
   "execution_count": null,
   "id": "6e6b83df",
   "metadata": {},
   "outputs": [],
   "source": [
    "print(f\"Average of price per night : ${listing.price.mean():.2f}\")\n",
    "print(f\"Maximum price per night : ${listing.price.max()}\")\n",
    "print(f\"Minimum price per night : ${listing.price.min()}\")"
   ]
  },
  {
   "cell_type": "code",
   "execution_count": null,
   "id": "8c90006d",
   "metadata": {},
   "outputs": [],
   "source": [
    "# group the listings by neighbourood and get the average price\n",
    "listing.groupby('neighbourhood')['price'].mean().sort_values(ascending=False)"
   ]
  },
  {
   "cell_type": "code",
   "execution_count": null,
   "id": "65f0d8f1",
   "metadata": {},
   "outputs": [],
   "source": [
    "(listing.groupby('neighbourhood')['price'].mean().sort_values(ascending=False)).plot(kind=\"bar\", figsize=(16,8));\n",
    "plt.title(\"Average Price per Neighbourhood\");\n",
    "plt.ylabel('Average Price');\n",
    "\n",
    "#Entire homes or apartments seem to be the most expensive type of properties in Ireland,\n",
    "#followed by Hotel rooms, private rooms and shared rooms (hostels)."
   ]
  },
  {
   "cell_type": "code",
   "execution_count": null,
   "id": "9ebd6162",
   "metadata": {},
   "outputs": [],
   "source": [
    "#really expensive house\n",
    "\n",
    "listing[listing.price == 1173721]"
   ]
  },
  {
   "cell_type": "code",
   "execution_count": null,
   "id": "53d60d3d",
   "metadata": {},
   "outputs": [],
   "source": [
    "#really cheap houses\n",
    "\n",
    "listing[listing.price <10]"
   ]
  },
  {
   "cell_type": "code",
   "execution_count": null,
   "id": "02ea595d",
   "metadata": {},
   "outputs": [],
   "source": [
    "#Limit price to 2000\n",
    "ax = sns.boxplot( y=\"price\", data=listing)\n",
    "ax.set_ylim([0, 2000])"
   ]
  },
  {
   "cell_type": "code",
   "execution_count": null,
   "id": "3b67b043",
   "metadata": {},
   "outputs": [],
   "source": [
    "# Computing IQR\n",
    "q1 = listing['price'].quantile(0.25)\n",
    "q3 = listing['price'].quantile(0.75)\n",
    "iqr = q3 - q1\n",
    "print(iqr)\n",
    "\n",
    "print(q3+(1.5*iqr))\n",
    "\n",
    "outliers= listing.loc[listing['price'] > q3+(1.5*iqr)]"
   ]
  },
  {
   "cell_type": "code",
   "execution_count": null,
   "id": "81b7d3dd",
   "metadata": {},
   "outputs": [],
   "source": [
    "listing_without_outliers = listing.loc[listing['price'] <= q3+(1.5*iqr)]\n",
    "\n",
    "#Boxplot\n",
    "ax = sns.boxplot( y=\"price\", data=listing_without_outliers)"
   ]
  },
  {
   "cell_type": "code",
   "execution_count": null,
   "id": "b23f5ced",
   "metadata": {},
   "outputs": [],
   "source": [
    "sub_1=listing_without_outliers[listing_without_outliers.price < 500]\n",
    "\n",
    "import matplotlib.image as mpimg\n",
    "%matplotlib inline\n",
    "\n",
    "vis_1=sub_1.plot(kind='scatter', x='longitude', y='latitude', label='neighbourhood', c='price',\n",
    "                  cmap=plt.get_cmap('jet'), colorbar=True, alpha=0.4, figsize=(10,8))\n",
    "vis_1.legend()"
   ]
  },
  {
   "cell_type": "code",
   "execution_count": null,
   "id": "e0d39fe1",
   "metadata": {},
   "outputs": [],
   "source": [
    "# correlation matrix\n",
    "sns.set(font_scale=3)\n",
    "plt.figure(figsize=(30, 20))\n",
    "sns.heatmap(listing.corr(), annot=True)"
   ]
  },
  {
   "cell_type": "code",
   "execution_count": null,
   "id": "2007fe1f",
   "metadata": {},
   "outputs": [],
   "source": [
    "plt.figure(figsize=(30, 30))\n",
    "sns.set(font_scale=1.5)\n",
    "i = 1\n",
    "for column in listing.columns:\n",
    "    if listing[column].dtype == \"float64\" or listing[column].dtype == \"int64\":\n",
    "        plt.subplot(5, 5, i)\n",
    "        listing.corr()[column].sort_values().plot(kind=\"barh\")\n",
    "        i += 1"
   ]
  },
  {
   "cell_type": "code",
   "execution_count": null,
   "id": "b4a7a27d",
   "metadata": {},
   "outputs": [],
   "source": [
    "top_host= listing.host_id.value_counts().head(10)\n",
    "top_host\n",
    "\n",
    "top_host=pd.DataFrame(top_host)\n",
    "top_host.reset_index(inplace=True)\n",
    "top_host.rename(columns={'index':'Host_ID', 'host_id':'P_Count'}, inplace=True)\n",
    "top_host"
   ]
  },
  {
   "cell_type": "code",
   "execution_count": null,
   "id": "cd10a089",
   "metadata": {},
   "outputs": [],
   "source": [
    "top_host_check= listing.calculated_host_listings_count.max()\n",
    "top_host_check"
   ]
  },
  {
   "cell_type": "code",
   "execution_count": null,
   "id": "876d8bf4",
   "metadata": {},
   "outputs": [],
   "source": [
    "barchart_host=sns.barplot(x=\"Host_ID\", y=\"P_Count\", data=top_host,\n",
    "                 palette='Blues_d')\n",
    "barchart_host.set_title('Hosts with the most listings in Dublin')\n",
    "barchart_host.set_ylabel('Count of listings')\n",
    "barchart_host.set_xlabel('Host IDs')\n",
    "barchart_host.set_xticklabels(barchart_host.get_xticklabels(), rotation=45)"
   ]
  },
  {
   "cell_type": "code",
   "execution_count": null,
   "id": "b141decb",
   "metadata": {},
   "outputs": [],
   "source": [
    "listing['availability_365'].value_counts()\n",
    "\n",
    "#4237 properties have 0 days available.\n",
    "#Only 2740 properties out of 6977 had more than 1 day available for rental at the time this data was collected. \n",
    "#186 properties are available for at least 358 days a year."
   ]
  },
  {
   "cell_type": "code",
   "execution_count": null,
   "id": "6ac0087c",
   "metadata": {},
   "outputs": [],
   "source": [
    "scatter_avail=listing.plot(kind='scatter', x='longitude', y='latitude', label='availability_365', c='price',\n",
    "                  cmap=plt.get_cmap('jet'), colorbar=True, alpha=0.4, figsize=(10,8))\n",
    "scatter_avail.legend()"
   ]
  },
  {
   "cell_type": "code",
   "execution_count": null,
   "id": "d21ecb75",
   "metadata": {},
   "outputs": [],
   "source": [
    "listing.fillna({'reviews_per_month':0}, inplace=True)"
   ]
  },
  {
   "cell_type": "code",
   "execution_count": null,
   "id": "9de6b34b",
   "metadata": {},
   "outputs": [],
   "source": [
    "(listing[['price', 'minimum_nights', 'number_of_reviews', 'reviews_per_month',\n",
    "       'calculated_host_listings_count', 'availability_365']]\n",
    " .describe())"
   ]
  },
  {
   "cell_type": "code",
   "execution_count": null,
   "id": "0d0f05f3",
   "metadata": {},
   "outputs": [],
   "source": [
    "listing = listing.loc[listing['price'] > 0]"
   ]
  },
  {
   "cell_type": "code",
   "execution_count": null,
   "id": "a1bd8c03",
   "metadata": {},
   "outputs": [],
   "source": [
    "listing.describe()"
   ]
  },
  {
   "cell_type": "code",
   "execution_count": null,
   "id": "c91417c4",
   "metadata": {},
   "outputs": [],
   "source": [
    "listing.head()"
   ]
  },
  {
   "cell_type": "code",
   "execution_count": null,
   "id": "2269eb06",
   "metadata": {},
   "outputs": [],
   "source": [
    "# Recode data as categorical\n",
    "listing_encoded = listing.copy()\n",
    "listing_encoded['minimum_nights'] = pd.qcut(listing['minimum_nights'], q=2, labels=[\"minimum_nights_low\", \"minimum_nights_high\"])\n",
    "listing_encoded['number_of_reviews'] = pd.qcut(listing['number_of_reviews'], q=3, labels=[\"number_of_reviews_low\", \"minimum_nights_medium\", \"number_of_reviews_high\"])\n",
    "listing_encoded['reviews_per_month'] = pd.qcut(listing['reviews_per_month'], q=2, labels=[\"reviews_per_month_low\", \"reviews_per_month_high\"])\n",
    "listing_encoded['calculated_host_listings_count'] = pd.cut(listing['calculated_host_listings_count'], \n",
    "                                                bins=[0, 2, 327],\n",
    "                                                labels=[\"calculated_host_listings_count_low\", \"calculated_host_listings_count_high\"])\n",
    "\n",
    "#NEEDS TO BE FIXED\n",
    "#listing_encoded['availability_365'] = pd.qcut(listing['availability_365'], q=2, labels=[\"availability_low\", \"availability_high\"])\n"
   ]
  },
  {
   "cell_type": "code",
   "execution_count": null,
   "id": "8f85ff06",
   "metadata": {},
   "outputs": [],
   "source": [
    "listing_encoded.isnull().sum()"
   ]
  },
  {
   "cell_type": "code",
   "execution_count": null,
   "id": "c74ed075",
   "metadata": {},
   "outputs": [],
   "source": [
    "sns.set_palette(\"muted\")\n",
    "from pylab import *\n",
    "f, ax = plt.subplots(figsize=(8, 6))\n",
    "\n",
    "subplot(2,3,1)\n",
    "sns.distplot(listing['price'])\n",
    "\n",
    "subplot(2,3,2)\n",
    "sns.distplot(listing['minimum_nights'])\n",
    "\n",
    "subplot(2,3,3)\n",
    "sns.distplot(listing['number_of_reviews'])\n",
    "\n",
    "subplot(2,3,4)\n",
    "sns.distplot(listing['reviews_per_month'])\n",
    "\n",
    "subplot(2,3,5)\n",
    "sns.distplot(listing['calculated_host_listings_count'])\n",
    "\n",
    "subplot(2,3,6)\n",
    "sns.distplot(listing['availability_365'])\n",
    "\n",
    "plt.tight_layout() # avoid overlap of plotsplt.draw()"
   ]
  },
  {
   "cell_type": "code",
   "execution_count": null,
   "id": "f78ed672",
   "metadata": {},
   "outputs": [],
   "source": [
    "title = 'Properties per Neighbourhood'\n",
    "chart = sns.countplot(listing['neighbourhood'])\n",
    "\n",
    "chart.set_xticklabels(chart.get_xticklabels(), rotation=90)\n",
    "\n",
    "plt.title(title)\n",
    "plt.ioff()"
   ]
  },
  {
   "cell_type": "code",
   "execution_count": null,
   "id": "61dc2040",
   "metadata": {},
   "outputs": [],
   "source": [
    "title = 'Properties per Room Type'\n",
    "chart_prop = sns.countplot(listing['room_type'])\n",
    "chart_prop.set_xticklabels(chart.get_xticklabels(), rotation=90) #add 90 degree to the neighbourhood.\n",
    "plt.title(title)\n",
    "plt.ioff()"
   ]
  },
  {
   "cell_type": "code",
   "execution_count": null,
   "id": "2d600edc",
   "metadata": {},
   "outputs": [],
   "source": [
    "plt.figure(figsize=(20,10))\n",
    "title = 'Correlation matrix of numerical variables'\n",
    "sns.heatmap(listing.corr(), square=True, cmap='RdYlGn')\n",
    "plt.title(title)\n",
    "plt.ioff()"
   ]
  },
  {
   "cell_type": "code",
   "execution_count": null,
   "id": "f0356613",
   "metadata": {},
   "outputs": [],
   "source": [
    "corr = listing.corr()"
   ]
  },
  {
   "cell_type": "code",
   "execution_count": null,
   "id": "5d1aef37",
   "metadata": {},
   "outputs": [],
   "source": [
    "corr.style.background_gradient(cmap = 'coolwarm')\n",
    "\n",
    "#Strong Correlations were found between:\n",
    "#The number_of_reviews_ltm and reviews_per_month columns (0.75)\n",
    "#The number_of_reviews and reviews_per_month (0.55)\n",
    "#No further important correlations were found."
   ]
  },
  {
   "cell_type": "code",
   "execution_count": null,
   "id": "a388cd0f",
   "metadata": {},
   "outputs": [],
   "source": [
    "title = 'Neighbourhood Location'\n",
    "plt.figure(figsize=(10,6))\n",
    "sns.scatterplot(listing.longitude,listing.latitude,hue=listing.neighbourhood).set_title(title)\n",
    "plt.ioff()\n",
    "\n",
    "title = 'Room type location per Neighbourhood'\n",
    "plt.figure(figsize=(10,6))\n",
    "sns.scatterplot(listing.longitude,listing.latitude,hue=listing.room_type).set_title(title)\n",
    "plt.ioff()"
   ]
  },
  {
   "cell_type": "code",
   "execution_count": null,
   "id": "c04a7529",
   "metadata": {},
   "outputs": [],
   "source": [
    "listing.info()\n"
   ]
  },
  {
   "cell_type": "code",
   "execution_count": null,
   "id": "c45b9a8b",
   "metadata": {},
   "outputs": [],
   "source": [
    "#initializing empty list where we are going to put our name strings\n",
    "_names_=[]\n",
    "#getting name strings from the column and appending it to the list\n",
    "for name in listing.name:\n",
    "    _names_.append(name)\n",
    "#setting a function that will split those name strings into separate words   \n",
    "def split_name(name):\n",
    "    spl=str(name).split()\n",
    "    return spl\n",
    "#initializing empty list where we are going to have words counted\n",
    "_names_for_count_=[]\n",
    "#getting name string from our list and using split function, later appending to list above\n",
    "for x in _names_:\n",
    "    for word in split_name(x):\n",
    "        word=word.lower()\n",
    "        _names_for_count_.append(word)"
   ]
  },
  {
   "cell_type": "code",
   "execution_count": null,
   "id": "4392a2eb",
   "metadata": {},
   "outputs": [],
   "source": [
    "#we are going to use counter\n",
    "from collections import Counter\n",
    "#let's see top 25 used words by host to name their listing\n",
    "_top_25_w=Counter(_names_for_count_).most_common()\n",
    "_top_25_w=_top_25_w[0:25]"
   ]
  },
  {
   "cell_type": "code",
   "execution_count": null,
   "id": "86932672",
   "metadata": {},
   "outputs": [],
   "source": [
    "#now let's put our findings in dataframe for further visualizations\n",
    "sub_w=pd.DataFrame(_top_25_w)\n",
    "sub_w.rename(columns={0:'Words', 1:'Count'}, inplace=True)"
   ]
  },
  {
   "cell_type": "code",
   "execution_count": null,
   "id": "b12edb9a",
   "metadata": {},
   "outputs": [],
   "source": [
    "viz_5=sns.barplot(x='Words', y='Count', data=sub_w)\n",
    "viz_5.set_title('Counts of the top 25 used words for listing names')\n",
    "viz_5.set_ylabel('Count of words')\n",
    "viz_5.set_xlabel('Words')\n",
    "viz_5.set_xticklabels(viz_5.get_xticklabels(), rotation=90)"
   ]
  },
  {
   "cell_type": "code",
   "execution_count": null,
   "id": "186681ba",
   "metadata": {},
   "outputs": [],
   "source": [
    "sub_1=listing.loc[listing['neighbourhood'] == 'Dn Laoghaire-Tathdown']\n",
    "price_sub1=sub_1[['price']]\n",
    "#Manhattan\n",
    "sub_2=listing.loc[listing['neighbourhood'] == 'South Dublin']\n",
    "price_sub2=sub_2[['price']]\n",
    "#Queens\n",
    "sub_3=listing.loc[listing['neighbourhood'] == 'Dublin City']\n",
    "price_sub3=sub_3[['price']]\n",
    "#Staten Island\n",
    "sub_4=listing.loc[listing['neighbourhood'] == 'Fingal']\n",
    "price_sub4=sub_4[['price']]\n",
    "\n",
    "#putting all the prices' dfs in the list\n",
    "price_list_by_n=[price_sub1, price_sub2, price_sub3, price_sub4]"
   ]
  },
  {
   "cell_type": "code",
   "execution_count": null,
   "id": "524fdaed",
   "metadata": {},
   "outputs": [],
   "source": [
    "p_l_b_n_2=[]\n",
    "#creating list with known values in neighbourhood_group column\n",
    "nei_list=['Dn Laoghaire-Tathdown', 'South Dublin', 'Dublin City', 'Fingal']\n",
    "#creating a for loop to get statistics for price ranges and append it to our empty list\n",
    "for x in price_list_by_n:\n",
    "    i=x.describe(percentiles=[.25, .50, .75])\n",
    "    i=i.iloc[3:]\n",
    "    i.reset_index(inplace=True)\n",
    "    i.rename(columns={'index':'Stats'}, inplace=True)\n",
    "    p_l_b_n_2.append(i)\n",
    "#changing names of the price column to the area name for easier reading of the table    \n",
    "p_l_b_n_2[0].rename(columns={'price':nei_list[0]}, inplace=True)\n",
    "p_l_b_n_2[1].rename(columns={'price':nei_list[1]}, inplace=True)\n",
    "p_l_b_n_2[2].rename(columns={'price':nei_list[2]}, inplace=True)\n",
    "p_l_b_n_2[3].rename(columns={'price':nei_list[3]}, inplace=True)\n",
    "\n",
    "#finilizing our dataframe for final view    \n",
    "stat_df=p_l_b_n_2\n",
    "stat_df=[df.set_index('Stats') for df in stat_df]\n",
    "stat_df=stat_df[0].join(stat_df[1:])\n",
    "stat_df"
   ]
  },
  {
   "cell_type": "code",
   "execution_count": null,
   "id": "743086cc",
   "metadata": {},
   "outputs": [],
   "source": [
    "#creating a sub-dataframe with no extreme values / less than 500\n",
    "sub_6=listing[listing.price < 500]\n",
    "#using violinplot to showcase density and distribtuion of prices \n",
    "viz_2=sns.violinplot(data=sub_6, x='neighbourhood', y='price')\n",
    "viz_2.set_title('Density and distribution of prices for each neighberhood')"
   ]
  },
  {
   "cell_type": "code",
   "execution_count": null,
   "id": "189dddc6",
   "metadata": {},
   "outputs": [],
   "source": [
    "#View the top 10 properties most reviewed and get the average price per night\n",
    "top_reviewed_listings=listing.nlargest(10,'number_of_reviews')\n",
    "top_reviewed_listings"
   ]
  },
  {
   "cell_type": "code",
   "execution_count": null,
   "id": "5f2faa66",
   "metadata": {},
   "outputs": [],
   "source": [
    "price_avrg=top_reviewed_listings.price.mean()\n",
    "print('Average price per night: {}'.format(price_avrg))\n",
    "\n",
    "\n",
    "#These properties were the most reviewed from the dataset. \n",
    "#However, it is relevant to point out that they don't necessarily have the highest reviews. \n",
    "#In addition, another plot could be added in the future to check if there is a correlation between the highest reviews and the price per night. \n",
    "#90% of these properties are located in Dublin City. Which is another indication that Dublin City is indeed a relevant neighbourhood to consider when investing on a property or even when looking for accomodation.\n",
    "#The average price per night of these properties is 77.70 euros"
   ]
  },
  {
   "cell_type": "code",
   "execution_count": null,
   "id": "a8c2e0ec",
   "metadata": {},
   "outputs": [],
   "source": [
    "listing.info()"
   ]
  },
  {
   "cell_type": "markdown",
   "id": "692f9548",
   "metadata": {},
   "source": [
    "**Models and predictions**\n",
    "\n",
    "Price is the desired prediction."
   ]
  },
  {
   "cell_type": "code",
   "execution_count": null,
   "id": "98073207",
   "metadata": {},
   "outputs": [],
   "source": [
    "#Linear regression \n",
    "X = listing['price'].values.reshape(-1,1)\n",
    "y = listing['availability_365'].values.reshape(-1,1)"
   ]
  },
  {
   "cell_type": "code",
   "execution_count": null,
   "id": "90e7590b",
   "metadata": {},
   "outputs": [],
   "source": [
    "#split the data\n",
    "X_train, X_test, y_train, y_test = train_test_split(X, y, test_size=0.4, random_state=0)\n",
    "\n",
    "regressor = LinearRegression()  \n",
    "regressor.fit(X_train, y_train) #train the model"
   ]
  },
  {
   "cell_type": "code",
   "execution_count": null,
   "id": "1f50d8fa",
   "metadata": {},
   "outputs": [],
   "source": [
    "#Intercept\n",
    "print(regressor.intercept_)\n",
    "#Slope\n",
    "print(regressor.coef_)"
   ]
  },
  {
   "cell_type": "code",
   "execution_count": null,
   "id": "f3d8ffa7",
   "metadata": {},
   "outputs": [],
   "source": [
    "#Predict\n",
    "y_pred = regressor.predict(X_test)"
   ]
  },
  {
   "cell_type": "code",
   "execution_count": null,
   "id": "3f73c28a",
   "metadata": {},
   "outputs": [],
   "source": [
    "#actual value and predicted value\n",
    "dfLinReg = pd.DataFrame({'Actual': y_test.flatten(), 'Predicted': y_pred.flatten()})\n",
    "dfLinReg"
   ]
  },
  {
   "cell_type": "code",
   "execution_count": null,
   "id": "0b02085d",
   "metadata": {},
   "outputs": [],
   "source": [
    "import sklearn.metrics as metrics\n",
    "\n",
    "print('Mean Absolute Error:', metrics.mean_absolute_error(y_test, y_pred))  \n",
    "print('Mean Squared Error:', metrics.mean_squared_error(y_test, y_pred))  \n",
    "print('Root Mean Squared Error:', np.sqrt(metrics.mean_squared_error(y_test, y_pred)))\n",
    "\n",
    "\n",
    "#The above linear regression model is not ideal.\n",
    "#Changes to test size and random state did not impact the results"
   ]
  },
  {
   "cell_type": "code",
   "execution_count": null,
   "id": "4c462f11",
   "metadata": {},
   "outputs": [],
   "source": [
    "#Multiple Regression\n",
    "\n",
    "#Convert to Numeric\n",
    "# creating instance of labelencoder\n",
    "labelencoder = LabelEncoder()# Assigning numerical values and storing in another column\n",
    "listing['room_type_Cat'] = labelencoder.fit_transform(listing['room_type'])\n",
    "listing['city_Cat'] = labelencoder.fit_transform(listing['neighbourhood'])\n",
    "listing.head()"
   ]
  },
  {
   "cell_type": "code",
   "execution_count": null,
   "id": "2ae7e63e",
   "metadata": {},
   "outputs": [],
   "source": [
    "#multiple regression\n",
    "\n",
    "X_ = listing[['calculated_host_listings_count', 'room_type_Cat', \n",
    "          'room_type_Cat', 'city_Cat']] # multiple variable regression. \n",
    "Y = listing['price']\n",
    " \n",
    "# with sklearn\n",
    "regr = LinearRegression()\n",
    "regr.fit(X_, Y)\n",
    "\n",
    "print('Intercept: ', regr.intercept_)\n",
    "print('Coefficients: ', regr.coef_)\n",
    "\n",
    "print (regr)"
   ]
  },
  {
   "cell_type": "code",
   "execution_count": null,
   "id": "70e47d69",
   "metadata": {},
   "outputs": [],
   "source": [
    "y_pred2 = regr.predict(X_)"
   ]
  },
  {
   "cell_type": "code",
   "execution_count": null,
   "id": "2d3ddb69",
   "metadata": {},
   "outputs": [],
   "source": [
    "dfmult= pd.DataFrame({'Actual': Y, 'Predicted': y_pred2.flatten()})\n",
    "dfmult"
   ]
  },
  {
   "cell_type": "code",
   "execution_count": null,
   "id": "7aa8ff9e",
   "metadata": {},
   "outputs": [],
   "source": [
    "print('Root Mean Squared Error:', np.sqrt(metrics.mean_squared_error(Y, y_pred2)))\n",
    "print('Mean Absolute Error:', metrics.mean_absolute_error(Y, y_pred2))  \n",
    "print('Mean Squared Error:', metrics.mean_squared_error(Y, y_pred2))  \n"
   ]
  },
  {
   "cell_type": "code",
   "execution_count": null,
   "id": "bfb42a62",
   "metadata": {},
   "outputs": [],
   "source": [
    "#comparison \n",
    "first20preds2=dfmult.head(20)\n",
    "first20preds2.plot(kind='bar',figsize=(9,5))\n",
    "plt.grid(which='major', linestyle='-', linewidth='0.3', color='green')\n",
    "plt.grid(which='minor', linestyle=':', linewidth='0.5', color='black')\n",
    "plt.show()"
   ]
  },
  {
   "cell_type": "code",
   "execution_count": null,
   "id": "bdcd9e49",
   "metadata": {},
   "outputs": [],
   "source": [
    "#KNN\n",
    "# create a list of conditions\n",
    "conditions = [\n",
    "    (listing['price'] < 100),\n",
    "    (listing['price'] >= 100) & (listing['price'] < 250),\n",
    "     (listing['price'] >= 250) & (listing['price'] < 600),\n",
    "    (listing['price'] >= 600) ]\n",
    "\n",
    "# create a list of the values we want to assign for each condition\n",
    "values = ['economic', 'low-mid', 'high-mid','high']\n",
    "\n",
    "# create a new column and use np.select to assign values to it using our lists as arguments\n",
    "listing['price_range'] = np.select(conditions, values)"
   ]
  },
  {
   "cell_type": "code",
   "execution_count": null,
   "id": "bcc00f85",
   "metadata": {},
   "outputs": [],
   "source": [
    "listing['price_range'].value_counts()"
   ]
  },
  {
   "cell_type": "code",
   "execution_count": null,
   "id": "480dfb3d",
   "metadata": {},
   "outputs": [],
   "source": [
    "labelencoder = LabelEncoder()# Assigning numerical values and storing in another column\n",
    "listing['price_rng_Cat'] = labelencoder.fit_transform(listing['price_range'])"
   ]
  },
  {
   "cell_type": "code",
   "execution_count": null,
   "id": "c6243eb8",
   "metadata": {},
   "outputs": [],
   "source": [
    "knn=listing[['minimum_nights','availability_365', \n",
    "         'number_of_reviews', 'reviews_per_month', 'calculated_host_listings_count',\n",
    "         'room_type_Cat','city_Cat', 'price', 'price_rng_Cat']]"
   ]
  },
  {
   "cell_type": "code",
   "execution_count": null,
   "id": "d1a28345",
   "metadata": {},
   "outputs": [],
   "source": [
    "knn.corr().style.background_gradient(cmap='magma')"
   ]
  },
  {
   "cell_type": "code",
   "execution_count": null,
   "id": "d9c24078",
   "metadata": {},
   "outputs": [],
   "source": [
    "#conda install -c conda-forge scikit-learn\n"
   ]
  },
  {
   "cell_type": "code",
   "execution_count": null,
   "id": "d1f8fa45",
   "metadata": {},
   "outputs": [],
   "source": [
    "#K-nearest neighbors (KNN)\n",
    "##Best performing model\n",
    "\n",
    "from sklearn.neighbors import KNeighborsClassifier\n",
    "\n",
    "neigh = KNeighborsClassifier(n_neighbors=3)\n",
    "\n",
    "X1=knn.iloc[:, :-1].values\n",
    "Y1=knn['price_rng_Cat'].values\n",
    "\n",
    "# Split into training and test  \n",
    "X_train, X_test, y_train, y_test = train_test_split( \n",
    "             X1, Y1, test_size = 0.4, random_state=1) \n",
    "\n",
    "#standardize data\n",
    "from sklearn.preprocessing import StandardScaler\n",
    "scaler = StandardScaler()\n",
    "scaler.fit(X_train)\n",
    "\n",
    "X_train = scaler.transform(X_train)\n",
    "X_test = scaler.transform(X_test)\n",
    "\n",
    "#fit the model\n",
    "neigh.fit(X_train, y_train)"
   ]
  },
  {
   "cell_type": "code",
   "execution_count": null,
   "id": "8a778fe1",
   "metadata": {},
   "outputs": [],
   "source": [
    "# Predicted class\n",
    "y_pred3=neigh.predict(X_test)"
   ]
  },
  {
   "cell_type": "code",
   "execution_count": null,
   "id": "644c923f",
   "metadata": {},
   "outputs": [],
   "source": [
    "KNNmod = pd.DataFrame({'Actual': y_test.flatten(), 'Predicted': y_pred3.flatten()})\n",
    "KNNmod"
   ]
  },
  {
   "cell_type": "code",
   "execution_count": null,
   "id": "e60cb615",
   "metadata": {},
   "outputs": [],
   "source": [
    "# Calculate the accuracy of the model \n",
    "print(neigh.score(X_test, y_test)) \n",
    "\n",
    "print('Root Mean Squared Error:', np.sqrt(metrics.mean_squared_error(y_test, y_pred3)))"
   ]
  },
  {
   "cell_type": "code",
   "execution_count": null,
   "id": "e4deed22",
   "metadata": {},
   "outputs": [],
   "source": [
    "#comparison \n",
    "first20preds3=KNNmod.head(20)\n",
    "c2='darkkhaki', 'dimgray'\n",
    "first20preds3.plot(kind='barh',figsize=(9,6), color=c2)\n",
    "plt.grid(which='major', linestyle='-', linewidth='0.3', color='orange')\n",
    "plt.grid(which='minor', linestyle=':', linewidth='0.5', color='black')\n",
    "plt.show()"
   ]
  },
  {
   "cell_type": "markdown",
   "id": "86fec09f",
   "metadata": {},
   "source": [
    "**Dataset 2: Review**\n",
    "\n",
    "This dataset was chosen specifically for the sentiment analysis. "
   ]
  },
  {
   "cell_type": "markdown",
   "id": "b489afb2",
   "metadata": {},
   "source": [
    "Data Understanding and Cleaning"
   ]
  },
  {
   "cell_type": "code",
   "execution_count": null,
   "id": "93bff9aa",
   "metadata": {},
   "outputs": [],
   "source": [
    "review.head()"
   ]
  },
  {
   "cell_type": "code",
   "execution_count": null,
   "id": "5815c56a",
   "metadata": {},
   "outputs": [],
   "source": [
    "#Checking and removing if there are null values in the data.\n",
    "review.isnull().sum()"
   ]
  },
  {
   "cell_type": "code",
   "execution_count": null,
   "id": "4ed3afac",
   "metadata": {},
   "outputs": [],
   "source": [
    "#Filling up null values with No review for generate word cloud.\n",
    "review.fillna({'comments': 'Not available'}, inplace = True)"
   ]
  },
  {
   "cell_type": "code",
   "execution_count": null,
   "id": "879d783a",
   "metadata": {},
   "outputs": [],
   "source": [
    "review.isnull().sum()"
   ]
  },
  {
   "cell_type": "code",
   "execution_count": null,
   "id": "ca0385a7",
   "metadata": {},
   "outputs": [],
   "source": [
    "#Dropping columns that are not needed for the future model\n",
    "review.drop(['id', 'listing_id','date','reviewer_id','reviewer_name'], axis=1, inplace=True)"
   ]
  },
  {
   "cell_type": "code",
   "execution_count": null,
   "id": "3d3951d7",
   "metadata": {},
   "outputs": [],
   "source": [
    "review.info()"
   ]
  },
  {
   "cell_type": "markdown",
   "id": "b6ed9be5",
   "metadata": {},
   "source": [
    "**Sentiment Analysis**"
   ]
  },
  {
   "cell_type": "markdown",
   "id": "7b47e107",
   "metadata": {},
   "source": [
    "Sentiment analysis is important to understand how much of impact the reviews are for a businness but more for this dataset it is important to discover positive or negative reviews of locations in Dublin.\n",
    "\n",
    "It will use sentiment analysis from 1 to 5"
   ]
  },
  {
   "cell_type": "code",
   "execution_count": null,
   "id": "096d9ed2",
   "metadata": {},
   "outputs": [],
   "source": [
    "#!pip install torch torchvision torchaudio"
   ]
  },
  {
   "cell_type": "code",
   "execution_count": null,
   "id": "014372dc",
   "metadata": {},
   "outputs": [],
   "source": [
    "#conda install pytorch torchvision torchaudio -c pytorch"
   ]
  },
  {
   "cell_type": "code",
   "execution_count": null,
   "id": "48e5b968",
   "metadata": {},
   "outputs": [],
   "source": [
    "#!pip install transformers requests beautifulsoup4"
   ]
  },
  {
   "cell_type": "code",
   "execution_count": null,
   "id": "cf343223",
   "metadata": {},
   "outputs": [],
   "source": [
    "#pip install transformers"
   ]
  },
  {
   "cell_type": "code",
   "execution_count": null,
   "id": "f8018e88",
   "metadata": {},
   "outputs": [],
   "source": [
    "#pip install torchvision "
   ]
  },
  {
   "cell_type": "code",
   "execution_count": null,
   "id": "52b32314",
   "metadata": {},
   "outputs": [],
   "source": [
    "#conda install statsmodels"
   ]
  },
  {
   "cell_type": "code",
   "execution_count": null,
   "id": "a2cbfdfa",
   "metadata": {},
   "outputs": [],
   "source": [
    "from transformers import AutoTokenizer, AutoModelForSequenceClassification\n",
    "import torch\n",
    "import requests\n",
    "from bs4 import BeautifulSoup\n",
    "\n",
    "from statsmodels.stats.power import TTestIndPower"
   ]
  },
  {
   "cell_type": "code",
   "execution_count": null,
   "id": "c01f2a48",
   "metadata": {},
   "outputs": [],
   "source": [
    "#Instantiating the model\n",
    "\n",
    "tokenizer = AutoTokenizer.from_pretrained('nlptown/bert-base-multilingual-uncased-sentiment')\n",
    "\n",
    "model = AutoModelForSequenceClassification.from_pretrained('nlptown/bert-base-multilingual-uncased-sentiment')"
   ]
  },
  {
   "cell_type": "code",
   "execution_count": null,
   "id": "1e7c4ae7",
   "metadata": {},
   "outputs": [],
   "source": [
    "# Encoding and calculating sentiment\n",
    "\n",
    "#A test of a negative review\n",
    "tokens = tokenizer.encode('I did not like my stay, could be better', return_tensors='pt')"
   ]
  },
  {
   "cell_type": "code",
   "execution_count": null,
   "id": "8f57ebb9",
   "metadata": {},
   "outputs": [],
   "source": [
    "result = model(tokens)"
   ]
  },
  {
   "cell_type": "code",
   "execution_count": null,
   "id": "1e708ce7",
   "metadata": {},
   "outputs": [],
   "source": [
    "#Below is the result logits inside torch plus one to display the sentiment\n",
    "int(torch.argmax(result.logits))+1"
   ]
  },
  {
   "cell_type": "markdown",
   "id": "19d84507",
   "metadata": {},
   "source": [
    "### Sample size: \n",
    "As this dataframe contains over 221.000 rows to create an sentiment for the future will take a while,so using a power analysis to discover the sample size will allow us to the best for our future model."
   ]
  },
  {
   "cell_type": "code",
   "execution_count": null,
   "id": "e7ccd333",
   "metadata": {},
   "outputs": [],
   "source": [
    "#Start of power analysis\n",
    "power_analysis = TTestIndPower()"
   ]
  },
  {
   "cell_type": "code",
   "execution_count": null,
   "id": "70f80dbf",
   "metadata": {},
   "outputs": [],
   "source": [
    "#Calculating the sample size\n",
    "sample_size = power_analysis.solve_power(effect_size = 0.2, alpha = 0.05, power = 0.8, alternative = 'two-sided')"
   ]
  },
  {
   "cell_type": "code",
   "execution_count": null,
   "id": "4b4ce0f9",
   "metadata": {},
   "outputs": [],
   "source": [
    "#Results containing the sample\n",
    "print('The sample size needed is: ', round(sample_size))"
   ]
  },
  {
   "cell_type": "code",
   "execution_count": null,
   "id": "e9e12a4a",
   "metadata": {},
   "outputs": [],
   "source": [
    "#Selecting the first 500 rows of the dataframe to keep\n",
    "\n",
    "review2 = review.head(500)"
   ]
  },
  {
   "cell_type": "code",
   "execution_count": null,
   "id": "d4b1d8b0",
   "metadata": {},
   "outputs": [],
   "source": [
    "#conda install -c conda-forge spacy"
   ]
  },
  {
   "cell_type": "code",
   "execution_count": null,
   "id": "dc79787b",
   "metadata": {},
   "outputs": [],
   "source": [
    "#pip install -U pip setuptools wheel"
   ]
  },
  {
   "cell_type": "code",
   "execution_count": null,
   "id": "828745f0",
   "metadata": {},
   "outputs": [],
   "source": [
    "#pip install -U spacy"
   ]
  },
  {
   "cell_type": "code",
   "execution_count": null,
   "id": "0d39fc2b",
   "metadata": {},
   "outputs": [],
   "source": [
    "#pip instal -U spacy"
   ]
  },
  {
   "cell_type": "code",
   "execution_count": null,
   "id": "cd2683e5",
   "metadata": {},
   "outputs": [],
   "source": [
    "#conda install tensorflow "
   ]
  },
  {
   "cell_type": "code",
   "execution_count": null,
   "id": "07e5e2bc",
   "metadata": {},
   "outputs": [],
   "source": [
    "#Scoring sentiment from dataframe\n",
    "import re\n",
    "import spacy\n",
    "import nltk\n",
    "import tensorflow as tf\n",
    "from nltk.stem import WordNetLemmatizer\n",
    "from nltk.corpus import stopwords\n",
    "from wordcloud import WordCloud,STOPWORDS\n",
    "from tensorflow.keras.utils import to_categorical\n",
    "from tensorflow.keras.preprocessing.sequence import pad_sequences\n",
    "from tensorflow.keras.layers import Embedding, LSTM, Dense, Bidirectional\n",
    "from tensorflow.keras.models import Sequential\n",
    "from tensorflow.keras.optimizers import Adam"
   ]
  },
  {
   "cell_type": "code",
   "execution_count": null,
   "id": "7c6f5679",
   "metadata": {},
   "outputs": [],
   "source": [
    "#For creating the scoring the comments requires cleaning.\n",
    "review2"
   ]
  },
  {
   "cell_type": "code",
   "execution_count": null,
   "id": "d5f13193",
   "metadata": {},
   "outputs": [],
   "source": [
    "review2['comments'].iloc[0] "
   ]
  },
  {
   "cell_type": "code",
   "execution_count": null,
   "id": "631a5e3f",
   "metadata": {},
   "outputs": [],
   "source": [
    "#Creating a method for scoring the sentiment\n",
    "\n",
    "def sentiment_score(comments):\n",
    "    tokens = tokenizer.encode(comments, return_tensors='pt')\n",
    "    result = model(tokens)\n",
    "    return int(torch.argmax(result.logits))+1"
   ]
  },
  {
   "cell_type": "code",
   "execution_count": null,
   "id": "483a15c1",
   "metadata": {},
   "outputs": [],
   "source": [
    "#Diplay score sentiment of first row\n",
    "\n",
    "sentiment_score(review2['comments'].iloc[1] )"
   ]
  },
  {
   "cell_type": "code",
   "execution_count": null,
   "id": "97bfa78f",
   "metadata": {},
   "outputs": [],
   "source": [
    "#Applying the scores to the dataframe.\n",
    "\n",
    "review2['sentiment'] = review2['comments'].apply(lambda x: sentiment_score(x[:512]))"
   ]
  },
  {
   "cell_type": "code",
   "execution_count": null,
   "id": "c58a2ecb",
   "metadata": {},
   "outputs": [],
   "source": [
    "review2"
   ]
  },
  {
   "cell_type": "code",
   "execution_count": null,
   "id": "fcdeed40",
   "metadata": {},
   "outputs": [],
   "source": [
    "#Tokenization for prediction with sentiment\n",
    "#Cleaning method for tokenization\n",
    "\n",
    "stop_words = set(stopwords.words(\"english\")) \n",
    "lemmatizer = WordNetLemmatizer()\n",
    "\n",
    "\n",
    "def clean_text(text):\n",
    "    text = re.sub(r'[^\\w\\s]','',text, re.UNICODE)\n",
    "    text = text.lower()\n",
    "    text = [lemmatizer.lemmatize(token) for token in text.split(\" \")]\n",
    "    text = [lemmatizer.lemmatize(token, \"v\") for token in text]\n",
    "    text = [word for word in text if not word in stop_words]\n",
    "    text = \" \".join(text)\n",
    "    return text\n",
    "\n",
    "review2['Comments_processed'] = review2.comments.apply(lambda x: clean_text(x))"
   ]
  },
  {
   "cell_type": "code",
   "execution_count": null,
   "id": "4c3bd19e",
   "metadata": {},
   "outputs": [],
   "source": [
    "#Show comments processed\n",
    "\n",
    "review2.head()"
   ]
  },
  {
   "cell_type": "code",
   "execution_count": null,
   "id": "67d2d6b0",
   "metadata": {},
   "outputs": [],
   "source": [
    "#Find the mean of all the comments\n",
    "review2.Comments_processed.apply(lambda x: len(x.split(\" \"))).mean()"
   ]
  },
  {
   "cell_type": "code",
   "execution_count": null,
   "id": "e4d4e0d2",
   "metadata": {},
   "outputs": [],
   "source": [
    "#Creating model for prediction\n",
    "\n",
    "\n",
    "from tensorflow.keras.preprocessing.text import Tokenizer\n",
    "from tensorflow.keras.preprocessing.sequence import pad_sequences\n",
    "\n",
    "max_features = 6000\n",
    "tokenizer = Tokenizer()\n",
    "tokenizer.fit_on_texts(review2['Comments_processed'])\n",
    "list_tokenized_train = tokenizer.texts_to_sequences(review2['Comments_processed'])\n",
    "\n",
    "maxlen = 130\n",
    "X_train = pad_sequences(list_tokenized_train, maxlen=maxlen)\n",
    "y = review2['sentiment']\n",
    "\n",
    "embed_size = 128\n",
    "model = Sequential()\n",
    "model.add(Embedding(max_features, embed_size))\n",
    "model.add(Bidirectional(LSTM(32, return_sequences = True)))\n",
    "model.add(Dense(20, activation=\"relu\"))\n",
    "model.add(Dense(1, activation=\"sigmoid\"))\n",
    "model.compile(loss='binary_crossentropy', optimizer='adam', metrics=['accuracy'])\n",
    "\n",
    "batch_size = 100\n",
    "epochs = 3\n",
    "model.fit(X_train,y, batch_size=batch_size, epochs=epochs, validation_split=0.2)"
   ]
  },
  {
   "cell_type": "code",
   "execution_count": null,
   "id": "d14ab48c",
   "metadata": {},
   "outputs": [],
   "source": [
    "#Word Cloud\n",
    "#Visualization of most use words\n",
    "\n",
    "\n",
    "def wordCloud_generator(review2, title=None):\n",
    "    wordcloud = WordCloud(width = 800, height = 800,\n",
    "                          background_color ='white',\n",
    "                          min_font_size = 10\n",
    "                         ).generate(\" \".join(review2.values))                      \n",
    "    plt.figure(figsize = (8, 8), facecolor = None) \n",
    "    plt.imshow(wordcloud, interpolation='bilinear') \n",
    "    plt.axis(\"off\") \n",
    "    plt.tight_layout(pad = 0) \n",
    "    plt.title(title,fontsize=30)\n",
    "    plt.show()\n",
    "wordCloud_generator(review2['comments'], title=\"Top words in reviews\")"
   ]
  },
  {
   "cell_type": "markdown",
   "id": "cc795b61",
   "metadata": {},
   "source": [
    "**Dataset 3: Calendar**"
   ]
  },
  {
   "cell_type": "code",
   "execution_count": null,
   "id": "03df4dcd",
   "metadata": {},
   "outputs": [],
   "source": [
    "calendar.info()"
   ]
  },
  {
   "cell_type": "code",
   "execution_count": null,
   "id": "12984a2b",
   "metadata": {},
   "outputs": [],
   "source": [
    "#change the date column to a datetime \n",
    "calendar['date'] = pd.to_datetime(calendar.date)\n",
    "calendar.info(verbose=True, null_counts=True)"
   ]
  },
  {
   "cell_type": "code",
   "execution_count": null,
   "id": "1038f7c4",
   "metadata": {},
   "outputs": [],
   "source": [
    "#missing values in Calender data\n",
    "\n",
    "plt.figure(figsize=(10,6));\n",
    "null_price = calendar.isnull().sum()\n",
    "(null_price/calendar.shape[0]).plot(kind='bar');"
   ]
  },
  {
   "cell_type": "code",
   "execution_count": null,
   "id": "a869bec5",
   "metadata": {},
   "outputs": [],
   "source": [
    "#removing null dates\n",
    "calendar.dropna(axis=0,subset=['price'],inplace=True)"
   ]
  },
  {
   "cell_type": "code",
   "execution_count": null,
   "id": "43deeae1",
   "metadata": {},
   "outputs": [],
   "source": [
    "#data prep/wrangling\n",
    "\n",
    "#Calender dataset\n",
    "\n",
    "# change the date column to a datetime \n",
    "calendar['date'] = pd.to_datetime(calendar.date)\n",
    "calendar.info(verbose=True, null_counts=True)"
   ]
  },
  {
   "cell_type": "code",
   "execution_count": null,
   "id": "06106958",
   "metadata": {},
   "outputs": [],
   "source": [
    "# drop the missing values in price and drop \n",
    "calendar= calendar.dropna(subset=['price'], axis = 0)\n",
    "calendar.info(verbose=True, null_counts=True)"
   ]
  },
  {
   "cell_type": "code",
   "execution_count": null,
   "id": "c0cc732d",
   "metadata": {},
   "outputs": [],
   "source": [
    "#function to clean and convert str columns to numeric\n",
    "\n",
    "def str_to_num(df,column):\n",
    "    df[column] = pd.to_numeric(df[column].apply(lambda x : str(x).replace('$','').replace(\",\",'')),errors='coerce')\n",
    "    return df"
   ]
  },
  {
   "cell_type": "code",
   "execution_count": null,
   "id": "58e35c01",
   "metadata": {},
   "outputs": [],
   "source": [
    "columns = ['price','adjusted_price']\n",
    "\n",
    "for col in columns:\n",
    "    calendar = str_to_num(calendar,col)\n",
    "\n",
    "calendar[columns][:2]"
   ]
  },
  {
   "cell_type": "code",
   "execution_count": null,
   "id": "8e20dee1",
   "metadata": {},
   "outputs": [],
   "source": [
    "# to clean the price and convert it into a float \n",
    "calendar = str_to_num(calendar,'price')\n",
    "calendar.info(verbose=True, null_counts=True)"
   ]
  },
  {
   "cell_type": "code",
   "execution_count": null,
   "id": "97d12cbe",
   "metadata": {},
   "outputs": [],
   "source": [
    "calendar.describe()"
   ]
  },
  {
   "cell_type": "code",
   "execution_count": null,
   "id": "926d9d2f",
   "metadata": {},
   "outputs": [],
   "source": [
    "# add month and year column to the calender dataset\n",
    "calendar['month'], calendar['year'] = calendar.date.dt.month, calendar.date.dt.year\n",
    "calendar.info(verbose=True, null_counts=True)"
   ]
  },
  {
   "cell_type": "code",
   "execution_count": null,
   "id": "19202118",
   "metadata": {},
   "outputs": [],
   "source": [
    "#effect on booking prices at different times of the year\n",
    "\n",
    "calendar.available.value_counts()\n"
   ]
  },
  {
   "cell_type": "code",
   "execution_count": null,
   "id": "e860b61f",
   "metadata": {},
   "outputs": [],
   "source": [
    "#We can observe here that there is a price hike in mid of the year and prices are lowest at the start of the year.\n",
    "import plotly.offline as pyoff\n",
    "\n",
    "price = pd.DataFrame(calendar.groupby(['month','available']).mean()['price'].reset_index())\n",
    "\n",
    "data = [\n",
    "    go.Scatter(\n",
    "        x = price['month'],\n",
    "        y = price.price,\n",
    "        name = 'Price'\n",
    "    )\n",
    "]\n",
    "\n",
    "layout = go.Layout(\n",
    "    title = 'Booking prices as per months',\n",
    "    xaxis = dict(title='Months'),\n",
    "    yaxis = dict(title= '$ Price'),\n",
    "    showlegend=True,\n",
    "    \n",
    ")\n",
    "fig = go.Figure(data=data,layout=layout)\n",
    "\n",
    "pyoff.iplot(fig)"
   ]
  },
  {
   "cell_type": "code",
   "execution_count": null,
   "id": "410a4d12",
   "metadata": {},
   "outputs": [],
   "source": [
    "#as per the dataset all listings are available\n",
    "\n",
    "available_count_daily = calendar.groupby('date').count()[['price']]\n",
    "available_count_daily = available_count_daily.rename({\"price\":\"total_available_houses\"},axis='columns')\n",
    "\n",
    "average_price_daily = calendar.groupby('date').mean()[['price']]\n",
    "# change column name\n",
    "average_price_daily = average_price_daily.rename({\"price\":\"average_prices\"},axis='columns')"
   ]
  },
  {
   "cell_type": "code",
   "execution_count": null,
   "id": "ec2c7ac1",
   "metadata": {},
   "outputs": [],
   "source": [
    "# plot total available houses and average prices in one figure\n",
    "f, ax = plt.subplots(figsize=(15, 6))\n",
    "plt1 = sns.lineplot(x = available_count_daily.index,y = 'total_available_houses', \n",
    "                  data = available_count_daily,color=\"red\",legend=False,label='No. of houses available')\n",
    "\n",
    "ax2 = ax.twinx()\n",
    "plt2 = sns.lineplot(x = average_price_daily.index,y = 'average_prices',\n",
    "             data=average_price_daily,color = 'black', ax=ax2,linestyle=':', legend=False,label='Daily prices')\n",
    "ax.set_title('Comparing the daily availability of airbnb listing with the daily listing prices');\n",
    "ax2.legend();\n",
    "ax.legend();"
   ]
  },
  {
   "cell_type": "code",
   "execution_count": null,
   "id": "cfaf1eee",
   "metadata": {},
   "outputs": [],
   "source": [
    "features = calendar.columns[:-1].tolist()\n",
    "print(calendar.shape)"
   ]
  },
  {
   "cell_type": "code",
   "execution_count": null,
   "id": "f668cb06",
   "metadata": {
    "scrolled": true
   },
   "outputs": [],
   "source": [
    "sns.set(style=\"whitegrid\", font_scale=1.2)\n",
    "plt.subplots(figsize = (8,8))\n",
    "sns.countplot('available',data=calendar).set_title('Available for f and t')"
   ]
  },
  {
   "cell_type": "code",
   "execution_count": null,
   "id": "29ca08d8",
   "metadata": {},
   "outputs": [],
   "source": [
    "title = 'Availabilty for t and f'\n",
    "plt.figure(figsize=(10,6))\n",
    "sns.scatterplot(calendar.maximum_nights,calendar.minimum_nights,hue=calendar.available).set_title(title)\n",
    "plt.ioff()"
   ]
  },
  {
   "cell_type": "code",
   "execution_count": null,
   "id": "51be3a62",
   "metadata": {},
   "outputs": [],
   "source": [
    "#Minimum Nights\n",
    "\n",
    "(calendar.groupby('minimum_nights')['price'].mean().sort_values(ascending=False)[:20]).plot(kind=\"bar\", figsize=(16,8));\n",
    "plt.title(\"Average Listing price\");\n",
    "plt.xlabel('Average Price $');\n",
    "plt.ylabel('minimum nights');\n",
    "plt.xticks(rotation=60);"
   ]
  },
  {
   "cell_type": "code",
   "execution_count": null,
   "id": "b37c738c",
   "metadata": {},
   "outputs": [],
   "source": [
    "#Maximum nights\n",
    "\n",
    "(calendar.groupby('maximum_nights')['price'].mean().sort_values(ascending=False)[:50]).plot(kind=\"bar\", figsize=(16,8));\n",
    "plt.title(\"Average Listing price\");\n",
    "plt.xlabel('Average Price $');\n",
    "plt.ylabel('Maximum nights');\n",
    "plt.xticks(rotation=50);"
   ]
  },
  {
   "cell_type": "markdown",
   "id": "37360f7b",
   "metadata": {},
   "source": [
    "**Dataset 4 and 5: Airbnb Listing 1 and 2**\n",
    "\n",
    "These two datasets were chosen mostly to show visualisation and offer marketing insights and trends. \n",
    "They will be merged together. \n",
    "Sicne they had Price there are some predictions in the end, just for testing purposes and better understandingof the data. "
   ]
  },
  {
   "cell_type": "code",
   "execution_count": null,
   "id": "96727b49",
   "metadata": {},
   "outputs": [],
   "source": [
    "airbnb_listing_1.info()"
   ]
  },
  {
   "cell_type": "code",
   "execution_count": null,
   "id": "b93e116e",
   "metadata": {},
   "outputs": [],
   "source": [
    "airbnb_listing_1.head(10)"
   ]
  },
  {
   "cell_type": "code",
   "execution_count": null,
   "id": "62d0dee5",
   "metadata": {},
   "outputs": [],
   "source": [
    "airbnb_listing_2.info()"
   ]
  },
  {
   "cell_type": "code",
   "execution_count": null,
   "id": "9ccfa458",
   "metadata": {},
   "outputs": [],
   "source": [
    "airbnb_listing_2.head(10)"
   ]
  },
  {
   "cell_type": "code",
   "execution_count": null,
   "id": "c367c77d",
   "metadata": {},
   "outputs": [],
   "source": [
    "#checking the size of the dataset, rows and columns\n",
    "airbnb_listing_1.shape"
   ]
  },
  {
   "cell_type": "code",
   "execution_count": null,
   "id": "350aced3",
   "metadata": {},
   "outputs": [],
   "source": [
    "#checking the size of the dataset, rows and columns\n",
    "airbnb_listing_2.shape"
   ]
  },
  {
   "cell_type": "code",
   "execution_count": null,
   "id": "aac9c3f7",
   "metadata": {},
   "outputs": [],
   "source": [
    "#A resultant dataframe which has the rows from the target dataframe and a new row appended.\n",
    "\n",
    "airbnb1 = pd.DataFrame(airbnb_listing_1)\n",
    "\n",
    "airbnb1\n",
    "\n",
    "airbnb2 = pd.DataFrame(airbnb_listing_2)\n",
    "\n",
    "airbnb2"
   ]
  },
  {
   "cell_type": "code",
   "execution_count": null,
   "id": "60851425",
   "metadata": {},
   "outputs": [],
   "source": [
    "#The append() method in python adds a single item to the existing list. \n",
    "#It doesn't return a new list of items but will modify the original list by adding the item to the end of the list. \n",
    "#After executing the method append on the list the size of the list increases by one.\n",
    "\n",
    "#ignore index makes it not repeat the index. \n",
    "\n",
    "\n",
    "airbnb_final = airbnb1.append(airbnb2, ignore_index = True)\n",
    "\n",
    "airbnb_final"
   ]
  },
  {
   "cell_type": "code",
   "execution_count": null,
   "id": "c8b9de2c",
   "metadata": {},
   "outputs": [],
   "source": [
    "#confirming the rows have been added to the the first dataset, now called airbnb_final. \n",
    "\n",
    "airbnb_final.shape"
   ]
  },
  {
   "cell_type": "code",
   "execution_count": null,
   "id": "b30b4f06",
   "metadata": {},
   "outputs": [],
   "source": [
    "airbnb_final.isnull().sum()"
   ]
  },
  {
   "cell_type": "code",
   "execution_count": null,
   "id": "b67ef696",
   "metadata": {},
   "outputs": [],
   "source": [
    "airbnb_final.columns"
   ]
  },
  {
   "cell_type": "code",
   "execution_count": null,
   "id": "9239ed8e",
   "metadata": {},
   "outputs": [],
   "source": [
    "airbnb_final[airbnb_final.duplicated()]"
   ]
  },
  {
   "cell_type": "code",
   "execution_count": null,
   "id": "8eab7a2a",
   "metadata": {},
   "outputs": [],
   "source": [
    "#Althought the values of the row of one the dataset were duplicated, we have decided to leave it here.\n",
    "#The datset were soureced from different websites and we left to showcase the skills of identifying this in large datasets. \n",
    "\n",
    "#removing the duplicated columns\n",
    "\n",
    "#Keeping the last duplicate value, so that it removes just the one that is duplicated. \n",
    "airbnb_final.drop_duplicates(keep='last',inplace=True)\n",
    "\n",
    "#airbnb_final = airbnb_final.loc[:,~airbnb_final.columns.duplicated()]\n"
   ]
  },
  {
   "cell_type": "code",
   "execution_count": null,
   "id": "6af20fbf",
   "metadata": {},
   "outputs": [],
   "source": [
    "#checking the shape of the dataset\n",
    "airbnb_final.shape"
   ]
  },
  {
   "cell_type": "code",
   "execution_count": null,
   "id": "07ea80c9",
   "metadata": {},
   "outputs": [],
   "source": [
    "#dropped 36 columns\n",
    "\n",
    "#some of the rationale include privacy concerns: photo URL, addresses and PII. \n",
    "\n",
    "airbnb_clean = airbnb_final.drop(columns=['Listing Url', 'Scrape ID', 'Last Scraped', 'Name', 'Summary',\n",
    "       'Space', 'Description', 'Neighborhood Overview',\n",
    "       'Notes', 'Transit', 'Access', 'Interaction', 'House Rules',\n",
    "       'Thumbnail Url', 'Medium Url', 'Picture Url', 'XL Picture Url',\n",
    "       'Host URL', 'Host Name', 'Calendar Updated', 'Calendar last Scraped',\n",
    "       'Host About','Host Thumbnail Url', 'Host Picture Url', 'Host Verifications', 'Street',\n",
    "       'Has Availability', 'Availability 30', 'Availability 60',\n",
    "       'Availability 90', 'First Review', 'Last Review','License', 'Jurisdiction Names',\n",
    "       'Cancellation Policy', 'Calculated host listings count'])\n",
    "\n",
    "airbnb_clean.head()"
   ]
  },
  {
   "cell_type": "code",
   "execution_count": null,
   "id": "74652626",
   "metadata": {},
   "outputs": [],
   "source": [
    "airbnb_clean.isnull().sum()"
   ]
  },
  {
   "cell_type": "code",
   "execution_count": null,
   "id": "27541dc0",
   "metadata": {},
   "outputs": [],
   "source": [
    "airbnb_clean.info()"
   ]
  },
  {
   "cell_type": "code",
   "execution_count": null,
   "id": "02c4e9b1",
   "metadata": {},
   "outputs": [],
   "source": [
    "#replacing all NaN values with 0 for categorical data\n",
    "airbnb_clean.fillna({'Host Location':0}, inplace=True)\n",
    "airbnb_clean.fillna({'Host Response Time':0}, inplace=True)\n",
    "airbnb_clean.fillna({'Host Acceptance Rate':0}, inplace=True)\n",
    "airbnb_clean.fillna({'Host Neighbourhood':0}, inplace=True)\n",
    "airbnb_clean.fillna({'Neighbourhood':0}, inplace=True)\n",
    "airbnb_clean.fillna({'Neighbourhood Group Cleansed':0}, inplace=True)\n",
    "airbnb_clean.fillna({'City':0}, inplace=True)\n",
    "airbnb_clean.fillna({'State':0}, inplace=True)\n",
    "airbnb_clean.fillna({'Zipcode':0}, inplace=True)\n",
    "airbnb_clean.fillna({'Market':0}, inplace=True)\n",
    "airbnb_clean.fillna({'Amenities':0}, inplace=True)\n",
    "airbnb_clean.fillna({'Features':0}, inplace=True)\n"
   ]
  },
  {
   "cell_type": "code",
   "execution_count": null,
   "id": "d2bcd991",
   "metadata": {
    "scrolled": true
   },
   "outputs": [],
   "source": [
    "airbnb_clean.isnull().sum()"
   ]
  },
  {
   "cell_type": "code",
   "execution_count": null,
   "id": "6d6af7e4",
   "metadata": {},
   "outputs": [],
   "source": [
    "#The first chosen technique is one of the possible ways of dealing with null values by using median \n",
    "#to impute the missing values.\n",
    "#Median is better than mean, because mean is influenced by the outliers. \n",
    "\n",
    "missing_col = ['Host Response Rate']\n",
    "for i in missing_col:\n",
    " airbnb_clean.loc[airbnb_clean.loc[:,i].isnull(),i]=airbnb_clean.loc[:,i].median()\n",
    "\n",
    "missing_col = ['Bathrooms']\n",
    "for i in missing_col:\n",
    " airbnb_clean.loc[airbnb_clean.loc[:,i].isnull(),i]=airbnb_clean.loc[:,i].median()\n",
    "\n",
    "missing_col = ['Bedrooms']\n",
    "for i in missing_col:\n",
    " airbnb_clean.loc[airbnb_clean.loc[:,i].isnull(),i]=airbnb_clean.loc[:,i].median()\n",
    "\n",
    "missing_col = ['Beds']\n",
    "for i in missing_col:\n",
    " airbnb_clean.loc[airbnb_clean.loc[:,i].isnull(),i]=airbnb_clean.loc[:,i].median()\n",
    "\n",
    "missing_col = ['Square Feet']\n",
    "for i in missing_col:\n",
    " airbnb_clean.loc[airbnb_clean.loc[:,i].isnull(),i]=airbnb_clean.loc[:,i].median()\n",
    "\n",
    "missing_col = ['Price']\n",
    "for i in missing_col:\n",
    " airbnb_clean.loc[airbnb_clean.loc[:,i].isnull(),i]=airbnb_clean.loc[:,i].median()\n",
    "\n",
    "missing_col = ['Weekly Price']\n",
    "for i in missing_col:\n",
    " airbnb_clean.loc[airbnb_clean.loc[:,i].isnull(),i]=airbnb_clean.loc[:,i].median()\n",
    "\n",
    "missing_col = ['Monthly Price']\n",
    "for i in missing_col:\n",
    " airbnb_clean.loc[airbnb_clean.loc[:,i].isnull(),i]=airbnb_clean.loc[:,i].median()\n",
    "\n",
    "missing_col = ['Security Deposit']\n",
    "for i in missing_col:\n",
    " airbnb_clean.loc[airbnb_clean.loc[:,i].isnull(),i]=airbnb_clean.loc[:,i].median()\n",
    "\n",
    "missing_col = ['Cleaning Fee']\n",
    "for i in missing_col:\n",
    " airbnb_clean.loc[airbnb_clean.loc[:,i].isnull(),i]=airbnb_clean.loc[:,i].median()\n",
    "\n",
    "missing_col = ['Review Scores Rating']\n",
    "for i in missing_col:\n",
    " airbnb_clean.loc[airbnb_clean.loc[:,i].isnull(),i]=airbnb_clean.loc[:,i].median()\n",
    "\n",
    "missing_col = ['Review Scores Accuracy']\n",
    "for i in missing_col:\n",
    " airbnb_clean.loc[airbnb_clean.loc[:,i].isnull(),i]=airbnb_clean.loc[:,i].median()\n",
    "\n",
    "missing_col = ['Review Scores Cleanliness']\n",
    "for i in missing_col:\n",
    " airbnb_clean.loc[airbnb_clean.loc[:,i].isnull(),i]=airbnb_clean.loc[:,i].median()\n",
    "\n",
    "missing_col = ['Review Scores Checkin']\n",
    "for i in missing_col:\n",
    " airbnb_clean.loc[airbnb_clean.loc[:,i].isnull(),i]=airbnb_clean.loc[:,i].median()\n",
    "\n",
    "missing_col = ['Review Scores Communication']\n",
    "for i in missing_col:\n",
    " airbnb_clean.loc[airbnb_clean.loc[:,i].isnull(),i]=airbnb_clean.loc[:,i].median()\n",
    "\n",
    "\n",
    "missing_col = ['Review Scores Location']\n",
    "for i in missing_col:\n",
    " airbnb_clean.loc[airbnb_clean.loc[:,i].isnull(),i]=airbnb_clean.loc[:,i].median()\n",
    "\n",
    "missing_col = ['Review Scores Value']\n",
    "for i in missing_col:\n",
    " airbnb_clean.loc[airbnb_clean.loc[:,i].isnull(),i]=airbnb_clean.loc[:,i].median()\n",
    "\n",
    "missing_col = ['Reviews per Month']\n",
    "for i in missing_col:\n",
    " airbnb_clean.loc[airbnb_clean.loc[:,i].isnull(),i]=airbnb_clean.loc[:,i].median()"
   ]
  },
  {
   "cell_type": "code",
   "execution_count": null,
   "id": "2cc60bbf",
   "metadata": {},
   "outputs": [],
   "source": [
    "#Confirming the datset does not have any null values, they have been replaced by the median. \n",
    "\n",
    "airbnb_clean.isnull().sum()"
   ]
  },
  {
   "cell_type": "markdown",
   "id": "b1fec63e",
   "metadata": {},
   "source": [
    "**Data Visualisation**"
   ]
  },
  {
   "cell_type": "code",
   "execution_count": null,
   "id": "2d6622b2",
   "metadata": {},
   "outputs": [],
   "source": [
    "airbnb_clean.head(10)"
   ]
  },
  {
   "cell_type": "code",
   "execution_count": null,
   "id": "8469e4ec",
   "metadata": {},
   "outputs": [],
   "source": [
    "airbnb_clean.rename(columns = {'Neighbourhood Cleansed':'NeighbourhoodCleansed'}, inplace = True)\n",
    "airbnb_clean.rename(columns = {'Neighbourhood Group Cleansed':'NeighbourhoodGroupCleansed'}, inplace = True)\n",
    "airbnb_clean.rename(columns = {'Room Type':'RoomType'}, inplace = True)\n",
    "airbnb_clean.rename(columns = {'Availability 365':'Availability365'}, inplace = True)\n",
    "airbnb_clean.rename(columns = {'Minimum Nights':'MinimumNights'}, inplace = True)\n",
    "airbnb_clean.rename(columns = {'Number of Reviews':'NumberofReviews'}, inplace = True)"
   ]
  },
  {
   "cell_type": "code",
   "execution_count": null,
   "id": "4422775d",
   "metadata": {},
   "outputs": [],
   "source": [
    "#The dataset contains locations we are not interested in:\n",
    "\n",
    "# Drop a row by condition\n",
    "airbnb_clean[airbnb_clean.NeighbourhoodCleansed != 'Dublin City']"
   ]
  },
  {
   "cell_type": "code",
   "execution_count": null,
   "id": "90c0c3cb",
   "metadata": {},
   "outputs": [],
   "source": [
    "#After removing the cities not relevant for the project, there are 5377 observations to work with. \n",
    "\n",
    "airbnb_dub = airbnb_clean[airbnb_clean.NeighbourhoodCleansed == \"Dublin City\"]\n"
   ]
  },
  {
   "cell_type": "code",
   "execution_count": null,
   "id": "b1885fe2",
   "metadata": {},
   "outputs": [],
   "source": [
    "airbnb_dub.head()"
   ]
  },
  {
   "cell_type": "code",
   "execution_count": null,
   "id": "63236ca8",
   "metadata": {},
   "outputs": [],
   "source": [
    "airbnb_dub.shape"
   ]
  },
  {
   "cell_type": "code",
   "execution_count": null,
   "id": "2c25a6f1",
   "metadata": {},
   "outputs": [],
   "source": [
    "airbnb_dub.columns"
   ]
  },
  {
   "cell_type": "code",
   "execution_count": null,
   "id": "85d53265",
   "metadata": {},
   "outputs": [],
   "source": [
    "#catplot room type and price\n",
    "sns.catplot(x=\"RoomType\", y=\"Price\", data=airbnb_dub);"
   ]
  },
  {
   "cell_type": "code",
   "execution_count": null,
   "id": "bad16819",
   "metadata": {},
   "outputs": [],
   "source": [
    "airbnb_dub['Neighbourhood'].tolist()\n"
   ]
  },
  {
   "cell_type": "code",
   "execution_count": null,
   "id": "0d1fb276",
   "metadata": {},
   "outputs": [],
   "source": [
    "#https://www.wikiwand.com/en/List_of_Dublin_postal_districts\n",
    "\n",
    "#separating per area\n",
    "\n",
    "\n",
    "def getArea(Neighbourhood):\n",
    "    if (Neighbourhood == \"Artane\" or Neighbourhood == \"Fairview\" or Neighbourhood == \"Stoneybatter/Arbour Hill\" or Neighbourhood == \"Smithfield\" or Neighbourhood == \"Phoenix Park and Surrounds\" or Neighbourhood == \"The Liberties\" or Neighbourhood == \"Cabra\" or Neighbourhood == \"Kilmainham\" or Neighbourhood == \"Raheny\" or Neighbourhood == \"East Wall\" or Neighbourhood == \"Inchicore\" or Neighbourhood == \"Glasnevin\" or Neighbourhood == \"Addison Park\" or Neighbourhood == \"Donnycarney\" or Neighbourhood == \"Marino\" or Neighbourhood == \"Pelletstown\"):\n",
    "       return \"North Central Area\"\n",
    "    elif(Neighbourhood == \"\" or Neighbourhood == \"Ballymun\" or Neighbourhood == \"Santry\" or Neighbourhood == \"Finglas\"):\n",
    "       return \"North West Area\"\n",
    "    elif(Neighbourhood == \"Clontarf\" or Neighbourhood == \"Drumcondra\" or Neighbourhood == \"Phibsborough\"):\n",
    "       return \"North East Area\"\n",
    "    elif(Neighbourhood ==\"Ringsend/Irishtown\" or Neighbourhood==\"North City Central/O'Connell Street\" or Neighbourhood == \"Old City\" or Neighbourhood == \"Docklands\" or Neighbourhood == \"Rialto\" or Neighbourhood == \"Trinity College\" or Neighbourhood == \"Temple Bar\" or Neighbourhood == \"Georgian Quarter\"):\n",
    "       return \"Central Area\"\n",
    "    elif(Neighbourhood ==\"Portobello\" or Neighbourhood==\"Ranelagh and Rathmines\" or Neighbourhood == \"Ballsbridge\" or Neighbourhood == \"Donnybrook\" or Neighbourhood == \"Dartry\" or Neighbourhood == \"Ardilea\"):\n",
    "       return \"South Central Area\"\n",
    "    elif(Neighbourhood ==\"Rathgar\" or Neighbourhood==\"Sandymount\" or Neighbourhood == \"Booterstown\"):\n",
    "       return \"South East Area\"\n",
    "    elif(Neighbourhood ==\"Crumlin\" or Neighbourhood==\"Kimmage\" or Neighbourhood == \"Harold's Cross\" or Neighbourhood == \"Ballyfermot\" or Neighbourhood == \"Terenure\"):\n",
    "       return \"South West Area\"\n",
    "    else:\n",
    "       return \"undefined\"\n",
    "\n",
    "\n",
    "airbnb_dub['area'] = airbnb_dub['Neighbourhood'].apply(getArea)\n",
    "airbnb_dub.head()\n",
    "\n"
   ]
  },
  {
   "cell_type": "code",
   "execution_count": null,
   "id": "e5b658e7",
   "metadata": {},
   "outputs": [],
   "source": [
    "#catplot neighbourhood_group and price\n",
    "sns.catplot(x=\"area\", y=\"Price\", kind=\"boxen\",\n",
    "            data=airbnb_dub);\n"
   ]
  },
  {
   "cell_type": "code",
   "execution_count": null,
   "id": "06825989",
   "metadata": {},
   "outputs": [],
   "source": [
    "# create countplot roomtype and neighbourhood type\n",
    "\n",
    "#change to piechart\n",
    "\n",
    "\n",
    "plt.figure(figsize=(10,10))\n",
    "sns.countplot(airbnb_dub['RoomType'],hue=airbnb_dub['area'], palette='plasma')"
   ]
  },
  {
   "cell_type": "code",
   "execution_count": null,
   "id": "4757c454",
   "metadata": {},
   "outputs": [],
   "source": [
    "#https://matplotlib.org/3.1.1/gallery/pie_and_polar_charts/pie_features.html#sphx-glr-gallery-pie-and-polar-charts-pie-features-py\n",
    "\n",
    "labels = airbnb_dub.area.value_counts().index\n",
    "colors = ['#008fd5','#fc4f30','#e5ae38','#6d904f','#8b8b8b']\n",
    "explode = (0.1,0,0,0,0,0,0,0)\n",
    "shape = airbnb_dub.area.value_counts().values\n",
    "plt.figure(figsize=(15,15))\n",
    "plt.pie(shape, explode = explode, labels=shape, colors= colors, autopct = '%1.1f%%', startangle=90)\n",
    "plt.legend(labels)\n",
    "plt.title('Neighbourhood Area')\n",
    "plt.show()\n"
   ]
  },
  {
   "cell_type": "code",
   "execution_count": null,
   "id": "8fff9695",
   "metadata": {},
   "outputs": [],
   "source": [
    "import plotly.figure_factory as ff\n",
    "from plotly.offline import init_notebook_mode, iplot\n",
    "\n",
    "\n",
    "contt = ff.create_table(pd.crosstab(airbnb_dub.Neighbourhood, airbnb_dub.RoomType), index=True)\n",
    "iplot(contt)"
   ]
  },
  {
   "cell_type": "code",
   "execution_count": null,
   "id": "6d41e749",
   "metadata": {},
   "outputs": [],
   "source": [
    "plt.figure(figsize=(22,10))\n",
    "\n",
    "plt.subplot(1,2,1)\n",
    "plt.title('Price Distribution Plot')\n",
    "sns.distplot(airbnb_dub.Price)\n",
    "\n",
    "plt.subplot(1,2,2)\n",
    "plt.title('Price Spread')\n",
    "sns.boxplot(y=airbnb_dub.Price)\n",
    "\n",
    "plt.show()\n",
    "\n",
    "#Distribution: graph of price distribution is positive skewed, and outliers.\n"
   ]
  },
  {
   "cell_type": "code",
   "execution_count": null,
   "id": "77a8c1e6",
   "metadata": {},
   "outputs": [],
   "source": [
    "from scipy import stats\n",
    "z = np.abs(stats.zscore(airbnb_dub['Price']))\n",
    "print(z)\n"
   ]
  },
  {
   "cell_type": "code",
   "execution_count": null,
   "id": "c681dcea",
   "metadata": {},
   "outputs": [],
   "source": [
    "#Skewness of the price i have used the absolute values of z score\n",
    "#and after set the threshhold as 3 it means that above the value of 3 all the \n",
    "#values will considered as outlier and then i have used the skew function to check the skewness of price data.\n",
    "\n",
    "\n",
    "threshold = 3\n",
    "print(np.where(z > 3))"
   ]
  },
  {
   "cell_type": "code",
   "execution_count": null,
   "id": "f1613e85",
   "metadata": {},
   "outputs": [],
   "source": [
    "from scipy.stats import skew\n",
    "print(skew(airbnb_dub.Price))"
   ]
  },
  {
   "cell_type": "code",
   "execution_count": null,
   "id": "81e2be65",
   "metadata": {},
   "outputs": [],
   "source": [
    "sns.countplot(airbnb_dub.RoomType)\n"
   ]
  },
  {
   "cell_type": "code",
   "execution_count": null,
   "id": "5ee94f3f",
   "metadata": {},
   "outputs": [],
   "source": [
    "import plotly.express as px\n",
    "\n",
    "fig = px.violin(airbnb_dub, y=\"Price\", x=\"area\", points=\"all\")\n",
    "fig.show()"
   ]
  },
  {
   "cell_type": "code",
   "execution_count": null,
   "id": "42ea32f4",
   "metadata": {},
   "outputs": [],
   "source": [
    "plt.figure(figsize=(15,15))\n",
    "sns.set(style=\"whitegrid\")\n",
    "\n",
    "ax = sns.barplot(x=\"area\", y=\"Price\",data=airbnb_dub)"
   ]
  },
  {
   "cell_type": "code",
   "execution_count": null,
   "id": "36c39100",
   "metadata": {},
   "outputs": [],
   "source": [
    "plt.figure(figsize=(9,8))\n",
    "sns.set(style=\"whitegrid\")\n",
    "\n",
    "ax = sns.countplot(x=\"RoomType\", hue=\"area\",data=airbnb_dub)"
   ]
  },
  {
   "cell_type": "code",
   "execution_count": null,
   "id": "ba0101b3",
   "metadata": {},
   "outputs": [],
   "source": [
    "north_central = airbnb_dub[airbnb_dub.area==\"North Central Area\"].Availability365\n",
    "north_west = airbnb_dub[airbnb_dub.area==\"North West Area\"].Availability365\n",
    "north_east = airbnb_dub[airbnb_dub.area==\"North East Area\"].Availability365\n",
    "central = airbnb_dub[airbnb_dub.area==\"Central Area\"].Availability365\n",
    "south_central = airbnb_dub[airbnb_dub.area==\"South Central Area\"].Availability365\n",
    "south_east = airbnb_dub[airbnb_dub.area==\"South East Area\"].Availability365\n",
    "south_west = airbnb_dub[airbnb_dub.area==\"South West Area\"].Availability365\n",
    "\n",
    "\n",
    "fig = go.Figure()\n",
    "# Use x instead of y argument for horizontal plot\n",
    "fig.add_trace(go.Box(x=north_central, name='North Central'))\n",
    "fig.add_trace(go.Box(x=north_west, name='North West'))\n",
    "fig.add_trace(go.Box(x=north_east, name='North East'))\n",
    "fig.add_trace(go.Box(x=central, name='Central'))\n",
    "fig.add_trace(go.Box(x=south_central, name='South Central'))\n",
    "fig.add_trace(go.Box(x=south_east, name='South East'))\n",
    "fig.add_trace(go.Box(x=south_west, name='South West'))\n",
    "\n",
    "fig.show()"
   ]
  },
  {
   "cell_type": "code",
   "execution_count": null,
   "id": "f38cfd22",
   "metadata": {},
   "outputs": [],
   "source": [
    "plt.figure(figsize=(10,6))\n",
    "sns.scatterplot(airbnb_dub.Longitude,airbnb_dub.Latitude,hue=airbnb_dub.area)\n",
    "plt.ioff()"
   ]
  },
  {
   "cell_type": "code",
   "execution_count": null,
   "id": "f37443db",
   "metadata": {},
   "outputs": [],
   "source": [
    "sns.clustermap(airbnb_dub.corr(),annot = False);"
   ]
  },
  {
   "cell_type": "code",
   "execution_count": null,
   "id": "de4307d9",
   "metadata": {},
   "outputs": [],
   "source": [
    "avg_price = airbnb_dub.groupby(['area'])['Price'].mean().plot(kind='bar')\n"
   ]
  },
  {
   "cell_type": "code",
   "execution_count": null,
   "id": "3e9b8828",
   "metadata": {},
   "outputs": [],
   "source": [
    "airbnb_dub.columns\n"
   ]
  },
  {
   "cell_type": "code",
   "execution_count": null,
   "id": "4f5de29a",
   "metadata": {},
   "outputs": [],
   "source": [
    "airbnb_clean.rename(columns = {'Minimum Nights':'MinimumNights'}, inplace = True)\n",
    "airbnb_clean.columns"
   ]
  },
  {
   "cell_type": "code",
   "execution_count": null,
   "id": "06ddf59c",
   "metadata": {},
   "outputs": [],
   "source": [
    "\n",
    "airbnb_dub.groupby(['area'])['Amenities'].count().plot(kind='bar')\n"
   ]
  },
  {
   "cell_type": "code",
   "execution_count": null,
   "id": "2b5cce01",
   "metadata": {},
   "outputs": [],
   "source": [
    "# Relationship between price and room type\n",
    "plt.figure()\n",
    "sns.scatterplot(x='RoomType', y='Price', hue=\"RoomType\", data=airbnb_dub)\n",
    "plt.xlabel(\"Room Type\")\n",
    "plt.ylabel(\"Price\")\n",
    "plt.title(\"Room Type vs Price\", size=15, weight='bold')"
   ]
  },
  {
   "cell_type": "code",
   "execution_count": null,
   "id": "5d104ea9",
   "metadata": {},
   "outputs": [],
   "source": [
    "# Relationship between price and neighbourhood_group_cleansed\n",
    "plt.figure()\n",
    "sns.scatterplot(x=\"area\", y=\"Price\", hue=\"area\", data=airbnb_dub)\n",
    "plt.xlabel(\"Neighbourhood Group\")\n",
    "plt.ylabel(\"Price\")\n",
    "plt.title(\"Neighbourhood Group vs Price\", size=15, weight='bold')"
   ]
  },
  {
   "cell_type": "code",
   "execution_count": null,
   "id": "5c886a73",
   "metadata": {},
   "outputs": [],
   "source": [
    "# Relationship between price, room_type and neighbourhood_group_cleansed\n",
    "plt.figure()\n",
    "sns.scatterplot(x=\"RoomType\", y=\"Price\", hue=\"area\", size=\"area\", sizes=(50, 200),\n",
    "               data=airbnb_dub)\n",
    "plt.xlabel(\"Room Type\")\n",
    "plt.ylabel(\"Price\")\n",
    "plt.title(\"Room Type vs Price vs Neighbourhood Group\",size=15, weight='bold')"
   ]
  },
  {
   "cell_type": "code",
   "execution_count": null,
   "id": "76676da7",
   "metadata": {},
   "outputs": [],
   "source": [
    "airbnb_clean.rename(columns = {'Number of Reviews':'NumberofReviews'}, inplace = True)\n",
    "airbnb_clean.NumberofReviews"
   ]
  },
  {
   "cell_type": "code",
   "execution_count": null,
   "id": "3a9315ec",
   "metadata": {},
   "outputs": [],
   "source": [
    "# Plot first 1000 listings with most number of reviews on the map using folium\n",
    "\n",
    "mostReviewsDubData = airbnb_dub.sort_values(by=['NumberofReviews'], ascending=False).head(1000)"
   ]
  },
  {
   "cell_type": "code",
   "execution_count": null,
   "id": "92e62448",
   "metadata": {},
   "outputs": [],
   "source": [
    "import folium\n",
    "from folium import plugins\n",
    "from folium.plugins import MarkerCluster\n",
    "\n",
    "print('Rooms with the most number of reviews')\n",
    "Lat = 53.3498\n",
    "Long = -6.266155\n",
    "\n",
    "mapdf1=folium.Map([Lat,Long],zoom_start=10,)\n",
    "\n",
    "mapdf1_rooms_map=plugins.MarkerCluster().add_to(mapdf1)\n",
    "\n",
    "for lat,lon,label in zip(mostReviewsDubData.Latitude,mostReviewsDubData.Longitude,mostReviewsDubData.area):\n",
    "    folium.Marker(location=[lat,lon],icon=folium.Icon(icon='home'),popup=label).add_to(mapdf1_rooms_map)\n",
    "\n",
    "mapdf1.add_child(mapdf1_rooms_map)\n",
    "\n",
    "mapdf1"
   ]
  },
  {
   "cell_type": "code",
   "execution_count": null,
   "id": "b82bc920",
   "metadata": {},
   "outputs": [],
   "source": [
    "#Find 1000 most expensive rooms\n",
    "mostExpensiveDub=airbnb_dub.sort_values(by=['Price'],ascending=False).head(1000)"
   ]
  },
  {
   "cell_type": "code",
   "execution_count": null,
   "id": "9435eb7b",
   "metadata": {},
   "outputs": [],
   "source": [
    "print('Most Expensive rooms')\n",
    "Lat = 53.3498\n",
    "Long = -6.266155\n",
    "\n",
    "mapdf1=folium.Map([Lat,Long],zoom_start=10,)\n",
    "\n",
    "mapdf1_rooms_map=plugins.MarkerCluster().add_to(mapdf1)\n",
    "\n",
    "for lat,lon,label in zip(mostExpensiveDub.Latitude,mostExpensiveDub.Longitude,mostExpensiveDub.area):\n",
    "    folium.Marker(location=[lat,lon],icon=folium.Icon(icon='home'),popup=label).add_to(mapdf1_rooms_map)\n",
    "mapdf1.add_child(mapdf1_rooms_map)\n",
    "\n",
    "mapdf1"
   ]
  },
  {
   "cell_type": "code",
   "execution_count": null,
   "id": "9ba29e53",
   "metadata": {},
   "outputs": [],
   "source": [
    "import folium\n",
    "from folium.plugins import HeatMap\n",
    "map_folium = folium.Map([Lat, Long],zoom_start=11.4)\n",
    "HeatMap(airbnb_dub[['Latitude','Longitude']].dropna(),radius=8,gradient={0.2:'blue',0.4:'purple',0.6:'orange',1.0:'red'}).add_to(map_folium)\n",
    "display(map_folium)\n",
    "\n"
   ]
  },
  {
   "cell_type": "code",
   "execution_count": null,
   "id": "a0aaea14",
   "metadata": {},
   "outputs": [],
   "source": [
    "#pip install folium"
   ]
  },
  {
   "cell_type": "code",
   "execution_count": null,
   "id": "9177647d",
   "metadata": {},
   "outputs": [],
   "source": [
    "import folium\n",
    "\n",
    "m=folium.Map(\n",
    "    location=[airbnb_dub[\"Latitude\"].mean(), airbnb_dub[\"Longitude\"].mean()],\n",
    "    zoom_start=6)\n",
    "\n",
    "airbnb_dub.apply(\n",
    "    lambda row: folium.Marker(\n",
    "        location=[row['Latitude'], row['Longitude']]\n",
    "        ).add_to(m),\n",
    "    axis=1)\n",
    "m"
   ]
  },
  {
   "cell_type": "markdown",
   "id": "fa12aa33",
   "metadata": {},
   "source": [
    "### Price Prediction"
   ]
  },
  {
   "cell_type": "code",
   "execution_count": null,
   "id": "daf1faf3",
   "metadata": {},
   "outputs": [],
   "source": [
    "from sklearn.metrics import mean_squared_error\n",
    "from sklearn.metrics import mean_absolute_error\n",
    "from math import sqrt\n",
    "from sklearn.metrics import r2_score\n",
    "import numpy as np"
   ]
  },
  {
   "cell_type": "code",
   "execution_count": null,
   "id": "3d49c4f4",
   "metadata": {},
   "outputs": [],
   "source": [
    "#need to add more features maybe ? \n",
    "features = airbnb_dub[['Accommodates', \n",
    "                     'Bathrooms', 'Beds', 'Beds', 'Price', 'NumberofReviews']]"
   ]
  },
  {
   "cell_type": "code",
   "execution_count": null,
   "id": "ac7ef31e",
   "metadata": {},
   "outputs": [],
   "source": [
    "features.info()"
   ]
  },
  {
   "cell_type": "code",
   "execution_count": null,
   "id": "242d3162",
   "metadata": {},
   "outputs": [],
   "source": [
    "fitters = features.query('Price <= 1000')\n",
    "fitters.shape"
   ]
  },
  {
   "cell_type": "code",
   "execution_count": null,
   "id": "50164fb5",
   "metadata": {},
   "outputs": [],
   "source": [
    "\n",
    "y = fitters['Price']\n",
    "X = fitters.drop(columns = {'Price'}, axis = 1)\n",
    "X.shape"
   ]
  },
  {
   "cell_type": "code",
   "execution_count": null,
   "id": "02896e38",
   "metadata": {},
   "outputs": [],
   "source": [
    "# Train Test Split\n",
    "# 80-20 Split\n",
    "X_train, X_test, y_train, y_test = train_test_split(X, y, test_size=0.2, random_state=0)"
   ]
  },
  {
   "cell_type": "code",
   "execution_count": null,
   "id": "94db1234",
   "metadata": {},
   "outputs": [],
   "source": [
    "import time\n",
    "# Train Linear Regression model\n",
    "lm = LinearRegression()\n",
    "t0=time.time()\n",
    "lm.fit(X_train,y_train)\n",
    "print(\"Training time:\", round(time.time()-t0, 3), \"s\") # the time would be round to 3 decimal in seconds\n",
    "t1=time.time()\n",
    "pred_linear_x = lm.predict(X_test)\n",
    "print(\"Prediction time:\", round(time.time()-t1, 3), \"s\")\n",
    "\n",
    "error_airbnb = pd.DataFrame({\n",
    "        'Actual Values': np.array(y_test).flatten(),\n",
    "        'Predicted Values': pred_linear_x.flatten()})\n",
    "print(error_airbnb.head().to_string())"
   ]
  },
  {
   "cell_type": "code",
   "execution_count": null,
   "id": "2bdf5366",
   "metadata": {},
   "outputs": [],
   "source": [
    "print('MAE: %f'% mean_absolute_error(y_test, pred_linear_x))\n",
    "print('RMSE: %f'% np.sqrt(mean_squared_error(y_test, pred_linear_x)))   \n",
    "print('R2 %f' % r2_score(y_test, pred_linear_x))"
   ]
  },
  {
   "cell_type": "code",
   "execution_count": null,
   "id": "b486ea51",
   "metadata": {},
   "outputs": [],
   "source": [
    "# Train Ridge Regression model\n",
    "ridge_x = Ridge(alpha = 0.01, normalize = True)\n",
    "t0=time.time()\n",
    "ridge_x.fit(X_train,y_train) \n",
    "print(\"Training time:\", round(time.time()-t0, 3), \"s\") # the time would be round to 3 decimal in seconds\n",
    "t1=time.time()\n",
    "pred_ridge_x = ridge_x.predict(X_test) \n",
    "print(\"Prediction time:\", round(time.time()-t1, 3), \"s\")\n",
    "\n",
    "error_airbnb = pd.DataFrame({\n",
    "        'Actual Values': np.array(y_test).flatten(),\n",
    "        'Predicted Values': pred_ridge_x.flatten()})\n",
    "print(error_airbnb.head().to_string())"
   ]
  },
  {
   "cell_type": "code",
   "execution_count": null,
   "id": "01a5c124",
   "metadata": {},
   "outputs": [],
   "source": [
    "print('MAE: %f'% mean_absolute_error(y_test, pred_ridge_x))\n",
    "print('RMSE: %f'% np.sqrt(mean_squared_error(y_test, pred_ridge_x)))   \n",
    "print('R2 %f' % r2_score(y_test, pred_ridge_x))"
   ]
  },
  {
   "cell_type": "code",
   "execution_count": null,
   "id": "2c7b97d2",
   "metadata": {},
   "outputs": [],
   "source": [
    "# Train Lasso Regression model\n",
    "Lasso_x = Lasso(alpha = 0.001, normalize =False)\n",
    "t0=time.time()\n",
    "Lasso_x.fit(X_train,y_train)\n",
    "print(\"Training time:\", round(time.time()-t0, 3), \"s\") # the time would be round to 3 decimal in seconds\n",
    "t1=time.time()\n",
    "pred_Lasso_x = Lasso_x.predict(X_test) \n",
    "print(\"Prediction time:\", round(time.time()-t1, 3), \"s\")\n",
    "\n",
    "error_airbnb = pd.DataFrame({\n",
    "        'Actual Values': np.array(y_test).flatten(),\n",
    "        'Predicted Values': pred_Lasso_x.flatten()})\n",
    "print(error_airbnb.head().to_string())"
   ]
  },
  {
   "cell_type": "code",
   "execution_count": null,
   "id": "e65427f7",
   "metadata": {},
   "outputs": [],
   "source": [
    "print('MAE: %f' % mean_absolute_error(y_test, pred_Lasso_x))\n",
    "print('RMSE: %f' % np.sqrt(mean_squared_error(y_test, pred_Lasso_x)))\n",
    "print('R2 %f' % r2_score(y_test, pred_Lasso_x))"
   ]
  },
  {
   "cell_type": "markdown",
   "id": "46249872",
   "metadata": {},
   "source": [
    "**Dataset 6: Rate**"
   ]
  },
  {
   "cell_type": "code",
   "execution_count": null,
   "id": "6c0a1403",
   "metadata": {},
   "outputs": [],
   "source": [
    "rate.head()"
   ]
  },
  {
   "cell_type": "code",
   "execution_count": null,
   "id": "b93486e7",
   "metadata": {},
   "outputs": [],
   "source": [
    "#Based on the information on the dataset itself, I added these columns names. \n",
    "rate.columns = [\n",
    "    \"Listing URL\",\n",
    "    \"Property Type\",\n",
    "    \"Latitude\",\n",
    "    \"Longitude\",\n",
    "    \"Star Rating\",\n",
    "    \"Number of Active Days\",\n",
    "    \"Bedrooms\",\n",
    "    \"Has pool\",\n",
    "    \"Cleaning Fee\",\n",
    "    \"Extra Guest Fee\",\n",
    "    \"Daily Rate (2020-11)\",\n",
    "    \"Daily Rate (2020-12)\",\n",
    "    \"Daily Rate (2021-01)\",\n",
    "    \"Daily Rate (2021-02)\",\n",
    "    \"Daily Rate (2021-03)\",\n",
    "    \"Daily Rate (2021-04)\",\n",
    "    \"Daily Rate (2021-05)\",\n",
    "    \"Daily Rate (2021-06)\",\n",
    "    \"Daily Rate (2021-07)\",\n",
    "    \"Daily Rate (2021-08)\",\n",
    "    \"Daily Rate (2021-09)\",\n",
    "    \"Daily Rate (2021-10)\",\n",
    "    \"Occupancy Rate (2020-11)\",\n",
    "    \"Occupancy Rate (2020-12)\",\n",
    "    \"Occupancy Rate (2021-01)\",\n",
    "    \"Occupancy Rate (2021-02)\",\n",
    "    \"Occupancy Rate (2021-03)\",\n",
    "    \"Occupancy Rate (2021-04)\",\n",
    "    \"Occupancy Rate (2021-05)\",\n",
    "    \"Occupancy Rate (2021-06)\",\n",
    "    \"Occupancy Rate (2021-07)\",\n",
    "    \"Occupancy Rate (2021-08)\",\n",
    "    \"Occupancy Rate (2021-09)\",\n",
    "    \"Occupancy Rate (2021-10)\",\n",
    "    \"Revenue (2020-11)\",\n",
    "    \"Revenue (2020-12)\",\n",
    "    \"Revenue (2021-01)\",\n",
    "    \"Revenue (2021-02)\",\n",
    "    \"Revenue (2021-03)\",\n",
    "    \"Revenue (2021-04)\",\n",
    "    \"Revenue (2021-05)\",\n",
    "    \"Revenue (2021-06)\",\n",
    "    \"Revenue (2021-07)\",\n",
    "    \"Revenue (2021-08)\",\n",
    "    \"Revenue (2021-09)\",\n",
    "    \"Revenue (2021-10)\",\n",
    "]\n"
   ]
  },
  {
   "cell_type": "code",
   "execution_count": null,
   "id": "a72a3c5b",
   "metadata": {},
   "outputs": [],
   "source": [
    "rate.head()"
   ]
  },
  {
   "cell_type": "code",
   "execution_count": null,
   "id": "ca0a23f4",
   "metadata": {},
   "outputs": [],
   "source": [
    "#dropping the two first rows.\n",
    "rate.drop(index=rate.index[0:2], \n",
    "        axis=0, \n",
    "        inplace=True)"
   ]
  },
  {
   "cell_type": "code",
   "execution_count": null,
   "id": "76afc48b",
   "metadata": {},
   "outputs": [],
   "source": [
    "#replacing all NaN values with 0\n",
    "rate.fillna({'Cleaning Fee':0}, inplace=True)\n",
    "rate.fillna({'Extra Guest Fee':0}, inplace=True)"
   ]
  },
  {
   "cell_type": "code",
   "execution_count": null,
   "id": "20c28085",
   "metadata": {},
   "outputs": [],
   "source": [
    "rate.isnull().sum()"
   ]
  },
  {
   "cell_type": "code",
   "execution_count": null,
   "id": "76ffd2a1",
   "metadata": {
    "scrolled": true
   },
   "outputs": [],
   "source": [
    "#examine the dataset\n",
    "(rate[['Star Rating', 'Number of Active Days', 'Daily Rate (2020-12)', 'Occupancy Rate (2020-12)',\n",
    "       'Revenue (2020-12)']]\n",
    " .describe())"
   ]
  },
  {
   "cell_type": "code",
   "execution_count": null,
   "id": "e6bd03bf",
   "metadata": {},
   "outputs": [],
   "source": [
    "#need to be encoded to integer\n",
    "\n",
    "rate.info()\n"
   ]
  },
  {
   "cell_type": "code",
   "execution_count": null,
   "id": "688f54bd",
   "metadata": {},
   "outputs": [],
   "source": [
    "#separating the dataset into categorical and numeric\n",
    "\n",
    "#later to change the object type to float64\n",
    "\n",
    "categorical_col = ['Listing URL','Property Type', 'Has pool']\n",
    "\n",
    "numeric_col = ['Latitude', \n",
    "               'Longitude', \n",
    "               'Star Rating', \n",
    "               'Number of Active Days', \n",
    "               'Bedrooms', \n",
    "               'Cleaning Fee', \n",
    "               'Extra Guest Fee',            \n",
    "               'Daily Rate (2020-11)',         \n",
    "               'Daily Rate (2020-12)',\n",
    "               'Daily Rate (2021-01)',\n",
    "               'Daily Rate (2021-02)',        \n",
    "               'Daily Rate (2021-03)',       \n",
    "                'Daily Rate (2021-04)',        \n",
    "                'Daily Rate (2021-05)',        \n",
    "                'Daily Rate (2021-06)',        \n",
    "                'Daily Rate (2021-07)',        \n",
    "                'Daily Rate (2021-08)',        \n",
    "                'Daily Rate (2021-09)',        \n",
    "                'Daily Rate (2021-10)',        \n",
    "                'Occupancy Rate (2020-11)',    \n",
    "                'Occupancy Rate (2020-12)',   \n",
    "                'Occupancy Rate (2021-01)',    \n",
    "                'Occupancy Rate (2021-02)',    \n",
    "                'Occupancy Rate (2021-03)',    \n",
    "                'Occupancy Rate (2021-04)',    \n",
    "                'Occupancy Rate (2021-05)',    \n",
    "                'Occupancy Rate (2021-06)',    \n",
    "                'Occupancy Rate (2021-07)',    \n",
    "                'Occupancy Rate (2021-08)',    \n",
    "                'Occupancy Rate (2021-09)',    \n",
    "                'Occupancy Rate (2021-10)',   \n",
    "                'Revenue (2020-11)',           \n",
    "                'Revenue (2020-12)',         \n",
    "                'Revenue (2021-01)',           \n",
    "                'Revenue (2021-02)',           \n",
    "                'Revenue (2021-03)',           \n",
    "                'Revenue (2021-04)',           \n",
    "                'Revenue (2021-05)',           \n",
    "                'Revenue (2021-06)',           \n",
    "                'Revenue (2021-07)',           \n",
    "                'Revenue (2021-08)',           \n",
    "                'Revenue (2021-09)',           \n",
    "                'Revenue (2021-10)',\n",
    "              ]\n"
   ]
  },
  {
   "cell_type": "code",
   "execution_count": null,
   "id": "717f0921",
   "metadata": {},
   "outputs": [],
   "source": [
    "print(numeric_col)"
   ]
  },
  {
   "cell_type": "code",
   "execution_count": null,
   "id": "8f99890a",
   "metadata": {},
   "outputs": [],
   "source": [
    "rate[numeric_col] = rate[numeric_col].apply(pd.to_numeric, errors='coerce')"
   ]
  },
  {
   "cell_type": "code",
   "execution_count": null,
   "id": "7c60c162",
   "metadata": {},
   "outputs": [],
   "source": [
    "rate.info()"
   ]
  },
  {
   "cell_type": "code",
   "execution_count": null,
   "id": "f8402507",
   "metadata": {},
   "outputs": [],
   "source": [
    "#NOT NEEDED - things I tried.\n",
    "#encoding the dataset so that I can add columns for the rates values. \n",
    "#rate['Cleaning Fee'] = rate['Cleaning Fee'].astype(float)"
   ]
  },
  {
   "cell_type": "code",
   "execution_count": null,
   "id": "1311917b",
   "metadata": {
    "scrolled": true
   },
   "outputs": [],
   "source": [
    "#rate.drop(columns=['Listing URL', 'Property Type', 'Latitude', 'Longitude', 'Has pool'])"
   ]
  },
  {
   "cell_type": "code",
   "execution_count": null,
   "id": "1a5bd8f2",
   "metadata": {},
   "outputs": [],
   "source": [
    "rate.head()"
   ]
  },
  {
   "cell_type": "code",
   "execution_count": null,
   "id": "731aad64",
   "metadata": {},
   "outputs": [],
   "source": [
    "#rate = rate.drop(['Daily Rate (2021-01)','Daily Rate (2021-02)', 'Daily Rate (2021-03)','Daily Rate (2021-04)', 'Daily Rate (2021-05)','Daily Rate (2021-06)', 'Daily Rate (2021-07)','Daily Rate (2021-08)', 'Daily Rate (2021-09)','Daily Rate (2021-10)', 'Daily Rate (2020-11)','Daily Rate (2020-12)','Revenue (2020-11)','Revenue (2020-12)','Revenue (2021-01)','Revenue (2021-02)','Revenue (2021-03)','Revenue (2021-04)','Revenue (2021-05)','Revenue (2021-06)','Revenue (2021-07)','Revenue (2021-08)','Revenue (2021-09)','Revenue (2021-10)','Occupancy Rate (2020-11)','Occupancy Rate (2020-12)','Occupancy Rate (2021-01)','Occupancy Rate (2021-02)','Occupancy Rate (2021-03)','Occupancy Rate (2021-04)','Occupancy Rate (2021-05)','Occupancy Rate (2021-06)','Occupancy Rate (2021-07)','Occupancy Rate (2021-08)','Occupancy Rate (2021-09)','Occupancy Rate (2021-10)'], axis=1)"
   ]
  },
  {
   "cell_type": "code",
   "execution_count": null,
   "id": "00cf1646",
   "metadata": {},
   "outputs": [],
   "source": [
    "#del rate['Daily Rate (2021-01)','Daily Rate (2021-02)', 'Daily Rate (2021-03)','Daily Rate (2021-04)', 'Daily Rate (2021-05)','Daily Rate (2021-06)', 'Daily Rate (2021-07)','Daily Rate (2021-08)', 'Daily Rate (2021-09)','Daily Rate (2021-10)', 'Daily Rate (2020-11)','Daily Rate (2020-12)','Revenue (2020-11)','Revenue (2020-12)','Revenue (2021-01)','Revenue (2021-02)','Revenue (2021-03)','Revenue (2021-04)',          'Revenue (2021-05)','Revenue (2021-06)','Revenue (2021-07)','Revenue (2021-08)','Revenue (2021-09)','Revenue (2021-10)','Occupancy Rate (2020-11)','Occupancy Rate (2020-12)','Occupancy Rate (2021-01)','Occupancy Rate (2021-02)','Occupancy Rate (2021-03)','Occupancy Rate (2021-04)','Occupancy Rate (2021-05)','Occupancy Rate (2021-06)','Occupancy Rate (2021-07)','Occupancy Rate (2021-08)','Occupancy Rate (2021-09)','Occupancy Rate (2021-10)']"
   ]
  },
  {
   "cell_type": "code",
   "execution_count": null,
   "id": "8354d988",
   "metadata": {},
   "outputs": [],
   "source": [
    "#Check how many properties have a pool\n",
    "rate['Has pool'].value_counts()"
   ]
  },
  {
   "cell_type": "code",
   "execution_count": null,
   "id": "221233c5",
   "metadata": {},
   "outputs": [],
   "source": [
    "rate['Cleaning Fee'].value_counts()"
   ]
  },
  {
   "cell_type": "code",
   "execution_count": null,
   "id": "36bd16fa",
   "metadata": {},
   "outputs": [],
   "source": [
    "rate['Extra Guest Fee'].describe()"
   ]
  },
  {
   "cell_type": "code",
   "execution_count": null,
   "id": "39b23430",
   "metadata": {},
   "outputs": [],
   "source": [
    "#2020-11\n",
    "rate['Occupancy Rate (2020-11)'].value_counts()"
   ]
  },
  {
   "cell_type": "code",
   "execution_count": null,
   "id": "50eaaf35",
   "metadata": {},
   "outputs": [],
   "source": [
    "#2020-11\n",
    "rate['Daily Rate (2020-11)'].value_counts()"
   ]
  },
  {
   "cell_type": "code",
   "execution_count": null,
   "id": "eb8965ea",
   "metadata": {},
   "outputs": [],
   "source": [
    "#2020-11\n",
    "rate['Revenue (2020-11)'].value_counts()"
   ]
  },
  {
   "cell_type": "code",
   "execution_count": null,
   "id": "89782e9c",
   "metadata": {},
   "outputs": [],
   "source": [
    "#2021-10\n",
    "rate['Occupancy Rate (2021-10)'].value_counts()"
   ]
  },
  {
   "cell_type": "code",
   "execution_count": null,
   "id": "4c93fb11",
   "metadata": {},
   "outputs": [],
   "source": [
    "#2021-10\n",
    "rate['Daily Rate (2021-10)'].value_counts(ascending=False)"
   ]
  },
  {
   "cell_type": "code",
   "execution_count": null,
   "id": "9e641301",
   "metadata": {},
   "outputs": [],
   "source": [
    "#2021-10\n",
    "rate['Revenue (2021-10)'].value_counts(ascending=False)"
   ]
  },
  {
   "cell_type": "code",
   "execution_count": null,
   "id": "faebd2b2",
   "metadata": {},
   "outputs": [],
   "source": [
    "#Pair Plot\n",
    "#sns.pairplot(rate)\n",
    "#plt.figure(figsize=(10,7))"
   ]
  },
  {
   "cell_type": "code",
   "execution_count": null,
   "id": "fed8ef94",
   "metadata": {},
   "outputs": [],
   "source": [
    "plt.figure(figsize=(10,6))\n",
    "rate.Bedrooms.hist();\n",
    "plt.title('Bedroom distribution');\n",
    "plt.xlabel('Number of Bedrooms');\n",
    "plt.ylabel('Count');"
   ]
  },
  {
   "cell_type": "code",
   "execution_count": null,
   "id": "66831359",
   "metadata": {},
   "outputs": [],
   "source": [
    "rate.info()"
   ]
  },
  {
   "cell_type": "code",
   "execution_count": null,
   "id": "85c30b0f",
   "metadata": {},
   "outputs": [],
   "source": [
    "#creating this second dataset so that we can try the predictions without compromsing the original dataset. \n",
    "\n",
    "rate2 = rate.copy()"
   ]
  },
  {
   "cell_type": "code",
   "execution_count": null,
   "id": "e8db56f6",
   "metadata": {},
   "outputs": [],
   "source": [
    "#mean all the Revenue, Occupancy and Daily Rate\n",
    "\n",
    "rate['daily_rate_mean'] = rate[['Daily Rate (2021-01)','Daily Rate (2021-02)', 'Daily Rate (2021-03)','Daily Rate (2021-04)', 'Daily Rate (2021-05)','Daily Rate (2021-06)', 'Daily Rate (2021-07)','Daily Rate (2021-08)', 'Daily Rate (2021-09)','Daily Rate (2021-10)', 'Daily Rate (2020-11)','Daily Rate (2020-12)']].mean(axis=1)\n",
    "\n",
    "rate['revenue_mean'] = rate[['Revenue (2020-11)','Revenue (2020-12)','Revenue (2021-01)','Revenue (2021-02)','Revenue (2021-03)','Revenue (2021-04)',          'Revenue (2021-05)','Revenue (2021-06)','Revenue (2021-07)','Revenue (2021-08)','Revenue (2021-09)','Revenue (2021-10)']].mean(axis=1)\n",
    "\n",
    "rate['occupancy_mean'] = rate[['Occupancy Rate (2020-11)','Occupancy Rate (2020-12)','Occupancy Rate (2021-01)','Occupancy Rate (2021-02)','Occupancy Rate (2021-03)','Occupancy Rate (2021-04)','Occupancy Rate (2021-05)','Occupancy Rate (2021-06)','Occupancy Rate (2021-07)','Occupancy Rate (2021-08)','Occupancy Rate (2021-09)','Occupancy Rate (2021-10)']].mean(axis=1)\n"
   ]
  },
  {
   "cell_type": "code",
   "execution_count": null,
   "id": "a24644fb",
   "metadata": {},
   "outputs": [],
   "source": [
    "rate = rate.drop(['Daily Rate (2021-01)','Daily Rate (2021-02)', 'Daily Rate (2021-03)','Daily Rate (2021-04)', 'Daily Rate (2021-05)','Daily Rate (2021-06)', 'Daily Rate (2021-07)','Daily Rate (2021-08)', 'Daily Rate (2021-09)','Daily Rate (2021-10)', 'Daily Rate (2020-11)','Daily Rate (2020-12)'], axis=1)\n",
    "rate = rate.drop(['Revenue (2020-11)','Revenue (2020-12)','Revenue (2021-01)','Revenue (2021-02)','Revenue (2021-03)','Revenue (2021-04)','Revenue (2021-05)','Revenue (2021-06)','Revenue (2021-07)','Revenue (2021-08)','Revenue (2021-09)','Revenue (2021-10)'], axis=1)\n",
    "rate = rate.drop(['Occupancy Rate (2020-11)','Occupancy Rate (2020-12)','Occupancy Rate (2021-01)','Occupancy Rate (2021-02)','Occupancy Rate (2021-03)','Occupancy Rate (2021-04)','Occupancy Rate (2021-05)','Occupancy Rate (2021-06)','Occupancy Rate (2021-07)','Occupancy Rate (2021-08)','Occupancy Rate (2021-09)','Occupancy Rate (2021-10)'], axis=1)\n",
    "\n",
    "                  "
   ]
  },
  {
   "cell_type": "code",
   "execution_count": null,
   "id": "8c3c6451",
   "metadata": {},
   "outputs": [],
   "source": [
    "rate.columns"
   ]
  },
  {
   "cell_type": "code",
   "execution_count": null,
   "id": "327a12f4",
   "metadata": {},
   "outputs": [],
   "source": [
    "#correlations - example \n",
    "\n",
    "rate.corr() # Whole correlation matrix\n",
    "rate.corr()['revenue_mean'] # Check correlations with outcome only\n",
    "sns.heatmap(rate.corr(), cmap=\"seismic\", annot=True, vmin=-1, vmax=1);"
   ]
  },
  {
   "cell_type": "code",
   "execution_count": null,
   "id": "8d1f99d4",
   "metadata": {},
   "outputs": [],
   "source": [
    "#correlations - example \n",
    "\n",
    "rate.corr() # Whole correlation matrix\n",
    "rate.corr()['daily_rate_mean'] # Check correlations with outcome only\n",
    "sns.heatmap(rate.corr(), cmap=\"seismic\", annot=True, vmin=-1, vmax=1);"
   ]
  },
  {
   "cell_type": "code",
   "execution_count": null,
   "id": "9d7f1595",
   "metadata": {},
   "outputs": [],
   "source": [
    "#correlations - example \n",
    "\n",
    "rate.corr() # Whole correlation matrix\n",
    "rate.corr()['occupancy_mean'] # Check correlations with outcome only\n",
    "sns.heatmap(rate.corr(), cmap=\"seismic\", annot=True, vmin=-1, vmax=1);"
   ]
  },
  {
   "cell_type": "code",
   "execution_count": null,
   "id": "2d5a3a7b",
   "metadata": {},
   "outputs": [],
   "source": [
    "# Import packages\n",
    "import pandas as pd\n",
    "import patsy\n",
    "import statsmodels.api as sm\n",
    "import statsmodels.formula.api as smf\n",
    "import statsmodels.api as sm\n",
    "from statsmodels.stats.outliers_influence import variance_inflation_factor\n",
    "from sklearn.preprocessing import StandardScaler, PolynomialFeatures\n",
    "from sklearn.model_selection import train_test_split\n",
    "from sklearn.linear_model import lars_path\n",
    "from sklearn.linear_model import LinearRegression, Lasso, LassoCV\n",
    "from sklearn.metrics import r2_score\n",
    "import scipy.stats as stats\n",
    "# Visualization\n",
    "import seaborn as sns\n",
    "import matplotlib.pyplot as plt\n",
    "%matplotlib inline"
   ]
  },
  {
   "cell_type": "code",
   "execution_count": null,
   "id": "d3da80f8",
   "metadata": {},
   "outputs": [],
   "source": [
    "sns.distplot(rate['daily_rate_mean'], kde=True,);\n",
    "fig = plt.figure()\n",
    "res = stats.probplot(rate['daily_rate_mean'], plot=plt)\n",
    "print(\"Skewness: %f\" % rate['daily_rate_mean'].skew())\n",
    "print(\"Kurtosis: %f\" % rate['daily_rate_mean'].kurt())\n",
    "\n",
    "#Need to review this as the dataset looks skewed "
   ]
  },
  {
   "cell_type": "markdown",
   "id": "222805cf",
   "metadata": {
    "scrolled": true
   },
   "source": [
    "**Predicting the Occupancy Rate**"
   ]
  },
  {
   "cell_type": "code",
   "execution_count": null,
   "id": "0ede6f01",
   "metadata": {},
   "outputs": [],
   "source": [
    "rate"
   ]
  },
  {
   "cell_type": "code",
   "execution_count": null,
   "id": "b730e82d",
   "metadata": {},
   "outputs": [],
   "source": [
    "rate.isnull().sum()"
   ]
  },
  {
   "cell_type": "code",
   "execution_count": null,
   "id": "da9e301a",
   "metadata": {},
   "outputs": [],
   "source": [
    "#If we have time we can merge rate and listing together for a prediction based on\n",
    "#https://www.kaggle.com/code/brittabettendorf/what-factors-influence-demand-eda-occupancy\n",
    "rate.fillna({'Bedrooms': '0'}, inplace = True)"
   ]
  },
  {
   "cell_type": "code",
   "execution_count": null,
   "id": "dc2de008",
   "metadata": {},
   "outputs": [],
   "source": [
    "#Dropping not needed columns for predicting the rate\n",
    "rate.drop(['Listing URL', 'Property Type', 'Has pool'], axis=1, inplace = True)"
   ]
  },
  {
   "cell_type": "code",
   "execution_count": null,
   "id": "e4009b4a",
   "metadata": {},
   "outputs": [],
   "source": [
    "X = rate.drop(['occupancy_mean'], axis=1).values\n",
    "y = rate['occupancy_mean'].values"
   ]
  },
  {
   "cell_type": "code",
   "execution_count": null,
   "id": "06da3295",
   "metadata": {},
   "outputs": [],
   "source": [
    "print(X)"
   ]
  },
  {
   "cell_type": "code",
   "execution_count": null,
   "id": "c42f17a4",
   "metadata": {},
   "outputs": [],
   "source": [
    "X_train, X_test, y_train, y_test = train_test_split(X,y,test_size = 0.2, random_state=0)"
   ]
  },
  {
   "cell_type": "code",
   "execution_count": null,
   "id": "db88ef94",
   "metadata": {},
   "outputs": [],
   "source": [
    "lr = LinearRegression()\n",
    "lr.fit(X_train, y_train)"
   ]
  },
  {
   "cell_type": "code",
   "execution_count": null,
   "id": "1aca7796",
   "metadata": {},
   "outputs": [],
   "source": [
    "y_pred = lr.predict(X_test)\n",
    "print(y_pred)"
   ]
  },
  {
   "cell_type": "code",
   "execution_count": null,
   "id": "b517f1c6",
   "metadata": {},
   "outputs": [],
   "source": [
    "#I am trying different possibilities using different variables, at the moment this one is only the occupancy_mean\n",
    "r2_score(y_test, y_pred)"
   ]
  },
  {
   "cell_type": "code",
   "execution_count": null,
   "id": "10b1c7ef",
   "metadata": {},
   "outputs": [],
   "source": [
    "plt.figure(figsize=(8,4))\n",
    "plt.scatter(y_test, y_pred)\n",
    "plt.xlabel('Occupancy at the moment')\n",
    "plt.ylabel('Occupancy predicted')\n",
    "plt.title('Occupancy rate')"
   ]
  },
  {
   "cell_type": "code",
   "execution_count": null,
   "id": "082364fc",
   "metadata": {},
   "outputs": [],
   "source": [
    "#Predicted values\n",
    "occu_rate = pd.DataFrame({'Current occupancy': y_test, 'Predicted occupancy': y_pred, 'Profit/Loss': y_test - y_pred})\n",
    "occu_rate"
   ]
  },
  {
   "cell_type": "code",
   "execution_count": null,
   "id": "74ad18bb",
   "metadata": {},
   "outputs": [],
   "source": [
    "#using the second dataset rate2 for another trial"
   ]
  },
  {
   "cell_type": "code",
   "execution_count": null,
   "id": "365696d8",
   "metadata": {},
   "outputs": [],
   "source": [
    "rate2"
   ]
  },
  {
   "cell_type": "code",
   "execution_count": null,
   "id": "b9868d94",
   "metadata": {},
   "outputs": [],
   "source": [
    "rate2.drop(['Extra Guest Fee', 'ExtravGuest Fee','Cleaning Fee', 'Daily Rate (2021-01)','Daily Rate (2021-02)', 'Daily Rate (2021-03)','Daily Rate (2021-04)', 'Daily Rate (2021-05)','Daily Rate (2021-06)', 'Daily Rate (2021-07)','Daily Rate (2021-08)', 'Daily Rate (2021-09)','Daily Rate (2021-10)', 'Daily Rate (2020-11)','Daily Rate (2020-12)','Revenue (2020-11)','Revenue (2020-12)','Revenue (2021-01)','Revenue (2021-02)','Revenue (2021-03)','Revenue (2021-04)','Revenue (2021-05)','Revenue (2021-06)','Revenue (2021-07)','Revenue (2021-08)','Revenue (2021-09)','Revenue (2021-10)' ''], axis=1, inplace = True)"
   ]
  },
  {
   "cell_type": "code",
   "execution_count": null,
   "id": "64112a44",
   "metadata": {},
   "outputs": [],
   "source": [
    "rate2.drop(['Listing URL', 'Property Type'], axis =1, inplace = True)"
   ]
  },
  {
   "cell_type": "code",
   "execution_count": null,
   "id": "8dd4e869",
   "metadata": {},
   "outputs": [],
   "source": [
    "rate2.drop(['Has pool'], axis = 1, inplace = True)"
   ]
  },
  {
   "cell_type": "code",
   "execution_count": null,
   "id": "46ad364c",
   "metadata": {},
   "outputs": [],
   "source": [
    "rate2.isnull().sum()"
   ]
  },
  {
   "cell_type": "code",
   "execution_count": null,
   "id": "d307ffc4",
   "metadata": {},
   "outputs": [],
   "source": [
    "rate2.fillna({'Bedrooms': '0'}, inplace = True)"
   ]
  },
  {
   "cell_type": "code",
   "execution_count": null,
   "id": "ecf6ecbd",
   "metadata": {},
   "outputs": [],
   "source": [
    "X = rate2.drop(['Occupancy Rate (2020-11)'], axis=1).values\n",
    "y = rate2['Occupancy Rate (2020-11)'].values"
   ]
  },
  {
   "cell_type": "code",
   "execution_count": null,
   "id": "a5e6e55a",
   "metadata": {},
   "outputs": [],
   "source": [
    "print(X)"
   ]
  },
  {
   "cell_type": "code",
   "execution_count": null,
   "id": "c86d5aef",
   "metadata": {},
   "outputs": [],
   "source": [
    "X_train, X_test, y_train, y_test = train_test_split(X,y,test_size = 0.3, random_state=0)"
   ]
  },
  {
   "cell_type": "code",
   "execution_count": null,
   "id": "a9f14375",
   "metadata": {},
   "outputs": [],
   "source": [
    "lr = LinearRegression()\n",
    "lr.fit(X_train, y_train)"
   ]
  },
  {
   "cell_type": "code",
   "execution_count": null,
   "id": "d345e211",
   "metadata": {},
   "outputs": [],
   "source": [
    "y_pred = lr.predict(X_test)"
   ]
  },
  {
   "cell_type": "code",
   "execution_count": null,
   "id": "aaf135ff",
   "metadata": {},
   "outputs": [],
   "source": [
    "#I am trying different possibilities using different variables, at the moment this one is only the occupancy_mean\n",
    "r2_score(y_test, y_pred)"
   ]
  },
  {
   "cell_type": "code",
   "execution_count": null,
   "id": "5b23cc5b",
   "metadata": {},
   "outputs": [],
   "source": [
    "lr.score(X_train, y_train)"
   ]
  },
  {
   "cell_type": "code",
   "execution_count": null,
   "id": "810531b0",
   "metadata": {},
   "outputs": [],
   "source": [
    "plt.figure(figsize=(8,4))\n",
    "plt.scatter(y_test, y_pred)\n",
    "plt.xlabel('Occupancy at the moment')\n",
    "plt.ylabel('Occupancy predicted')\n",
    "plt.title('Occupancy rate')"
   ]
  },
  {
   "cell_type": "code",
   "execution_count": null,
   "id": "e438e8d6",
   "metadata": {},
   "outputs": [],
   "source": [
    "#Predicted values\n",
    "occu_rate = pd.DataFrame({'Current occupancy': y_test, 'Predicted occupancy': y_pred, 'Profit/Loss': y_test - y_pred})\n",
    "occu_rate"
   ]
  },
  {
   "cell_type": "code",
   "execution_count": null,
   "id": "4f98487a",
   "metadata": {},
   "outputs": [],
   "source": [
    "from sklearn import linear_model\n",
    "\n",
    "lasso_reg = linear_model.Lasso(alpha=50, max_iter=100, tol=0.1)\n",
    "\n",
    "lasso_reg.fit(X_train, y_train)"
   ]
  },
  {
   "cell_type": "code",
   "execution_count": null,
   "id": "f3cdbdb4",
   "metadata": {},
   "outputs": [],
   "source": [
    "lasso_reg.score(X_test, y_test)"
   ]
  },
  {
   "cell_type": "code",
   "execution_count": null,
   "id": "7d52f44d",
   "metadata": {},
   "outputs": [],
   "source": [
    "lasso_reg.score(X_train, y_train)"
   ]
  },
  {
   "cell_type": "code",
   "execution_count": null,
   "id": "ef8ea433",
   "metadata": {},
   "outputs": [],
   "source": [
    "from sklearn.linear_model import Ridge\n",
    "\n",
    "ridge_reg = Ridge(alpha=50, max_iter=100, tol=0.1)\n",
    "\n",
    "ridge_reg.fit(X_train, y_train)"
   ]
  },
  {
   "cell_type": "code",
   "execution_count": null,
   "id": "bb5f7d2c",
   "metadata": {},
   "outputs": [],
   "source": [
    "ridge_reg.score(X_test, y_test)"
   ]
  },
  {
   "cell_type": "code",
   "execution_count": null,
   "id": "19b6c8b1",
   "metadata": {},
   "outputs": [],
   "source": [
    "ridge_reg.score(X_train, y_train)"
   ]
  },
  {
   "cell_type": "code",
   "execution_count": null,
   "id": "4e3068bd",
   "metadata": {},
   "outputs": [],
   "source": [
    "#https://jakevdp.github.io/PythonDataScienceHandbook/03.07-merge-and-join.html\n",
    "#http://insideairbnb.com/ireland/\n",
    "#https://public.opendatasoft.com/explore/dataset/airbnb-listings/export/?disjunctive.host_verifications&disjunctive.amenities&disjunctive.features&q=ireland\n",
    "#https://app.airbtics.com/airbnb-data/ireland/0/dublin\n",
    "#https://pandas.pydata.org/docs/reference/api/pandas.DataFrame.iloc.html\n",
    "#https://www.codegrepper.com/code-examples/python/convert+object+to+float64+pandas\n",
    "#https://scikit-learn.org/stable/modules/generated/sklearn.linear_model.LinearRegression.html\n",
    "#https://stackoverflow.com/questions/48190843/issue-defining-kneighborsclassifier-in-jupyter-notebooks\n",
    "#https://realpython.com/linear-regression-in-python/\n",
    "#https://huggingface.co/docs/transformers/v4.18.0/en/installation\n",
    "#https://huggingface.co/docs/transformers/tokenizer_summary\n",
    "#https://realpython.com/pandas-merge-join-and-concat/\n",
    "#https://www.shanelynn.ie/merge-join-dataframes-python-pandas-index-1/\n",
    "#https://stackoverflow.com/questions/49188960/how-to-show-all-columns-names-on-a-large-pandas-dataframe\n",
    "#https://www.stackvidhya.com/add-row-to-dataframe/#:~:text=You%20can%20add%20rows%20to,append()\n",
    "#https://jakevdp.github.io/PythonDataScienceHandbook/03.07-merge-and-join.html#:~:text=2014-,The%20pd.,information%20from%20the%20two%20inputs.\n"
   ]
  }
 ],
 "metadata": {
  "kernelspec": {
   "display_name": "Python 3 (ipykernel)",
   "language": "python",
   "name": "python3"
  },
  "language_info": {
   "codemirror_mode": {
    "name": "ipython",
    "version": 3
   },
   "file_extension": ".py",
   "mimetype": "text/x-python",
   "name": "python",
   "nbconvert_exporter": "python",
   "pygments_lexer": "ipython3",
   "version": "3.8.12"
  }
 },
 "nbformat": 4,
 "nbformat_minor": 5
}
